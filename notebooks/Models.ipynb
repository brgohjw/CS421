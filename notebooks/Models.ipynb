{
 "cells": [
  {
   "cell_type": "markdown",
   "metadata": {},
   "source": [
    "# Import Libraries"
   ]
  },
  {
   "cell_type": "code",
   "execution_count": 1,
   "metadata": {},
   "outputs": [
    {
     "name": "stderr",
     "output_type": "stream",
     "text": [
      "/Users/Amey/anaconda3/lib/python3.6/site-packages/h5py/__init__.py:36: FutureWarning: Conversion of the second argument of issubdtype from `float` to `np.floating` is deprecated. In future, it will be treated as `np.float64 == np.dtype(float).type`.\n",
      "  from ._conv import register_converters as _register_converters\n",
      "/Users/Amey/anaconda3/lib/python3.6/site-packages/tensorboard/compat/tensorflow_stub/dtypes.py:541: FutureWarning: Passing (type, 1) or '1type' as a synonym of type is deprecated; in a future version of numpy, it will be understood as (type, (1,)) / '(1,)type'.\n",
      "  _np_qint8 = np.dtype([(\"qint8\", np.int8, 1)])\n",
      "/Users/Amey/anaconda3/lib/python3.6/site-packages/tensorboard/compat/tensorflow_stub/dtypes.py:542: FutureWarning: Passing (type, 1) or '1type' as a synonym of type is deprecated; in a future version of numpy, it will be understood as (type, (1,)) / '(1,)type'.\n",
      "  _np_quint8 = np.dtype([(\"quint8\", np.uint8, 1)])\n",
      "/Users/Amey/anaconda3/lib/python3.6/site-packages/tensorboard/compat/tensorflow_stub/dtypes.py:543: FutureWarning: Passing (type, 1) or '1type' as a synonym of type is deprecated; in a future version of numpy, it will be understood as (type, (1,)) / '(1,)type'.\n",
      "  _np_qint16 = np.dtype([(\"qint16\", np.int16, 1)])\n",
      "/Users/Amey/anaconda3/lib/python3.6/site-packages/tensorboard/compat/tensorflow_stub/dtypes.py:544: FutureWarning: Passing (type, 1) or '1type' as a synonym of type is deprecated; in a future version of numpy, it will be understood as (type, (1,)) / '(1,)type'.\n",
      "  _np_quint16 = np.dtype([(\"quint16\", np.uint16, 1)])\n",
      "/Users/Amey/anaconda3/lib/python3.6/site-packages/tensorboard/compat/tensorflow_stub/dtypes.py:545: FutureWarning: Passing (type, 1) or '1type' as a synonym of type is deprecated; in a future version of numpy, it will be understood as (type, (1,)) / '(1,)type'.\n",
      "  _np_qint32 = np.dtype([(\"qint32\", np.int32, 1)])\n",
      "/Users/Amey/anaconda3/lib/python3.6/site-packages/tensorboard/compat/tensorflow_stub/dtypes.py:550: FutureWarning: Passing (type, 1) or '1type' as a synonym of type is deprecated; in a future version of numpy, it will be understood as (type, (1,)) / '(1,)type'.\n",
      "  np_resource = np.dtype([(\"resource\", np.ubyte, 1)])\n",
      "Using TensorFlow backend.\n"
     ]
    }
   ],
   "source": [
    "# Import all libraries \n",
    "import pandas as pd\n",
    "import numpy as np \n",
    "import matplotlib.pyplot as plt\n",
    "import re\n",
    "import datetime as dt\n",
    "from datetime import timedelta\n",
    "from dateutil import parser\n",
    "import os\n",
    "import pydot\n",
    "from sklearn import model_selection, preprocessing\n",
    "from sklearn.model_selection import train_test_split, GridSearchCV\n",
    "from sklearn.feature_extraction.text import CountVectorizer, TfidfTransformer, TfidfVectorizer\n",
    "from sklearn import metrics\n",
    "from sklearn.metrics import accuracy_score, confusion_matrix, classification_report\n",
    "from sklearn.naive_bayes import MultinomialNB\n",
    "from sklearn.linear_model import LogisticRegression, LinearRegression, Lasso, Ridge\n",
    "from sklearn.pipeline import Pipeline\n",
    "from sklearn.ensemble import RandomForestClassifier\n",
    "from sklearn.svm import LinearSVC, SVC\n",
    "from gensim.models import Word2Vec\n",
    "from sklearn.decomposition import PCA\n",
    "import tensorflow as tf\n",
    "from tensorflow import keras\n",
    "from tensorflow.keras import layers\n",
    "from tensorflow.keras.layers import Embedding\n",
    "from tensorflow.keras.utils import plot_model\n",
    "from keras.wrappers.scikit_learn import KerasClassifier\n",
    "from lightgbm import LGBMClassifier\n",
    "from imblearn.over_sampling import SMOTE\n",
    "import random"
   ]
  },
  {
   "cell_type": "code",
   "execution_count": 35,
   "metadata": {},
   "outputs": [],
   "source": [
    "master_df = pd.read_csv('../data/master_data_SATM.csv')"
   ]
  },
  {
   "cell_type": "code",
   "execution_count": 28,
   "metadata": {},
   "outputs": [
    {
     "name": "stdout",
     "output_type": "stream",
     "text": [
      "<class 'pandas.core.frame.DataFrame'>\n",
      "RangeIndex: 2246 entries, 0 to 2245\n",
      "Data columns (total 25 columns):\n",
      " #   Column                   Non-Null Count  Dtype  \n",
      "---  ------                   --------------  -----  \n",
      " 0   id                       2246 non-null   float64\n",
      " 1   text                     2246 non-null   object \n",
      " 2   favorites                2246 non-null   int64  \n",
      " 3   retweets                 2246 non-null   int64  \n",
      " 4   date                     2246 non-null   object \n",
      " 5   tweet_datetime           2246 non-null   object \n",
      " 6   date_part                2246 non-null   object \n",
      " 7   time_part                2246 non-null   object \n",
      " 8   hour                     2246 non-null   int64  \n",
      " 9   year                     2246 non-null   int64  \n",
      " 10  month                    2246 non-null   int64  \n",
      " 11  text_topic_modelling     2197 non-null   object \n",
      " 12  text_EDA                 2246 non-null   object \n",
      " 13  text_sentiment_analysis  2212 non-null   object \n",
      " 14  text_LSTM                2200 non-null   object \n",
      " 15  60mins_price_diff_abs    2246 non-null   float64\n",
      " 16  60mins_price_diff_perc   2246 non-null   float64\n",
      " 17  45mins_price_diff_abs    2246 non-null   float64\n",
      " 18  45mins_price_diff_perc   2246 non-null   float64\n",
      " 19  30mins_price_diff_abs    2246 non-null   float64\n",
      " 20  30mins_price_diff_perc   2246 non-null   float64\n",
      " 21  15mins_price_diff_abs    2246 non-null   float64\n",
      " 22  15mins_price_diff_perc   2246 non-null   float64\n",
      " 23  compound                 2246 non-null   float64\n",
      " 24  topic                    2246 non-null   int64  \n",
      "dtypes: float64(10), int64(6), object(9)\n",
      "memory usage: 438.8+ KB\n"
     ]
    }
   ],
   "source": [
    "master_df.info()"
   ]
  },
  {
   "cell_type": "code",
   "execution_count": 4,
   "metadata": {},
   "outputs": [
    {
     "data": {
      "text/html": [
       "<div>\n",
       "<style scoped>\n",
       "    .dataframe tbody tr th:only-of-type {\n",
       "        vertical-align: middle;\n",
       "    }\n",
       "\n",
       "    .dataframe tbody tr th {\n",
       "        vertical-align: top;\n",
       "    }\n",
       "\n",
       "    .dataframe thead th {\n",
       "        text-align: right;\n",
       "    }\n",
       "</style>\n",
       "<table border=\"1\" class=\"dataframe\">\n",
       "  <thead>\n",
       "    <tr style=\"text-align: right;\">\n",
       "      <th></th>\n",
       "      <th>id</th>\n",
       "      <th>text</th>\n",
       "      <th>favorites</th>\n",
       "      <th>retweets</th>\n",
       "      <th>date</th>\n",
       "      <th>tweet_datetime</th>\n",
       "      <th>date_part</th>\n",
       "      <th>time_part</th>\n",
       "      <th>hour</th>\n",
       "      <th>year</th>\n",
       "      <th>...</th>\n",
       "      <th>60mins_price_diff_abs</th>\n",
       "      <th>60mins_price_diff_perc</th>\n",
       "      <th>45mins_price_diff_abs</th>\n",
       "      <th>45mins_price_diff_perc</th>\n",
       "      <th>30mins_price_diff_abs</th>\n",
       "      <th>30mins_price_diff_perc</th>\n",
       "      <th>15mins_price_diff_abs</th>\n",
       "      <th>15mins_price_diff_perc</th>\n",
       "      <th>compound</th>\n",
       "      <th>topic</th>\n",
       "    </tr>\n",
       "  </thead>\n",
       "  <tbody>\n",
       "    <tr>\n",
       "      <th>0</th>\n",
       "      <td>9.353400e+17</td>\n",
       "      <td>Thank you Rand! https://t.co/NvPeleVmub</td>\n",
       "      <td>42793</td>\n",
       "      <td>9125</td>\n",
       "      <td>2017-11-28 02:50:00</td>\n",
       "      <td>2017-11-28 10:50:00</td>\n",
       "      <td>2017-11-28</td>\n",
       "      <td>10:50:00</td>\n",
       "      <td>10</td>\n",
       "      <td>2017</td>\n",
       "      <td>...</td>\n",
       "      <td>0.385000</td>\n",
       "      <td>0.001475</td>\n",
       "      <td>0.115000</td>\n",
       "      <td>0.000440</td>\n",
       "      <td>-0.010000</td>\n",
       "      <td>-0.000038</td>\n",
       "      <td>0.050000</td>\n",
       "      <td>0.000191</td>\n",
       "      <td>0.4199</td>\n",
       "      <td>1</td>\n",
       "    </tr>\n",
       "    <tr>\n",
       "      <th>1</th>\n",
       "      <td>8.997980e+17</td>\n",
       "      <td>Join me live from Fort Myer in Arlington, Virg...</td>\n",
       "      <td>36009</td>\n",
       "      <td>4891</td>\n",
       "      <td>2017-08-22 01:00:00</td>\n",
       "      <td>2017-08-22 09:00:00</td>\n",
       "      <td>2017-08-22</td>\n",
       "      <td>09:00:00</td>\n",
       "      <td>9</td>\n",
       "      <td>2017</td>\n",
       "      <td>...</td>\n",
       "      <td>0.590000</td>\n",
       "      <td>0.002421</td>\n",
       "      <td>0.590000</td>\n",
       "      <td>0.002421</td>\n",
       "      <td>-0.090000</td>\n",
       "      <td>-0.000369</td>\n",
       "      <td>-0.040000</td>\n",
       "      <td>-0.000164</td>\n",
       "      <td>0.2960</td>\n",
       "      <td>1</td>\n",
       "    </tr>\n",
       "    <tr>\n",
       "      <th>2</th>\n",
       "      <td>8.939700e+17</td>\n",
       "      <td>Thank you Nicole! https://t.co/KlWN05uFOx</td>\n",
       "      <td>43367</td>\n",
       "      <td>8275</td>\n",
       "      <td>2017-05-08 23:01:00</td>\n",
       "      <td>2017-05-09 07:01:00</td>\n",
       "      <td>2017-05-09</td>\n",
       "      <td>07:01:00</td>\n",
       "      <td>7</td>\n",
       "      <td>2017</td>\n",
       "      <td>...</td>\n",
       "      <td>0.065000</td>\n",
       "      <td>0.000271</td>\n",
       "      <td>0.015000</td>\n",
       "      <td>0.000063</td>\n",
       "      <td>0.085000</td>\n",
       "      <td>0.000354</td>\n",
       "      <td>0.065000</td>\n",
       "      <td>0.000271</td>\n",
       "      <td>0.4199</td>\n",
       "      <td>1</td>\n",
       "    </tr>\n",
       "    <tr>\n",
       "      <th>3</th>\n",
       "      <td>8.819770e+17</td>\n",
       "      <td>Thank you to Shawn Steel for the nice words on...</td>\n",
       "      <td>50956</td>\n",
       "      <td>7465</td>\n",
       "      <td>2017-03-07 20:44:00</td>\n",
       "      <td>2017-03-08 04:44:00</td>\n",
       "      <td>2017-03-08</td>\n",
       "      <td>04:44:00</td>\n",
       "      <td>4</td>\n",
       "      <td>2017</td>\n",
       "      <td>...</td>\n",
       "      <td>0.142857</td>\n",
       "      <td>0.000603</td>\n",
       "      <td>0.096000</td>\n",
       "      <td>0.000405</td>\n",
       "      <td>0.130000</td>\n",
       "      <td>0.000549</td>\n",
       "      <td>0.035000</td>\n",
       "      <td>0.000148</td>\n",
       "      <td>0.6486</td>\n",
       "      <td>2</td>\n",
       "    </tr>\n",
       "    <tr>\n",
       "      <th>4</th>\n",
       "      <td>8.787250e+17</td>\n",
       "      <td>MAKE AMERICA GREAT AGAIN!</td>\n",
       "      <td>134210</td>\n",
       "      <td>36346</td>\n",
       "      <td>2017-06-24 21:23:00</td>\n",
       "      <td>2017-06-25 05:23:00</td>\n",
       "      <td>2017-06-25</td>\n",
       "      <td>05:23:00</td>\n",
       "      <td>5</td>\n",
       "      <td>2017</td>\n",
       "      <td>...</td>\n",
       "      <td>0.005714</td>\n",
       "      <td>0.000023</td>\n",
       "      <td>0.004286</td>\n",
       "      <td>0.000018</td>\n",
       "      <td>0.002857</td>\n",
       "      <td>0.000012</td>\n",
       "      <td>0.001429</td>\n",
       "      <td>0.000006</td>\n",
       "      <td>0.6588</td>\n",
       "      <td>6</td>\n",
       "    </tr>\n",
       "  </tbody>\n",
       "</table>\n",
       "<p>5 rows × 25 columns</p>\n",
       "</div>"
      ],
      "text/plain": [
       "             id                                               text  favorites  \\\n",
       "0  9.353400e+17            Thank you Rand! https://t.co/NvPeleVmub      42793   \n",
       "1  8.997980e+17  Join me live from Fort Myer in Arlington, Virg...      36009   \n",
       "2  8.939700e+17          Thank you Nicole! https://t.co/KlWN05uFOx      43367   \n",
       "3  8.819770e+17  Thank you to Shawn Steel for the nice words on...      50956   \n",
       "4  8.787250e+17                          MAKE AMERICA GREAT AGAIN!     134210   \n",
       "\n",
       "   retweets                 date       tweet_datetime   date_part time_part  \\\n",
       "0      9125  2017-11-28 02:50:00  2017-11-28 10:50:00  2017-11-28  10:50:00   \n",
       "1      4891  2017-08-22 01:00:00  2017-08-22 09:00:00  2017-08-22  09:00:00   \n",
       "2      8275  2017-05-08 23:01:00  2017-05-09 07:01:00  2017-05-09  07:01:00   \n",
       "3      7465  2017-03-07 20:44:00  2017-03-08 04:44:00  2017-03-08  04:44:00   \n",
       "4     36346  2017-06-24 21:23:00  2017-06-25 05:23:00  2017-06-25  05:23:00   \n",
       "\n",
       "   hour  year  ...  60mins_price_diff_abs 60mins_price_diff_perc  \\\n",
       "0    10  2017  ...               0.385000               0.001475   \n",
       "1     9  2017  ...               0.590000               0.002421   \n",
       "2     7  2017  ...               0.065000               0.000271   \n",
       "3     4  2017  ...               0.142857               0.000603   \n",
       "4     5  2017  ...               0.005714               0.000023   \n",
       "\n",
       "  45mins_price_diff_abs 45mins_price_diff_perc 30mins_price_diff_abs  \\\n",
       "0              0.115000               0.000440             -0.010000   \n",
       "1              0.590000               0.002421             -0.090000   \n",
       "2              0.015000               0.000063              0.085000   \n",
       "3              0.096000               0.000405              0.130000   \n",
       "4              0.004286               0.000018              0.002857   \n",
       "\n",
       "   30mins_price_diff_perc  15mins_price_diff_abs  15mins_price_diff_perc  \\\n",
       "0               -0.000038               0.050000                0.000191   \n",
       "1               -0.000369              -0.040000               -0.000164   \n",
       "2                0.000354               0.065000                0.000271   \n",
       "3                0.000549               0.035000                0.000148   \n",
       "4                0.000012               0.001429                0.000006   \n",
       "\n",
       "   compound  topic  \n",
       "0    0.4199      1  \n",
       "1    0.2960      1  \n",
       "2    0.4199      1  \n",
       "3    0.6486      2  \n",
       "4    0.6588      6  \n",
       "\n",
       "[5 rows x 25 columns]"
      ]
     },
     "execution_count": 4,
     "metadata": {},
     "output_type": "execute_result"
    }
   ],
   "source": [
    "master_df.head()"
   ]
  },
  {
   "cell_type": "markdown",
   "metadata": {},
   "source": [
    "# 1. Regression"
   ]
  },
  {
   "cell_type": "markdown",
   "metadata": {},
   "source": [
    "## Linear Regression"
   ]
  },
  {
   "cell_type": "code",
   "execution_count": 5,
   "metadata": {},
   "outputs": [],
   "source": [
    "dummy_topics = pd.get_dummies(master_df['topic'])\n",
    "\n",
    "X_lr = pd.concat([master_df.loc[:, ['compound', 'favorites', 'retweets']], dummy_topics], axis=1)\n",
    "y_lr = master_df.loc[:, '60mins_price_diff_abs']"
   ]
  },
  {
   "cell_type": "code",
   "execution_count": 6,
   "metadata": {},
   "outputs": [],
   "source": [
    "# Removing correlated features\n",
    "\n",
    "correlated_features = set()\n",
    "correlation_matrix = X_lr.corr()\n",
    "\n",
    "for i in range(len(correlation_matrix.columns)):\n",
    "    for j in range(i):\n",
    "        if abs(correlation_matrix.iloc[i, j]) > 0.8:\n",
    "            colname = correlation_matrix.columns[i]\n",
    "            correlated_features.add(colname)\n",
    "            \n",
    "X_lr.drop(labels=correlated_features, axis=1, inplace=True)"
   ]
  },
  {
   "cell_type": "code",
   "execution_count": 7,
   "metadata": {},
   "outputs": [],
   "source": [
    "# Train test split and resampling\n",
    "\n",
    "X_train_lr, X_test_lr, y_train_lr, y_test_lr = model_selection.train_test_split(X_lr, y_lr, test_size = 0.33, random_state = 2020)\n"
   ]
  },
  {
   "cell_type": "code",
   "execution_count": 8,
   "metadata": {},
   "outputs": [
    {
     "name": "stdout",
     "output_type": "stream",
     "text": [
      "Linear metrics for stock price 60 mins after tweet\n",
      "Linear score: -0.007795931488358665\n",
      "Linear MSE 1.0077959314883587\n",
      "[ 0.0181782   0.0243723   0.02401412  0.02799019 -0.00244868 -0.00612251\n",
      " -0.00676062 -0.01897089 -0.04155745  0.01654451 -0.01743998  0.02764934] \n",
      "\n",
      "----------------------------------------------------------------\n",
      "Ridge and Lasso metrics for stock price 60 mins after tweet\n",
      "Alpha =  1e-05\n",
      "Lasso score: -0.007831769235890018\n",
      "Lasso MSE 1.0077959314883587\n",
      "Lasso coefs: [ 0.01816063  0.02436169  0.0315953   0.03359443  0.00195138 -0.\n",
      " -0.00037844 -0.01408171 -0.0355264   0.02310347 -0.01194847  0.030592  ] \n",
      "\n",
      "Ridge score: -0.007795931412734269\n",
      "Ridge MSE 1.0077959314883587\n",
      "Ridge coefs: [ 0.0181782   0.0243723   0.02401412  0.02799019 -0.00244868 -0.00612251\n",
      " -0.00676062 -0.01897089 -0.04155745  0.01654451 -0.01743998  0.02764934] \n",
      "\n",
      "----------------------------------------------------------------\n",
      "Alpha =  0.0001\n",
      "Lasso score: -0.007780232425700584\n",
      "Lasso MSE 1.0077959314883587\n",
      "Lasso coefs: [ 0.01800249  0.02426616  0.03144166  0.03346867  0.00181393 -0.\n",
      " -0.00036154 -0.01403408 -0.03548996  0.02291794 -0.01193481  0.03047581] \n",
      "\n",
      "Ridge score: -0.007795930626331549\n",
      "Ridge MSE 1.0077959314883587\n",
      "Ridge coefs: [ 0.01817819  0.0243723   0.02401412  0.02799019 -0.00244868 -0.00612251\n",
      " -0.00676062 -0.01897089 -0.04155745  0.01654451 -0.01743998  0.02764934] \n",
      "\n",
      "----------------------------------------------------------------\n",
      "Alpha =  0.001\n",
      "Lasso score: -0.007276923589510709\n",
      "Lasso MSE 1.0077959314883587\n",
      "Lasso coefs: [ 0.01641977  0.02331268  0.02995038  0.03224384  0.00046418 -0.\n",
      " -0.00015773 -0.01353136 -0.03509414  0.02109483 -0.01177189  0.02932811] \n",
      "\n",
      "Ridge score: -0.007795922858118587\n",
      "Ridge MSE 1.0077959314883587\n",
      "Ridge coefs: [ 0.01817818  0.02437228  0.02401411  0.02799017 -0.00244868 -0.00612251\n",
      " -0.00676061 -0.01897088 -0.04155743  0.01654449 -0.01743997  0.02764932] \n",
      "\n",
      "----------------------------------------------------------------\n",
      "Alpha =  0.01\n",
      "Lasso score: -0.004387027269279198\n",
      "Lasso MSE 1.0077959314883587\n",
      "Lasso coefs: [ 0.00193486  0.01305816  0.01827189  0.02211103 -0.         -0.\n",
      " -0.         -0.0066131  -0.02880238  0.00611079 -0.00762087  0.01909812] \n",
      "\n",
      "Ridge score: -0.007795845185936123\n",
      "Ridge MSE 1.0077959314883587\n",
      "Ridge coefs: [ 0.01817799  0.02437212  0.02401399  0.02799003 -0.00244867 -0.00612247\n",
      " -0.00676057 -0.01897076 -0.04155719  0.01654436 -0.01743989  0.02764916] \n",
      "\n",
      "----------------------------------------------------------------\n",
      "Alpha =  0.1\n",
      "Lasso score: 0.0\n",
      "Lasso MSE 1.0077959314883587\n",
      "Lasso coefs: [ 0.  0.  0.  0. -0. -0. -0. -0. -0.  0. -0.  0.] \n",
      "\n",
      "Ridge score: -0.007795068537487682\n",
      "Ridge MSE 1.0077959314883587\n",
      "Ridge coefs: [ 0.01817609  0.02437051  0.02401279  0.02798863 -0.00244858 -0.00612211\n",
      " -0.00676016 -0.01896955 -0.04155477  0.01654306 -0.01743906  0.02764757] \n",
      "\n",
      "----------------------------------------------------------------\n"
     ]
    }
   ],
   "source": [
    "# Normalize all values\n",
    "X_train_lr = preprocessing.scale(X_train_lr)\n",
    "y_train_lr = preprocessing.scale(y_train_lr)\n",
    "X_test_lr = preprocessing.scale(X_test_lr)\n",
    "y_test_lr = preprocessing.scale(y_test_lr)\n",
    "\n",
    "# Linear regression\n",
    "regr = LinearRegression()\n",
    "regr.fit(X_train_lr, y_train_lr)\n",
    "\n",
    "y_pred_lr = regr.predict(X_test_lr)\n",
    "print('Linear metrics for stock price 60 mins after tweet')\n",
    "print('Linear score:', regr.score(X_test_lr, y_test_lr))\n",
    "print('Linear MSE', metrics.mean_squared_error(y_test_lr, y_pred_lr))\n",
    "print(regr.coef_, '\\n')\n",
    "\n",
    "print('-'*64)\n",
    "\n",
    "num_C = 5\n",
    "C = [1.0] * num_C\n",
    "for i in range(num_C):\n",
    "    C[i] = pow(10, i-5)\n",
    "print('Ridge and Lasso metrics for stock price 60 mins after tweet')\n",
    "for i in range(5):\n",
    "    # Lasso Regression\n",
    "    lasso = Lasso(alpha = C[i])\n",
    "    lasso.fit(X_train_lr, y_train_lr)\n",
    "    y_pred = regr.predict(X_test_lr)\n",
    "    print('Alpha = ', C[i])\n",
    "    print('Lasso score:', lasso.score(X_test_lr, y_test_lr))\n",
    "    print('Lasso MSE', metrics.mean_squared_error(y_test_lr, y_pred_lr))\n",
    "    print('Lasso coefs:', lasso.coef_, '\\n')\n",
    "    \n",
    "    # Ridge regression\n",
    "    ridge = Ridge(alpha = C[i])\n",
    "    ridge.fit(X_train_lr, y_train_lr)\n",
    "    y_pred_lr = regr.predict(X_test_lr)\n",
    "    print('Ridge score:', ridge.score(X_test_lr, y_test_lr))\n",
    "    print('Ridge MSE', metrics.mean_squared_error(y_test_lr, y_pred_lr))\n",
    "    print('Ridge coefs:', ridge.coef_, '\\n')\n",
    "    print('-'*64)"
   ]
  },
  {
   "cell_type": "markdown",
   "metadata": {},
   "source": [
    "# LSTM Regression"
   ]
  },
  {
   "cell_type": "markdown",
   "metadata": {},
   "source": [
    "## Model A: Word Vectors as Input"
   ]
  },
  {
   "cell_type": "markdown",
   "metadata": {},
   "source": [
    "### Method 1: Using Word2Vec word embedding"
   ]
  },
  {
   "cell_type": "code",
   "execution_count": 384,
   "metadata": {},
   "outputs": [],
   "source": [
    "lstm_reg_a_df = master_df.dropna(subset=['text_LSTM'])\n",
    "\n",
    "X_lstm_reg_a = lstm_reg_a_df.loc[:, 'text_LSTM']\n",
    "y_lstm_reg_a = lstm_reg_a_df.loc[:, '60mins_price_diff_abs']"
   ]
  },
  {
   "cell_type": "code",
   "execution_count": 385,
   "metadata": {},
   "outputs": [],
   "source": [
    "X_train_lstm_reg_a, X_test_lstm_reg_a, y_train_lstm_reg_a, y_test_lstm_reg_a = train_test_split(X_lstm_reg_a, y_lstm_reg_a, test_size=0.33, random_state=2020)"
   ]
  },
  {
   "cell_type": "code",
   "execution_count": 386,
   "metadata": {},
   "outputs": [],
   "source": [
    "# Add words into corpus list\n",
    "lstm_reg_a_w2v_corpus_list = []\n",
    "\n",
    "for i in X_train_lstm_reg_a:\n",
    "    lstm_reg_a_w2v_corpus_list.append(i.split())\n",
    "    \n",
    "# Train Word2Vec\n",
    "lstm_reg_a_w2v_model = Word2Vec(lstm_reg_a_w2v_corpus_list, min_count=1, size=100)\n",
    "lstm_reg_a_w2v_weights = lstm_reg_a_w2v_model.wv.vectors\n",
    "\n",
    "# Find length of longest sentence (for padding later on)\n",
    "lstm_reg_a_w2v_num_words = [len(i) for i in lstm_reg_a_w2v_corpus_list]\n",
    "lstm_reg_a_w2v_longest_sentence_len = max(lstm_reg_a_w2v_num_words)\n",
    "\n",
    "# Pad sentences that are shorter than length of longest sentence in training data\n",
    "def word2vec_sentence_to_indices_padded(sentences, longest_sentence_len, word2vec_model):\n",
    "    result = []\n",
    "    for sentence in sentences:\n",
    "        indices = []\n",
    "        sentence_splitted = str(sentence).split()\n",
    "        for word in sentence_splitted:\n",
    "            if word in word2vec_model.wv.vocab:\n",
    "                indices.append(word2vec_model.wv.vocab[word].index)\n",
    "        result.append(indices)\n",
    "    return keras.preprocessing.sequence.pad_sequences(result, maxlen=longest_sentence_len, padding='pre')\n",
    "\n",
    "X_train_lstm_reg_a_w2v_padded = word2vec_sentence_to_indices_padded(X_train_lstm_reg_a, lstm_reg_a_w2v_longest_sentence_len, lstm_reg_a_w2v_model)\n",
    "X_test_lstm_reg_a_w2v_padded = word2vec_sentence_to_indices_padded(X_test_lstm_reg_a, lstm_reg_a_w2v_longest_sentence_len, lstm_reg_a_w2v_model)"
   ]
  },
  {
   "cell_type": "code",
   "execution_count": 387,
   "metadata": {},
   "outputs": [],
   "source": [
    "def create_lstm_reg_a_w2v(pretrained_weights, longest_sentence_len):\n",
    "    vocab_size, embedding_size = pretrained_weights.shape\n",
    "    model = tf.keras.Sequential()\n",
    "    model.add(layers.Input(shape=longest_sentence_len, dtype='int32'))\n",
    "    model.add(layers.Embedding(input_dim=vocab_size, output_dim=embedding_size, weights=[pretrained_weights], trainable=False))  \n",
    "    model.add(layers.LSTM(4, return_sequences=True, name='LSTM1'))\n",
    "    model.add(layers.Dropout(0.2,name='Dropout1'))\n",
    "    model.add(layers.LSTM(4, return_sequences=False, name='LSTM2'))\n",
    "    model.add(layers.Dropout(0.2,name='Dropout2'))\n",
    "    model.add(layers.Dense(4,name='Dense',activation='tanh'))\n",
    "    model.add(layers.Dropout(0.1))\n",
    "    model.add(layers.Dense(1,activation='linear'))\n",
    "    return model"
   ]
  },
  {
   "cell_type": "code",
   "execution_count": 388,
   "metadata": {},
   "outputs": [
    {
     "name": "stdout",
     "output_type": "stream",
     "text": [
      "Model: \"sequential_15\"\n",
      "_________________________________________________________________\n",
      "Layer (type)                 Output Shape              Param #   \n",
      "=================================================================\n",
      "embedding_20 (Embedding)     (None, 100, 100)          433600    \n",
      "_________________________________________________________________\n",
      "LSTM1 (LSTM)                 (None, 100, 4)            1680      \n",
      "_________________________________________________________________\n",
      "Dropout1 (Dropout)           (None, 100, 4)            0         \n",
      "_________________________________________________________________\n",
      "LSTM2 (LSTM)                 (None, 4)                 144       \n",
      "_________________________________________________________________\n",
      "Dropout2 (Dropout)           (None, 4)                 0         \n",
      "_________________________________________________________________\n",
      "Dense (Dense)                (None, 4)                 20        \n",
      "_________________________________________________________________\n",
      "dropout_29 (Dropout)         (None, 4)                 0         \n",
      "_________________________________________________________________\n",
      "dense_29 (Dense)             (None, 1)                 5         \n",
      "=================================================================\n",
      "Total params: 435,449\n",
      "Trainable params: 1,849\n",
      "Non-trainable params: 433,600\n",
      "_________________________________________________________________\n"
     ]
    }
   ],
   "source": [
    "lstm_reg_a_w2v_ann = create_lstm_reg_a_w2v(lstm_reg_a_w2v_weights, lstm_reg_a_w2v_longest_sentence_len)\n",
    "opt = tf.keras.optimizers.Adam(learning_rate=0.001)\n",
    "lstm_reg_a_w2v_ann.compile(optimizer=opt, loss='mean_squared_error', metrics=['mae'])\n",
    "lstm_reg_a_w2v_ann.summary()"
   ]
  },
  {
   "cell_type": "code",
   "execution_count": 389,
   "metadata": {},
   "outputs": [
    {
     "data": {
      "image/png": "[encoded data removed]",
      "text/plain": [
       "<IPython.core.display.Image object>"
      ]
     },
     "execution_count": 389,
     "metadata": {},
     "output_type": "execute_result"
    }
   ],
   "source": [
    "plot_model(\n",
    "    lstm_reg_a_w2v_ann,\n",
    "    to_file=\"../data/lstm_reg_a_w2v_ann.png\",\n",
    "    show_shapes=False,\n",
    "    show_layer_names=True,\n",
    "    rankdir=\"TB\"\n",
    ")"
   ]
  },
  {
   "cell_type": "code",
   "execution_count": 390,
   "metadata": {},
   "outputs": [
    {
     "name": "stdout",
     "output_type": "stream",
     "text": [
      "Train on 987 samples, validate on 487 samples\n",
      "Epoch 1/30\n",
      "960/987 [============================>.] - ETA: 0s - loss: 0.2051 - mae: 0.2362\n",
      "Epoch 00001: val_loss improved from inf to 0.19052, saving model to ./lstm_reg_a_w2v/lstm_reg_a_w2v_20112020 1607h.h5\n",
      "987/987 [==============================] - 6s 6ms/sample - loss: 0.2023 - mae: 0.2347 - val_loss: 0.1905 - val_mae: 0.2159\n",
      "Epoch 2/30\n",
      "960/987 [============================>.] - ETA: 0s - loss: 0.2041 - mae: 0.2210\n",
      "Epoch 00002: val_loss improved from 0.19052 to 0.19011, saving model to ./lstm_reg_a_w2v/lstm_reg_a_w2v_20112020 1607h.h5\n",
      "987/987 [==============================] - 2s 2ms/sample - loss: 0.2019 - mae: 0.2208 - val_loss: 0.1901 - val_mae: 0.2130\n",
      "Epoch 3/30\n",
      "960/987 [============================>.] - ETA: 0s - loss: 0.2035 - mae: 0.2206\n",
      "Epoch 00003: val_loss did not improve from 0.19011\n",
      "987/987 [==============================] - 2s 2ms/sample - loss: 0.2002 - mae: 0.2197 - val_loss: 0.1902 - val_mae: 0.2134\n",
      "Epoch 4/30\n",
      "960/987 [============================>.] - ETA: 0s - loss: 0.2037 - mae: 0.2200\n",
      "Epoch 00004: val_loss did not improve from 0.19011\n",
      "987/987 [==============================] - 2s 2ms/sample - loss: 0.2002 - mae: 0.2191 - val_loss: 0.1902 - val_mae: 0.2133\n",
      "Epoch 5/30\n",
      "960/987 [============================>.] - ETA: 0s - loss: 0.2012 - mae: 0.2187\n",
      "Epoch 00005: val_loss did not improve from 0.19011\n",
      "987/987 [==============================] - 2s 2ms/sample - loss: 0.2002 - mae: 0.2194 - val_loss: 0.1904 - val_mae: 0.2146\n",
      "Epoch 6/30\n",
      "960/987 [============================>.] - ETA: 0s - loss: 0.2030 - mae: 0.2199\n",
      "Epoch 00006: val_loss did not improve from 0.19011\n",
      "987/987 [==============================] - 2s 2ms/sample - loss: 0.1995 - mae: 0.2183 - val_loss: 0.1903 - val_mae: 0.2137\n",
      "Epoch 7/30\n",
      "960/987 [============================>.] - ETA: 0s - loss: 0.2016 - mae: 0.2196\n",
      "Epoch 00007: val_loss did not improve from 0.19011\n",
      "987/987 [==============================] - 2s 2ms/sample - loss: 0.2001 - mae: 0.2196 - val_loss: 0.1902 - val_mae: 0.2131\n",
      "Epoch 8/30\n",
      "960/987 [============================>.] - ETA: 0s - loss: 0.2051 - mae: 0.2217\n",
      "Epoch 00008: val_loss did not improve from 0.19011\n",
      "987/987 [==============================] - 2s 2ms/sample - loss: 0.2003 - mae: 0.2183 - val_loss: 0.1902 - val_mae: 0.2135\n",
      "Epoch 9/30\n",
      "960/987 [============================>.] - ETA: 0s - loss: 0.2013 - mae: 0.2183\n",
      "Epoch 00009: val_loss did not improve from 0.19011\n",
      "987/987 [==============================] - 2s 2ms/sample - loss: 0.2003 - mae: 0.2181 - val_loss: 0.1902 - val_mae: 0.2133\n",
      "Epoch 10/30\n",
      "960/987 [============================>.] - ETA: 0s - loss: 0.1878 - mae: 0.2147- ETA: 0s - loss: 0.1899 \n",
      "Epoch 00010: val_loss did not improve from 0.19011\n",
      "987/987 [==============================] - 2s 2ms/sample - loss: 0.1998 - mae: 0.2179 - val_loss: 0.1903 - val_mae: 0.2136\n",
      "Epoch 11/30\n",
      "960/987 [============================>.] - ETA: 0s - loss: 0.2031 - mae: 0.2194\n",
      "Epoch 00011: val_loss did not improve from 0.19011\n",
      "987/987 [==============================] - 2s 2ms/sample - loss: 0.2000 - mae: 0.2182 - val_loss: 0.1903 - val_mae: 0.2138\n",
      "Epoch 12/30\n",
      "960/987 [============================>.] - ETA: 0s - loss: 0.1975 - mae: 0.2161- ETA: 1s - loss: \n",
      "Epoch 00012: val_loss did not improve from 0.19011\n",
      "987/987 [==============================] - 2s 2ms/sample - loss: 0.2000 - mae: 0.2180 - val_loss: 0.1903 - val_mae: 0.2138\n",
      "Epoch 13/30\n",
      "960/987 [============================>.] - ETA: 0s - loss: 0.1944 - mae: 0.2170\n",
      "Epoch 00013: val_loss did not improve from 0.19011\n",
      "987/987 [==============================] - 2s 2ms/sample - loss: 0.1998 - mae: 0.2180 - val_loss: 0.1903 - val_mae: 0.2135\n",
      "Epoch 14/30\n",
      "960/987 [============================>.] - ETA: 0s - loss: 0.1960 - mae: 0.2148\n",
      "Epoch 00014: val_loss did not improve from 0.19011\n",
      "987/987 [==============================] - 2s 2ms/sample - loss: 0.1997 - mae: 0.2184 - val_loss: 0.1904 - val_mae: 0.2142\n",
      "Epoch 15/30\n",
      "960/987 [============================>.] - ETA: 0s - loss: 0.2041 - mae: 0.2213\n",
      "Epoch 00015: val_loss did not improve from 0.19011\n",
      "987/987 [==============================] - 2s 2ms/sample - loss: 0.2001 - mae: 0.2187 - val_loss: 0.1904 - val_mae: 0.2144\n",
      "Epoch 16/30\n",
      "960/987 [============================>.] - ETA: 0s - loss: 0.2018 - mae: 0.2191\n",
      "Epoch 00016: val_loss did not improve from 0.19011\n",
      "987/987 [==============================] - 2s 2ms/sample - loss: 0.1995 - mae: 0.2193 - val_loss: 0.1903 - val_mae: 0.2138\n",
      "Epoch 17/30\n",
      "960/987 [============================>.] - ETA: 0s - loss: 0.1883 - mae: 0.2186\n",
      "Epoch 00017: val_loss did not improve from 0.19011\n",
      "987/987 [==============================] - 2s 2ms/sample - loss: 0.2001 - mae: 0.2200 - val_loss: 0.1905 - val_mae: 0.2149\n",
      "Epoch 18/30\n",
      "960/987 [============================>.] - ETA: 0s - loss: 0.1922 - mae: 0.2144\n",
      "Epoch 00018: val_loss did not improve from 0.19011\n",
      "987/987 [==============================] - 2s 2ms/sample - loss: 0.1994 - mae: 0.2184 - val_loss: 0.1902 - val_mae: 0.2134\n",
      "Epoch 19/30\n",
      "960/987 [============================>.] - ETA: 0s - loss: 0.2040 - mae: 0.2213\n",
      "Epoch 00019: val_loss did not improve from 0.19011\n",
      "987/987 [==============================] - 2s 2ms/sample - loss: 0.2004 - mae: 0.2195 - val_loss: 0.1905 - val_mae: 0.2156\n",
      "Epoch 20/30\n",
      "960/987 [============================>.] - ETA: 0s - loss: 0.1975 - mae: 0.2169\n",
      "Epoch 00020: val_loss did not improve from 0.19011\n",
      "987/987 [==============================] - 2s 2ms/sample - loss: 0.1997 - mae: 0.2177 - val_loss: 0.1903 - val_mae: 0.2138\n",
      "Epoch 21/30\n",
      "960/987 [============================>.] - ETA: 0s - loss: 0.2045 - mae: 0.2215\n",
      "Epoch 00021: val_loss did not improve from 0.19011\n",
      "987/987 [==============================] - 2s 2ms/sample - loss: 0.1998 - mae: 0.2182 - val_loss: 0.1903 - val_mae: 0.2136\n",
      "Epoch 22/30\n",
      "960/987 [============================>.] - ETA: 0s - loss: 0.1939 - mae: 0.2151\n",
      "Epoch 00022: val_loss did not improve from 0.19011\n",
      "987/987 [==============================] - 2s 2ms/sample - loss: 0.1997 - mae: 0.2178 - val_loss: 0.1903 - val_mae: 0.2136\n",
      "Epoch 23/30\n",
      "960/987 [============================>.] - ETA: 0s - loss: 0.2038 - mae: 0.2205\n",
      "Epoch 00023: val_loss did not improve from 0.19011\n",
      "987/987 [==============================] - 2s 2ms/sample - loss: 0.1996 - mae: 0.2182 - val_loss: 0.1904 - val_mae: 0.2146\n",
      "Epoch 24/30\n",
      "960/987 [============================>.] - ETA: 0s - loss: 0.2035 - mae: 0.2191\n",
      "Epoch 00024: val_loss did not improve from 0.19011\n",
      "987/987 [==============================] - 2s 2ms/sample - loss: 0.2003 - mae: 0.2181 - val_loss: 0.1904 - val_mae: 0.2143\n",
      "Epoch 25/30\n",
      "960/987 [============================>.] - ETA: 0s - loss: 0.1958 - mae: 0.2176\n",
      "Epoch 00025: val_loss did not improve from 0.19011\n",
      "987/987 [==============================] - 2s 2ms/sample - loss: 0.1997 - mae: 0.2189 - val_loss: 0.1904 - val_mae: 0.2142\n",
      "Epoch 26/30\n",
      "960/987 [============================>.] - ETA: 0s - loss: 0.2006 - mae: 0.2168\n",
      "Epoch 00026: val_loss did not improve from 0.19011\n",
      "987/987 [==============================] - 2s 2ms/sample - loss: 0.1998 - mae: 0.2186 - val_loss: 0.1903 - val_mae: 0.2138\n",
      "Epoch 27/30\n",
      "960/987 [============================>.] - ETA: 0s - loss: 0.2041 - mae: 0.2199\n",
      "Epoch 00027: val_loss did not improve from 0.19011\n",
      "987/987 [==============================] - 2s 2ms/sample - loss: 0.1998 - mae: 0.2177 - val_loss: 0.1904 - val_mae: 0.2141\n",
      "Epoch 28/30\n",
      "960/987 [============================>.] - ETA: 0s - loss: 0.2016 - mae: 0.2197\n",
      "Epoch 00028: val_loss did not improve from 0.19011\n",
      "987/987 [==============================] - 2s 2ms/sample - loss: 0.1999 - mae: 0.2197 - val_loss: 0.1905 - val_mae: 0.2158\n",
      "Epoch 29/30\n",
      "960/987 [============================>.] - ETA: 0s - loss: 0.2022 - mae: 0.2191\n",
      "Epoch 00029: val_loss did not improve from 0.19011\n",
      "987/987 [==============================] - 2s 2ms/sample - loss: 0.1997 - mae: 0.2183 - val_loss: 0.1904 - val_mae: 0.2144\n",
      "Epoch 30/30\n",
      "960/987 [============================>.] - ETA: 0s - loss: 0.2032 - mae: 0.2191- ETA: 1s - loss: 0\n",
      "Epoch 00030: val_loss did not improve from 0.19011\n",
      "987/987 [==============================] - 2s 2ms/sample - loss: 0.1997 - mae: 0.2176 - val_loss: 0.1903 - val_mae: 0.2138\n"
     ]
    }
   ],
   "source": [
    "now = dt.datetime.now()\n",
    "dt_string = now.strftime(\"%d%m%Y %H%Mh\")\n",
    "\n",
    "lstm_reg_a_w2v_checkpoint_filepath = f'../models/lstm_reg_a_w2v/lstm_reg_a_w2v_{dt_string}.h5'\n",
    "model_checkpoint_callback = keras.callbacks.ModelCheckpoint(\n",
    "    filepath=lstm_reg_a_w2v_checkpoint_filepath,\n",
    "    save_weights_only=True,\n",
    "    monitor='val_loss',\n",
    "    mode='min',\n",
    "    verbose = 1,\n",
    "    save_best_only=True) \n",
    "\n",
    "lstm_reg_a_w2v_history = lstm_reg_a_w2v_ann.fit(X_train_lstm_reg_a_w2v_padded, y_train_lstm_reg_a, validation_split=0.33, epochs=30, callbacks=[model_checkpoint_callback])"
   ]
  },
  {
   "cell_type": "code",
   "execution_count": 391,
   "metadata": {},
   "outputs": [],
   "source": [
    "lstm_reg_a_w2v_ann_loaded = create_lstm_reg_a_w2v(lstm_reg_a_w2v_weights, lstm_reg_a_w2v_longest_sentence_len)\n",
    "lstm_reg_a_w2v_ann_loaded.load_weights(lstm_reg_a_w2v_checkpoint_filepath)\n",
    "lstm_reg_a_w2v_ann_loaded.compile(optimizer=opt, loss='mean_squared_error', metrics=['mae'])"
   ]
  },
  {
   "cell_type": "code",
   "execution_count": 392,
   "metadata": {},
   "outputs": [
    {
     "name": "stdout",
     "output_type": "stream",
     "text": [
      "726/726 [==============================] - 1s 2ms/sample - loss: 0.1670 - mae: 0.1997\n",
      "Training MSE: 0.4434414538160375\n",
      "Test MSE: 0.40869573540877296\n",
      "Test R^2: -0.0004509446581950627\n",
      "Baseline MSE: 0.4089276246535823\n"
     ]
    }
   ],
   "source": [
    "dev_loss, dev_acc = lstm_reg_a_w2v_ann_loaded.evaluate(X_test_lstm_reg_a_w2v_padded, y_test_lstm_reg_a, verbose=1)\n",
    "\n",
    "print(f\"Training MSE: {np.sqrt(metrics.mean_squared_error(y_train_lstm_reg_a, lstm_reg_a_w2v_ann_loaded.predict(X_train_lstm_reg_a_w2v_padded)))}\")\n",
    "print(f\"Test MSE: {np.sqrt(metrics.mean_squared_error(y_test_lstm_reg_a, lstm_reg_a_w2v_ann_loaded.predict(X_test_lstm_reg_a_w2v_padded)))}\")\n",
    "print(f\"Test R^2: {metrics.r2_score(y_test_lstm_reg_a, lstm_reg_a_w2v_ann_loaded.predict(X_test_lstm_reg_a_w2v_padded))}\")\n",
    "print(f\"Baseline MSE: {np.sqrt(metrics.mean_squared_error(y_test_lstm_reg_a, 0*y_test_lstm_reg_a))}\")"
   ]
  },
  {
   "cell_type": "code",
   "execution_count": 393,
   "metadata": {},
   "outputs": [
    {
     "data": {
      "image/png": "[encoded data removed]",
      "text/plain": [
       "<Figure size 432x288 with 1 Axes>"
      ]
     },
     "metadata": {
      "needs_background": "light"
     },
     "output_type": "display_data"
    }
   ],
   "source": [
    "# summarize history for loss\n",
    "plt.plot(lstm_reg_a_w2v_history.history['loss'])\n",
    "plt.plot(lstm_reg_a_w2v_history.history['val_loss'])\n",
    "plt.title('model loss')\n",
    "plt.ylabel('loss')\n",
    "plt.xlabel('epoch')\n",
    "plt.legend(['train', 'test'], loc='upper left')\n",
    "plt.show()"
   ]
  },
  {
   "cell_type": "markdown",
   "metadata": {},
   "source": [
    "## Method 2: Using GloVe word embedding"
   ]
  },
  {
   "cell_type": "code",
   "execution_count": 394,
   "metadata": {},
   "outputs": [
    {
     "name": "stdout",
     "output_type": "stream",
     "text": [
      "Found 1193514 word vectors.\n",
      "Found 4336 unique tokens.\n"
     ]
    }
   ],
   "source": [
    "# Import glove file \n",
    "dimension = 100\n",
    "embeddings_index = {}\n",
    "f = open(f'../data/glove/glove.twitter.27B.{dimension}d.txt', encoding='utf8')\n",
    "for line in f:\n",
    "    values = line.split()\n",
    "    word = values[0]\n",
    "    coefs = np.asarray(values[1:], dtype='float32')\n",
    "    embeddings_index[word] = coefs\n",
    "f.close()\n",
    "print('Found %s word vectors.' % len(embeddings_index))\n",
    "\n",
    "tokenizer = keras.preprocessing.text.Tokenizer()\n",
    "tokenizer.fit_on_texts(X_train_lstm_reg_a)\n",
    "word_index = tokenizer.word_index\n",
    "vocab_size = len(tokenizer.word_index) + 1\n",
    "\n",
    "#text to integers\n",
    "sequences = tokenizer.texts_to_sequences(X_train_lstm_reg_a)\n",
    "lstm_reg_a_glove_longest_sentence_len = 30\n",
    "X_train_lstm_reg_a_glove_padded = keras.preprocessing.sequence.pad_sequences(sequences, maxlen=lstm_reg_a_glove_longest_sentence_len, padding='pre')\n",
    "\n",
    "print('Found %s unique tokens.' % len(word_index))\n",
    "\n",
    "unique_words = set(word_index.keys())\n",
    "def prepare_test_x_glove(x):\n",
    "    global unique_words\n",
    "    global word_index\n",
    "    global lstm_reg_a_glove_longest_sentence_len\n",
    "    \n",
    "    result = []\n",
    "    for tweet in x:\n",
    "        indices = []\n",
    "        for word in tweet.split():\n",
    "            if word in unique_words:\n",
    "                indices.append(word_index[word])\n",
    "            else:\n",
    "                indices.append(0)\n",
    "            \n",
    "        result.append(indices)\n",
    "    return keras.preprocessing.sequence.pad_sequences(result, maxlen=lstm_reg_a_glove_longest_sentence_len, padding='pre')\n",
    "\n",
    "X_test_lstm_reg_a_glove_padded = prepare_test_x_glove(X_test_lstm_reg_a)"
   ]
  },
  {
   "cell_type": "code",
   "execution_count": 395,
   "metadata": {},
   "outputs": [],
   "source": [
    "embedding_matrix = np.zeros((vocab_size, dimension))\n",
    "for word, i in tokenizer.word_index.items():\n",
    "    embedding_vector = embeddings_index.get(word)\n",
    "    if embedding_vector is not None:\n",
    "        # words not found in embedding index will be all-zeros.\n",
    "        embedding_matrix[i] = embedding_vector\n",
    "        \n",
    "embedding_layer_glove = Embedding(vocab_size,\n",
    "                            100,\n",
    "                            weights=[embedding_matrix],\n",
    "                            input_length=lstm_reg_a_glove_longest_sentence_len,\n",
    "                            trainable=False)"
   ]
  },
  {
   "cell_type": "code",
   "execution_count": 396,
   "metadata": {},
   "outputs": [],
   "source": [
    "def create_lstm_reg_a_glove(longest_sentence_len):\n",
    "    global embedding_layer_glove\n",
    "    model = keras.Sequential()\n",
    "    model.add(layers.Input(shape=longest_sentence_len, dtype='int32'))\n",
    "    model.add(embedding_layer_glove)\n",
    "    model.add(layers.LSTM(4, return_sequences=True, name='LSTM1'))\n",
    "    model.add(layers.Dropout(0.2,name='Dropout1'))\n",
    "    model.add(layers.LSTM(4, return_sequences=False, name='LSTM2'))\n",
    "    model.add(layers.Dropout(0.2,name='Dropout2'))\n",
    "    model.add(layers.Dense(4,name='Dense',activation='tanh'))\n",
    "    model.add(layers.Dropout(0.1))\n",
    "    model.add(layers.Dense(1,activation='linear'))\n",
    "    return model"
   ]
  },
  {
   "cell_type": "code",
   "execution_count": 397,
   "metadata": {},
   "outputs": [
    {
     "name": "stdout",
     "output_type": "stream",
     "text": [
      "Model: \"sequential_17\"\n",
      "_________________________________________________________________\n",
      "Layer (type)                 Output Shape              Param #   \n",
      "=================================================================\n",
      "embedding_22 (Embedding)     (None, 30, 100)           433700    \n",
      "_________________________________________________________________\n",
      "LSTM1 (LSTM)                 (None, 30, 4)             1680      \n",
      "_________________________________________________________________\n",
      "Dropout1 (Dropout)           (None, 30, 4)             0         \n",
      "_________________________________________________________________\n",
      "LSTM2 (LSTM)                 (None, 4)                 144       \n",
      "_________________________________________________________________\n",
      "Dropout2 (Dropout)           (None, 4)                 0         \n",
      "_________________________________________________________________\n",
      "Dense (Dense)                (None, 4)                 20        \n",
      "_________________________________________________________________\n",
      "dropout_31 (Dropout)         (None, 4)                 0         \n",
      "_________________________________________________________________\n",
      "dense_31 (Dense)             (None, 1)                 5         \n",
      "=================================================================\n",
      "Total params: 435,549\n",
      "Trainable params: 1,849\n",
      "Non-trainable params: 433,700\n",
      "_________________________________________________________________\n"
     ]
    }
   ],
   "source": [
    "lstm_reg_a_glove_ann = create_lstm_reg_a_glove(lstm_reg_a_glove_longest_sentence_len)\n",
    "opt = tf.keras.optimizers.Adam(learning_rate=0.001)\n",
    "lstm_reg_a_glove_ann.compile(optimizer=opt, loss='mean_squared_error', metrics=['mae'])\n",
    "lstm_reg_a_glove_ann.summary()"
   ]
  },
  {
   "cell_type": "code",
   "execution_count": 398,
   "metadata": {},
   "outputs": [
    {
     "data": {
      "image/png": "[encoded data removed]",
      "text/plain": [
       "<IPython.core.display.Image object>"
      ]
     },
     "execution_count": 398,
     "metadata": {},
     "output_type": "execute_result"
    }
   ],
   "source": [
    "plot_model(\n",
    "    lstm_reg_a_glove_ann,\n",
    "    to_file=\"../data/lstm_reg_a_glove_ann.png\",\n",
    "    show_shapes=False,\n",
    "    show_layer_names=True,\n",
    "    rankdir=\"TB\"\n",
    ")"
   ]
  },
  {
   "cell_type": "code",
   "execution_count": 399,
   "metadata": {},
   "outputs": [
    {
     "name": "stdout",
     "output_type": "stream",
     "text": [
      "Train on 987 samples, validate on 487 samples\n",
      "Epoch 1/30\n",
      "896/987 [==========================>...] - ETA: 0s - loss: 0.2276 - mae: 0.2922\n",
      "Epoch 00001: val_loss improved from inf to 0.19101, saving model to ./lstm_reg_a_glove/lstm_reg_a_glove_20112020 1611h.h5\n",
      "987/987 [==============================] - 5s 5ms/sample - loss: 0.2336 - mae: 0.2909 - val_loss: 0.1910 - val_mae: 0.2243\n",
      "Epoch 2/30\n",
      "896/987 [==========================>...] - ETA: 0s - loss: 0.1995 - mae: 0.2372- ETA: 0s - loss: 0.2347 - mae: 0\n",
      "Epoch 00002: val_loss improved from 0.19101 to 0.18979, saving model to ./lstm_reg_a_glove/lstm_reg_a_glove_20112020 1611h.h5\n",
      "987/987 [==============================] - 1s 714us/sample - loss: 0.2043 - mae: 0.2386 - val_loss: 0.1898 - val_mae: 0.2210\n",
      "Epoch 3/30\n",
      "896/987 [==========================>...] - ETA: 0s - loss: 0.2034 - mae: 0.2327\n",
      "Epoch 00003: val_loss did not improve from 0.18979\n",
      "987/987 [==============================] - 1s 692us/sample - loss: 0.2011 - mae: 0.2334 - val_loss: 0.1898 - val_mae: 0.2205\n",
      "Epoch 4/30\n",
      "896/987 [==========================>...] - ETA: 0s - loss: 0.2016 - mae: 0.2303\n",
      "Epoch 00004: val_loss did not improve from 0.18979\n",
      "987/987 [==============================] - 1s 708us/sample - loss: 0.2021 - mae: 0.2325 - val_loss: 0.1901 - val_mae: 0.2220\n",
      "Epoch 5/30\n",
      "896/987 [==========================>...] - ETA: 0s - loss: 0.1782 - mae: 0.2200\n",
      "Epoch 00005: val_loss did not improve from 0.18979\n",
      "987/987 [==============================] - 1s 693us/sample - loss: 0.2016 - mae: 0.2296 - val_loss: 0.1900 - val_mae: 0.2208\n",
      "Epoch 6/30\n",
      "896/987 [==========================>...] - ETA: 0s - loss: 0.1888 - mae: 0.2231\n",
      "Epoch 00006: val_loss did not improve from 0.18979\n",
      "987/987 [==============================] - 1s 711us/sample - loss: 0.1985 - mae: 0.2278 - val_loss: 0.1901 - val_mae: 0.2205\n",
      "Epoch 7/30\n",
      "896/987 [==========================>...] - ETA: 0s - loss: 0.2036 - mae: 0.2293\n",
      "Epoch 00007: val_loss did not improve from 0.18979\n",
      "987/987 [==============================] - 1s 691us/sample - loss: 0.1975 - mae: 0.2280 - val_loss: 0.1905 - val_mae: 0.2227\n",
      "Epoch 8/30\n",
      "896/987 [==========================>...] - ETA: 0s - loss: 0.2053 - mae: 0.2298\n",
      "Epoch 00008: val_loss did not improve from 0.18979\n",
      "987/987 [==============================] - 1s 709us/sample - loss: 0.1976 - mae: 0.2261 - val_loss: 0.1902 - val_mae: 0.2205\n",
      "Epoch 9/30\n",
      "896/987 [==========================>...] - ETA: 0s - loss: 0.1787 - mae: 0.2152\n",
      "Epoch 00009: val_loss did not improve from 0.18979\n",
      "987/987 [==============================] - 1s 694us/sample - loss: 0.1961 - mae: 0.2247 - val_loss: 0.1907 - val_mae: 0.2232\n",
      "Epoch 10/30\n",
      "896/987 [==========================>...] - ETA: 0s - loss: 0.1926 - mae: 0.2249\n",
      "Epoch 00010: val_loss did not improve from 0.18979\n",
      "987/987 [==============================] - 1s 725us/sample - loss: 0.1963 - mae: 0.2274 - val_loss: 0.1908 - val_mae: 0.2221\n",
      "Epoch 11/30\n",
      "896/987 [==========================>...] - ETA: 0s - loss: 0.2040 - mae: 0.2311\n",
      "Epoch 00011: val_loss did not improve from 0.18979\n",
      "987/987 [==============================] - 1s 726us/sample - loss: 0.1960 - mae: 0.2259 - val_loss: 0.1913 - val_mae: 0.2230\n",
      "Epoch 12/30\n",
      "960/987 [============================>.] - ETA: 0s - loss: 0.1984 - mae: 0.2313\n",
      "Epoch 00012: val_loss did not improve from 0.18979\n",
      "987/987 [==============================] - 1s 744us/sample - loss: 0.1951 - mae: 0.2301 - val_loss: 0.1917 - val_mae: 0.2240\n",
      "Epoch 13/30\n",
      "896/987 [==========================>...] - ETA: 0s - loss: 0.1701 - mae: 0.2178\n",
      "Epoch 00013: val_loss did not improve from 0.18979\n",
      "987/987 [==============================] - 1s 708us/sample - loss: 0.1939 - mae: 0.2269 - val_loss: 0.1919 - val_mae: 0.2237\n",
      "Epoch 14/30\n",
      "896/987 [==========================>...] - ETA: 0s - loss: 0.1964 - mae: 0.2283\n",
      "Epoch 00014: val_loss did not improve from 0.18979\n",
      "987/987 [==============================] - 1s 704us/sample - loss: 0.1911 - mae: 0.2282 - val_loss: 0.1940 - val_mae: 0.2321\n",
      "Epoch 15/30\n",
      "960/987 [============================>.] - ETA: 0s - loss: 0.1939 - mae: 0.2293\n",
      "Epoch 00015: val_loss did not improve from 0.18979\n",
      "987/987 [==============================] - 1s 715us/sample - loss: 0.1910 - mae: 0.2286 - val_loss: 0.1934 - val_mae: 0.2273\n",
      "Epoch 16/30\n",
      "896/987 [==========================>...] - ETA: 0s - loss: 0.1885 - mae: 0.2270\n",
      "Epoch 00016: val_loss did not improve from 0.18979\n",
      "987/987 [==============================] - 1s 729us/sample - loss: 0.1907 - mae: 0.2281 - val_loss: 0.1948 - val_mae: 0.2300\n",
      "Epoch 17/30\n",
      "896/987 [==========================>...] - ETA: 0s - loss: 0.1946 - mae: 0.2367\n",
      "Epoch 00017: val_loss did not improve from 0.18979\n",
      "987/987 [==============================] - 1s 718us/sample - loss: 0.1887 - mae: 0.2315 - val_loss: 0.1959 - val_mae: 0.2322\n",
      "Epoch 18/30\n",
      "896/987 [==========================>...] - ETA: 0s - loss: 0.1671 - mae: 0.2294\n",
      "Epoch 00018: val_loss did not improve from 0.18979\n",
      "987/987 [==============================] - 1s 694us/sample - loss: 0.1872 - mae: 0.2337 - val_loss: 0.1977 - val_mae: 0.2367\n",
      "Epoch 19/30\n",
      "896/987 [==========================>...] - ETA: 0s - loss: 0.1946 - mae: 0.2417\n",
      "Epoch 00019: val_loss did not improve from 0.18979\n",
      "987/987 [==============================] - 1s 732us/sample - loss: 0.1849 - mae: 0.2376 - val_loss: 0.1986 - val_mae: 0.2386\n",
      "Epoch 20/30\n",
      "896/987 [==========================>...] - ETA: 0s - loss: 0.1819 - mae: 0.2332\n",
      "Epoch 00020: val_loss did not improve from 0.18979\n",
      "987/987 [==============================] - 1s 713us/sample - loss: 0.1859 - mae: 0.2363 - val_loss: 0.1979 - val_mae: 0.2362\n",
      "Epoch 21/30\n",
      "896/987 [==========================>...] - ETA: 0s - loss: 0.1834 - mae: 0.2359\n",
      "Epoch 00021: val_loss did not improve from 0.18979\n",
      "987/987 [==============================] - 1s 697us/sample - loss: 0.1818 - mae: 0.2363 - val_loss: 0.2053 - val_mae: 0.2576\n",
      "Epoch 22/30\n",
      "960/987 [============================>.] - ETA: 0s - loss: 0.1736 - mae: 0.2356\n",
      "Epoch 00022: val_loss did not improve from 0.18979\n",
      "987/987 [==============================] - 1s 762us/sample - loss: 0.1748 - mae: 0.2365 - val_loss: 0.2047 - val_mae: 0.2504\n",
      "Epoch 23/30\n",
      "896/987 [==========================>...] - ETA: 0s - loss: 0.1762 - mae: 0.2424\n",
      "Epoch 00023: val_loss did not improve from 0.18979\n",
      "987/987 [==============================] - 1s 721us/sample - loss: 0.1702 - mae: 0.2410 - val_loss: 0.2063 - val_mae: 0.2541\n",
      "Epoch 24/30\n",
      "896/987 [==========================>...] - ETA: 0s - loss: 0.1737 - mae: 0.2387\n",
      "Epoch 00024: val_loss did not improve from 0.18979\n",
      "987/987 [==============================] - 1s 695us/sample - loss: 0.1760 - mae: 0.2394 - val_loss: 0.2055 - val_mae: 0.2538\n",
      "Epoch 25/30\n",
      "896/987 [==========================>...] - ETA: 0s - loss: 0.1697 - mae: 0.2358\n",
      "Epoch 00025: val_loss did not improve from 0.18979\n",
      "987/987 [==============================] - 1s 729us/sample - loss: 0.1748 - mae: 0.2385 - val_loss: 0.2063 - val_mae: 0.2552\n",
      "Epoch 26/30\n",
      "896/987 [==========================>...] - ETA: 0s - loss: 0.1802 - mae: 0.2429\n",
      "Epoch 00026: val_loss did not improve from 0.18979\n",
      "987/987 [==============================] - 1s 723us/sample - loss: 0.1735 - mae: 0.2420 - val_loss: 0.2103 - val_mae: 0.2620\n",
      "Epoch 27/30\n",
      "896/987 [==========================>...] - ETA: 0s - loss: 0.1706 - mae: 0.2439\n",
      "Epoch 00027: val_loss did not improve from 0.18979\n",
      "987/987 [==============================] - 1s 692us/sample - loss: 0.1604 - mae: 0.2384 - val_loss: 0.2188 - val_mae: 0.2740\n",
      "Epoch 28/30\n",
      "896/987 [==========================>...] - ETA: 0s - loss: 0.1676 - mae: 0.2448\n",
      "Epoch 00028: val_loss did not improve from 0.18979\n",
      "987/987 [==============================] - 1s 755us/sample - loss: 0.1658 - mae: 0.2387 - val_loss: 0.2143 - val_mae: 0.2661\n",
      "Epoch 29/30\n",
      "896/987 [==========================>...] - ETA: 0s - loss: 0.1579 - mae: 0.2347\n",
      "Epoch 00029: val_loss did not improve from 0.18979\n",
      "987/987 [==============================] - 1s 710us/sample - loss: 0.1595 - mae: 0.2371 - val_loss: 0.2200 - val_mae: 0.2749\n",
      "Epoch 30/30\n",
      "896/987 [==========================>...] - ETA: 0s - loss: 0.1639 - mae: 0.2353\n",
      "Epoch 00030: val_loss did not improve from 0.18979\n",
      "987/987 [==============================] - 1s 697us/sample - loss: 0.1615 - mae: 0.2368 - val_loss: 0.2172 - val_mae: 0.2712\n"
     ]
    }
   ],
   "source": [
    "now = dt.datetime.now()\n",
    "dt_string = now.strftime(\"%d%m%Y %H%Mh\")\n",
    "\n",
    "lstm_reg_a_glove_checkpoint_filepath = f'../models/lstm_reg_a_glove/lstm_reg_a_glove_{dt_string}.h5'\n",
    "model_checkpoint_callback = keras.callbacks.ModelCheckpoint(\n",
    "    filepath=lstm_reg_a_glove_checkpoint_filepath,\n",
    "    save_weights_only=True,\n",
    "    monitor='val_loss',\n",
    "    mode='min',\n",
    "    verbose = 1,\n",
    "    save_best_only=True) \n",
    "\n",
    "lstm_reg_a_glove_history = lstm_reg_a_glove_ann.fit(X_train_lstm_reg_a_glove_padded, y_train_lstm_reg_a, validation_split=0.33, epochs=30, callbacks=[model_checkpoint_callback])"
   ]
  },
  {
   "cell_type": "code",
   "execution_count": 400,
   "metadata": {},
   "outputs": [],
   "source": [
    "lstm_reg_a_glove_ann_loaded = create_lstm_reg_a_glove(lstm_reg_a_glove_longest_sentence_len)\n",
    "lstm_reg_a_glove_ann_loaded.load_weights(lstm_reg_a_glove_checkpoint_filepath)\n",
    "lstm_reg_a_glove_ann_loaded.compile(optimizer=opt, loss='mean_squared_error', metrics=['mae'])"
   ]
  },
  {
   "cell_type": "code",
   "execution_count": 401,
   "metadata": {},
   "outputs": [
    {
     "name": "stdout",
     "output_type": "stream",
     "text": [
      "726/726 [==============================] - 1s 1ms/sample - loss: 0.1692 - mae: 0.2073\n",
      "Training MSE: 0.44287446116439\n",
      "Test MSE: 0.41129092512174087\n",
      "Test R^2: -0.013196873365791006\n",
      "Baseline MSE: 0.4089276246535823\n"
     ]
    }
   ],
   "source": [
    "dev_loss, dev_acc = lstm_reg_a_glove_ann_loaded.evaluate(X_test_lstm_reg_a_glove_padded, y_test_lstm_reg_a, verbose=1)\n",
    "\n",
    "print(f\"Training MSE: {np.sqrt(metrics.mean_squared_error(y_train_lstm_reg_a, lstm_reg_a_glove_ann_loaded.predict(X_train_lstm_reg_a_glove_padded)))}\")\n",
    "print(f\"Test MSE: {np.sqrt(metrics.mean_squared_error(y_test_lstm_reg_a, lstm_reg_a_glove_ann_loaded.predict(X_test_lstm_reg_a_glove_padded)))}\")\n",
    "print(f\"Test R^2: {metrics.r2_score(y_test_lstm_reg_a, lstm_reg_a_glove_ann_loaded.predict(X_test_lstm_reg_a_glove_padded))}\")\n",
    "print(f\"Baseline MSE: {np.sqrt(metrics.mean_squared_error(y_test_lstm_reg_a, 0*y_test_lstm_reg_a))}\")"
   ]
  },
  {
   "cell_type": "code",
   "execution_count": 402,
   "metadata": {},
   "outputs": [
    {
     "data": {
      "image/png": "[encoded data removed]",
      "text/plain": [
       "<Figure size 432x288 with 1 Axes>"
      ]
     },
     "metadata": {
      "needs_background": "light"
     },
     "output_type": "display_data"
    }
   ],
   "source": [
    "# summarize history for loss\n",
    "plt.plot(lstm_reg_a_glove_history.history['loss'])\n",
    "plt.plot(lstm_reg_a_glove_history.history['val_loss'])\n",
    "plt.title('model loss')\n",
    "plt.ylabel('loss')\n",
    "plt.xlabel('epoch')\n",
    "plt.legend(['train', 'test'], loc='upper left')\n",
    "plt.show()"
   ]
  },
  {
   "cell_type": "markdown",
   "metadata": {},
   "source": [
    "## Model B: Word Vectors + 30min Price History as Inputs"
   ]
  },
  {
   "cell_type": "markdown",
   "metadata": {},
   "source": [
    "### Method 1: Using Word2Vec word embedding"
   ]
  },
  {
   "cell_type": "code",
   "execution_count": 403,
   "metadata": {},
   "outputs": [],
   "source": [
    "model_b_df = pd.read_csv('../data/data_LSTM_model_b.csv')\n",
    "model_b_df.dropna(subset=['prev_30mins_prices', 'text_LSTM'], inplace=True)\n",
    "\n",
    "X_lstm_reg_b = model_b_df.loc[:, ['text_LSTM', 'prev_30mins_prices']]\n",
    "y_lstm_reg_b = model_b_df.loc[:, '60mins_price_diff_abs']"
   ]
  },
  {
   "cell_type": "code",
   "execution_count": 404,
   "metadata": {},
   "outputs": [],
   "source": [
    "X_train_lstm_reg_b, X_test_lstm_reg_b, y_train_lstm_reg_b, y_test_lstm_reg_b = train_test_split(X_lstm_reg_b, y_lstm_reg_b, test_size=0.33, random_state=2020)\n",
    "\n",
    "def parse_price_history(price_history):\n",
    "    result = [float(i) for i in price_history.strip('[').strip(']').replace(' ', '').split(',')]\n",
    "    return result\n",
    "\n",
    "X_train_price_history = X_train_lstm_reg_b_w2v.iloc[:, 1].apply(parse_price_history)\n",
    "X_train_price_history = np.stack(X_train_price_history)\n",
    "X_train_price_history = X_train_price_history.reshape(X_train_price_history.shape[0], X_train_price_history.shape[1],1)\n",
    "\n",
    "X_test_price_history = X_test_lstm_reg_b_w2v.iloc[:, 1].apply(parse_price_history)\n",
    "X_test_price_history = np.stack(X_test_price_history)\n",
    "X_test_price_history = X_test_price_history.reshape(X_test_price_history.shape[0], X_test_price_history.shape[1],1)"
   ]
  },
  {
   "cell_type": "code",
   "execution_count": 405,
   "metadata": {},
   "outputs": [],
   "source": [
    "# Word2Vec has to be trained again as tweets before 8.30am are now removed (market opens at 8am, no stock prices before that)\n",
    "\n",
    "# Add words into corpus list\n",
    "lstm_reg_b_w2v_corpus_list = []\n",
    "\n",
    "for i in X_train_lstm_reg_b.iloc[:,0]:\n",
    "    lstm_reg_b_w2v_corpus_list.append(str(i).split())\n",
    "    \n",
    "# Train Word2Vec\n",
    "lstm_reg_b_w2v_model = Word2Vec(lstm_reg_b_w2v_corpus_list, min_count=1, size=100)\n",
    "lstm_reg_b_w2v_weights = lstm_reg_b_w2v_model.wv.vectors\n",
    "\n",
    "# Find length of longest sentence (for padding later on)\n",
    "lstm_reg_b_w2v_num_words = [len(i) for i in lstm_reg_b_w2v_corpus_list]\n",
    "lstm_reg_b_w2v_longest_sentence_len = max(lstm_reg_b_w2v_num_words)\n",
    "\n",
    "X_train_lstm_reg_b_w2v_padded = word2vec_sentence_to_indices_padded(X_train_lstm_reg_b.iloc[:,0], lstm_reg_b_w2v_longest_sentence_len, lstm_reg_b_w2v_model)\n",
    "X_test_lstm_reg_b_w2v_padded = word2vec_sentence_to_indices_padded(X_test_lstm_reg_b.iloc[:,0], lstm_reg_b_w2v_longest_sentence_len, lstm_reg_b_w2v_model)"
   ]
  },
  {
   "cell_type": "code",
   "execution_count": 406,
   "metadata": {},
   "outputs": [],
   "source": [
    "X_train_lstm_reg_b_w2v_input = [X_train_lstm_reg_b_w2v_padded, np.array(X_train_price_history)]\n",
    "X_test_lstm_reg_b_w2v_input = [X_test_lstm_reg_b_w2v_padded, X_test_price_history]"
   ]
  },
  {
   "cell_type": "code",
   "execution_count": 407,
   "metadata": {},
   "outputs": [],
   "source": [
    "def create_lstm_reg_b_w2v(pretrained_weights, longest_sentence_len, price_history_shape):\n",
    "    vocab_size, embedding_size = pretrained_weights.shape\n",
    "    \n",
    "    # word vectors model\n",
    "    model1_input = layers.Input(shape=longest_sentence_len, dtype='int32', name='sentence_index_input')\n",
    "    model1 = layers.Embedding(input_dim=vocab_size, output_dim=embedding_size, weights=[pretrained_weights], trainable=False)(model1_input)  \n",
    "    model1 = layers.LSTM(4, return_sequences=True, name='model1_LSTM1')(model1)\n",
    "    model1 = layers.Dropout(0.25,name='model1_dropout1')(model1)\n",
    "    model1 = layers.LSTM(4, return_sequences=False, name='model1_LSTM2')(model1)\n",
    "    model1 = layers.Dropout(0.25,name='model1_dropout2')(model1)\n",
    "    \n",
    "    # price history model\n",
    "    model2_input = layers.Input(shape=price_history_shape, dtype='float32', name='price_history_input')\n",
    "    model2 = layers.LSTM(4, return_sequences=True, name='model2_LSTM1')(model2_input)\n",
    "    model2 = layers.Dropout(0.25,name='model2_dropout1')(model2)\n",
    "    model2 = layers.LSTM(4, return_sequences=False, name='model2_LSTM2')(model2)\n",
    "    model2 = layers.Dropout(0.25,name='model2_dropout2')(model2)\n",
    "    \n",
    "    model_concat = layers.concatenate([model1, model2])\n",
    "    model_concat = layers.Dense(4,name='Dense',activation='tanh')(model_concat)\n",
    "    model_concat = layers.Dropout(0.1)(model_concat)\n",
    "    model_concat = layers.Dense(1,activation='linear')(model_concat)\n",
    "    \n",
    "    model = keras.models.Model(inputs=[model1_input, model2_input], outputs = model_concat)\n",
    "    \n",
    "    return model"
   ]
  },
  {
   "cell_type": "code",
   "execution_count": 408,
   "metadata": {},
   "outputs": [
    {
     "name": "stdout",
     "output_type": "stream",
     "text": [
      "Model: \"model_14\"\n",
      "__________________________________________________________________________________________________\n",
      "Layer (type)                    Output Shape         Param #     Connected to                     \n",
      "==================================================================================================\n",
      "sentence_index_input (InputLaye [(None, 162)]        0                                            \n",
      "__________________________________________________________________________________________________\n",
      "embedding_23 (Embedding)        (None, 162, 100)     417200      sentence_index_input[0][0]       \n",
      "__________________________________________________________________________________________________\n",
      "price_history_input (InputLayer [(None, 30, 1)]      0                                            \n",
      "__________________________________________________________________________________________________\n",
      "model1_LSTM1 (LSTM)             (None, 162, 4)       1680        embedding_23[0][0]               \n",
      "__________________________________________________________________________________________________\n",
      "model2_LSTM1 (LSTM)             (None, 30, 4)        96          price_history_input[0][0]        \n",
      "__________________________________________________________________________________________________\n",
      "model1_dropout1 (Dropout)       (None, 162, 4)       0           model1_LSTM1[0][0]               \n",
      "__________________________________________________________________________________________________\n",
      "model2_dropout1 (Dropout)       (None, 30, 4)        0           model2_LSTM1[0][0]               \n",
      "__________________________________________________________________________________________________\n",
      "model1_LSTM2 (LSTM)             (None, 4)            144         model1_dropout1[0][0]            \n",
      "__________________________________________________________________________________________________\n",
      "model2_LSTM2 (LSTM)             (None, 4)            144         model2_dropout1[0][0]            \n",
      "__________________________________________________________________________________________________\n",
      "model1_dropout2 (Dropout)       (None, 4)            0           model1_LSTM2[0][0]               \n",
      "__________________________________________________________________________________________________\n",
      "model2_dropout2 (Dropout)       (None, 4)            0           model2_LSTM2[0][0]               \n",
      "__________________________________________________________________________________________________\n",
      "concatenate_14 (Concatenate)    (None, 8)            0           model1_dropout2[0][0]            \n",
      "                                                                 model2_dropout2[0][0]            \n",
      "__________________________________________________________________________________________________\n",
      "Dense (Dense)                   (None, 4)            36          concatenate_14[0][0]             \n",
      "__________________________________________________________________________________________________\n",
      "dropout_33 (Dropout)            (None, 4)            0           Dense[0][0]                      \n",
      "__________________________________________________________________________________________________\n",
      "dense_33 (Dense)                (None, 1)            5           dropout_33[0][0]                 \n",
      "==================================================================================================\n",
      "Total params: 419,305\n",
      "Trainable params: 2,105\n",
      "Non-trainable params: 417,200\n",
      "__________________________________________________________________________________________________\n"
     ]
    }
   ],
   "source": [
    "lstm_reg_b_w2v_ann = create_lstm_reg_b_w2v(lstm_reg_b_w2v_weights, lstm_reg_b_w2v_longest_sentence_len, (30, 1,))\n",
    "opt = tf.keras.optimizers.Adam(learning_rate=0.001)\n",
    "lstm_reg_b_w2v_ann.compile(optimizer=opt, loss='mean_squared_error', metrics=['mae'])\n",
    "lstm_reg_b_w2v_ann.summary()"
   ]
  },
  {
   "cell_type": "code",
   "execution_count": 409,
   "metadata": {},
   "outputs": [
    {
     "data": {
      "image/png": "[encoded data removed]",
      "text/plain": [
       "<IPython.core.display.Image object>"
      ]
     },
     "execution_count": 409,
     "metadata": {},
     "output_type": "execute_result"
    }
   ],
   "source": [
    "plot_model(\n",
    "    lstm_reg_b_w2v_ann,\n",
    "    to_file=\"../data/lstm_reg_b_w2v_ann.png\",\n",
    "    show_shapes=False,\n",
    "    show_layer_names=True,\n",
    "    rankdir=\"TB\"\n",
    ")"
   ]
  },
  {
   "cell_type": "code",
   "execution_count": 410,
   "metadata": {},
   "outputs": [
    {
     "name": "stdout",
     "output_type": "stream",
     "text": [
      "Train on 925 samples, validate on 457 samples\n",
      "Epoch 1/30\n",
      "896/925 [============================>.] - ETA: 0s - loss: 0.2356 - mae: 0.2948\n",
      "Epoch 00001: val_loss improved from inf to 0.18789, saving model to ./lstm_reg_b_w2v/lstm_reg_b_w2v_20112020 1613h.h5\n",
      "925/925 [==============================] - 11s 12ms/sample - loss: 0.2305 - mae: 0.2923 - val_loss: 0.1879 - val_mae: 0.2392\n",
      "Epoch 2/30\n",
      "896/925 [============================>.] - ETA: 0s - loss: 0.2162 - mae: 0.2748\n",
      "Epoch 00002: val_loss improved from 0.18789 to 0.18461, saving model to ./lstm_reg_b_w2v/lstm_reg_b_w2v_20112020 1613h.h5\n",
      "925/925 [==============================] - 3s 3ms/sample - loss: 0.2127 - mae: 0.2732 - val_loss: 0.1846 - val_mae: 0.2187\n",
      "Epoch 3/30\n",
      "896/925 [============================>.] - ETA: 0s - loss: 0.2070 - mae: 0.2521\n",
      "Epoch 00003: val_loss did not improve from 0.18461\n",
      "925/925 [==============================] - 3s 3ms/sample - loss: 0.2048 - mae: 0.2509 - val_loss: 0.1879 - val_mae: 0.2392\n",
      "Epoch 4/30\n",
      "896/925 [============================>.] - ETA: 0s - loss: 0.2014 - mae: 0.2486\n",
      "Epoch 00004: val_loss did not improve from 0.18461\n",
      "925/925 [==============================] - 3s 3ms/sample - loss: 0.2023 - mae: 0.2499 - val_loss: 0.1846 - val_mae: 0.2185\n",
      "Epoch 5/30\n",
      "896/925 [============================>.] - ETA: 0s - loss: 0.1940 - mae: 0.2434\n",
      "Epoch 00005: val_loss did not improve from 0.18461\n",
      "925/925 [==============================] - 3s 3ms/sample - loss: 0.2018 - mae: 0.2451 - val_loss: 0.1854 - val_mae: 0.2262\n",
      "Epoch 6/30\n",
      "896/925 [============================>.] - ETA: 0s - loss: 0.2046 - mae: 0.2388\n",
      "Epoch 00006: val_loss did not improve from 0.18461\n",
      "925/925 [==============================] - 3s 3ms/sample - loss: 0.2018 - mae: 0.2383 - val_loss: 0.1846 - val_mae: 0.2180\n",
      "Epoch 7/30\n",
      "896/925 [============================>.] - ETA: 0s - loss: 0.1989 - mae: 0.2347\n",
      "Epoch 00007: val_loss did not improve from 0.18461\n",
      "925/925 [==============================] - 3s 3ms/sample - loss: 0.2000 - mae: 0.2371 - val_loss: 0.1847 - val_mae: 0.2188\n",
      "Epoch 8/30\n",
      "896/925 [============================>.] - ETA: 0s - loss: 0.1991 - mae: 0.2396\n",
      "Epoch 00008: val_loss did not improve from 0.18461\n",
      "925/925 [==============================] - 3s 3ms/sample - loss: 0.1983 - mae: 0.2395 - val_loss: 0.1849 - val_mae: 0.2220\n",
      "Epoch 9/30\n",
      "896/925 [============================>.] - ETA: 0s - loss: 0.1966 - mae: 0.2336\n",
      "Epoch 00009: val_loss did not improve from 0.18461\n",
      "925/925 [==============================] - 3s 3ms/sample - loss: 0.1938 - mae: 0.2334 - val_loss: 0.1852 - val_mae: 0.2141\n",
      "Epoch 10/30\n",
      "896/925 [============================>.] - ETA: 0s - loss: 0.2018 - mae: 0.2338\n",
      "Epoch 00010: val_loss did not improve from 0.18461\n",
      "925/925 [==============================] - 3s 3ms/sample - loss: 0.1982 - mae: 0.2325 - val_loss: 0.1847 - val_mae: 0.2189\n",
      "Epoch 11/30\n",
      "896/925 [============================>.] - ETA: 0s - loss: 0.1859 - mae: 0.2254\n",
      "Epoch 00011: val_loss did not improve from 0.18461\n",
      "925/925 [==============================] - 3s 3ms/sample - loss: 0.1945 - mae: 0.2283 - val_loss: 0.1847 - val_mae: 0.2202\n",
      "Epoch 12/30\n",
      "896/925 [============================>.] - ETA: 0s - loss: 0.2003 - mae: 0.2290\n",
      "Epoch 00012: val_loss did not improve from 0.18461\n",
      "925/925 [==============================] - 3s 4ms/sample - loss: 0.1965 - mae: 0.2274 - val_loss: 0.1849 - val_mae: 0.2219\n",
      "Epoch 13/30\n",
      "896/925 [============================>.] - ETA: 0s - loss: 0.2011 - mae: 0.2325\n",
      "Epoch 00013: val_loss did not improve from 0.18461\n",
      "925/925 [==============================] - 3s 4ms/sample - loss: 0.1954 - mae: 0.2277 - val_loss: 0.1850 - val_mae: 0.2137\n",
      "Epoch 14/30\n",
      "896/925 [============================>.] - ETA: 0s - loss: 0.1957 - mae: 0.2280\n",
      "Epoch 00014: val_loss did not improve from 0.18461\n",
      "925/925 [==============================] - 3s 3ms/sample - loss: 0.1945 - mae: 0.2291 - val_loss: 0.1849 - val_mae: 0.2141\n",
      "Epoch 15/30\n",
      "896/925 [============================>.] - ETA: 0s - loss: 0.1993 - mae: 0.2312\n",
      "Epoch 00015: val_loss did not improve from 0.18461\n",
      "925/925 [==============================] - 3s 3ms/sample - loss: 0.1944 - mae: 0.2286 - val_loss: 0.1848 - val_mae: 0.2209\n",
      "Epoch 16/30\n",
      "896/925 [============================>.] - ETA: 0s - loss: 0.1963 - mae: 0.2265\n",
      "Epoch 00016: val_loss did not improve from 0.18461\n",
      "925/925 [==============================] - 3s 3ms/sample - loss: 0.1943 - mae: 0.2271 - val_loss: 0.1851 - val_mae: 0.2135\n",
      "Epoch 17/30\n",
      "896/925 [============================>.] - ETA: 0s - loss: 0.1944 - mae: 0.2254\n",
      "Epoch 00017: val_loss did not improve from 0.18461\n",
      "925/925 [==============================] - 3s 3ms/sample - loss: 0.1934 - mae: 0.2254 - val_loss: 0.1847 - val_mae: 0.2196\n",
      "Epoch 18/30\n",
      "896/925 [============================>.] - ETA: 0s - loss: 0.1913 - mae: 0.2216\n",
      "Epoch 00018: val_loss did not improve from 0.18461\n",
      "925/925 [==============================] - 3s 3ms/sample - loss: 0.1929 - mae: 0.2231 - val_loss: 0.1848 - val_mae: 0.2202\n",
      "Epoch 19/30\n",
      "896/925 [============================>.] - ETA: 0s - loss: 0.1976 - mae: 0.2262\n",
      "Epoch 00019: val_loss did not improve from 0.18461\n",
      "925/925 [==============================] - 3s 3ms/sample - loss: 0.1960 - mae: 0.2272 - val_loss: 0.1847 - val_mae: 0.2187\n",
      "Epoch 20/30\n",
      "896/925 [============================>.] - ETA: 0s - loss: 0.1980 - mae: 0.2277\n",
      "Epoch 00020: val_loss did not improve from 0.18461\n",
      "925/925 [==============================] - 3s 3ms/sample - loss: 0.1961 - mae: 0.2258 - val_loss: 0.1847 - val_mae: 0.2183\n",
      "Epoch 21/30\n",
      "896/925 [============================>.] - ETA: 0s - loss: 0.1932 - mae: 0.2216\n",
      "Epoch 00021: val_loss did not improve from 0.18461\n",
      "925/925 [==============================] - 3s 3ms/sample - loss: 0.1945 - mae: 0.2236 - val_loss: 0.1849 - val_mae: 0.2223\n",
      "Epoch 22/30\n",
      "896/925 [============================>.] - ETA: 0s - loss: 0.1934 - mae: 0.2207\n",
      "Epoch 00022: val_loss did not improve from 0.18461\n",
      "925/925 [==============================] - 3s 3ms/sample - loss: 0.1924 - mae: 0.2215 - val_loss: 0.1847 - val_mae: 0.2194\n",
      "Epoch 23/30\n",
      "896/925 [============================>.] - ETA: 0s - loss: 0.1920 - mae: 0.2226\n",
      "Epoch 00023: val_loss did not improve from 0.18461\n",
      "925/925 [==============================] - 3s 3ms/sample - loss: 0.1939 - mae: 0.2240 - val_loss: 0.1847 - val_mae: 0.2171\n",
      "Epoch 24/30\n",
      "896/925 [============================>.] - ETA: 0s - loss: 0.1842 - mae: 0.2195\n",
      "Epoch 00024: val_loss did not improve from 0.18461\n",
      "925/925 [==============================] - 3s 3ms/sample - loss: 0.1927 - mae: 0.2207 - val_loss: 0.1848 - val_mae: 0.2199\n",
      "Epoch 25/30\n",
      "896/925 [============================>.] - ETA: 0s - loss: 0.1956 - mae: 0.2225\n",
      "Epoch 00025: val_loss did not improve from 0.18461\n",
      "925/925 [==============================] - 3s 3ms/sample - loss: 0.1925 - mae: 0.2209 - val_loss: 0.1847 - val_mae: 0.2158\n",
      "Epoch 26/30\n",
      "896/925 [============================>.] - ETA: 0s - loss: 0.1955 - mae: 0.2199\n",
      "Epoch 00026: val_loss did not improve from 0.18461\n",
      "925/925 [==============================] - 3s 3ms/sample - loss: 0.1942 - mae: 0.2206 - val_loss: 0.1847 - val_mae: 0.2167\n",
      "Epoch 27/30\n",
      "896/925 [============================>.] - ETA: 0s - loss: 0.1963 - mae: 0.2248\n",
      "Epoch 00027: val_loss did not improve from 0.18461\n",
      "925/925 [==============================] - 3s 3ms/sample - loss: 0.1913 - mae: 0.2218 - val_loss: 0.1847 - val_mae: 0.2166\n",
      "Epoch 28/30\n",
      "896/925 [============================>.] - ETA: 0s - loss: 0.1921 - mae: 0.2212\n",
      "Epoch 00028: val_loss did not improve from 0.18461\n",
      "925/925 [==============================] - 3s 3ms/sample - loss: 0.1923 - mae: 0.2208 - val_loss: 0.1847 - val_mae: 0.2171\n",
      "Epoch 29/30\n",
      "896/925 [============================>.] - ETA: 0s - loss: 0.1887 - mae: 0.2189\n",
      "Epoch 00029: val_loss did not improve from 0.18461\n",
      "925/925 [==============================] - 3s 3ms/sample - loss: 0.1923 - mae: 0.2206 - val_loss: 0.1847 - val_mae: 0.2193\n",
      "Epoch 30/30\n",
      "896/925 [============================>.] - ETA: 0s - loss: 0.1799 - mae: 0.2171\n",
      "Epoch 00030: val_loss did not improve from 0.18461\n",
      "925/925 [==============================] - 3s 3ms/sample - loss: 0.1919 - mae: 0.2206 - val_loss: 0.1847 - val_mae: 0.2168\n"
     ]
    }
   ],
   "source": [
    "now = dt.datetime.now()\n",
    "dt_string = now.strftime(\"%d%m%Y %H%Mh\")\n",
    "\n",
    "lstm_reg_b_w2v_checkpoint_filepath = f'../models/lstm_reg_b_w2v/lstm_reg_b_w2v_{dt_string}.h5'\n",
    "model_checkpoint_callback = keras.callbacks.ModelCheckpoint(\n",
    "    filepath=lstm_reg_b_w2v_checkpoint_filepath,\n",
    "    save_weights_only=True,\n",
    "    monitor='val_loss',\n",
    "    mode='min',\n",
    "    verbose = 1,\n",
    "    save_best_only=True) \n",
    "\n",
    "lstm_reg_b_w2v_history = lstm_reg_b_w2v_ann.fit(X_train_lstm_reg_b_w2v_input, y_train_lstm_reg_b, validation_split=0.33, epochs=30, callbacks=[model_checkpoint_callback])"
   ]
  },
  {
   "cell_type": "code",
   "execution_count": 351,
   "metadata": {},
   "outputs": [],
   "source": [
    "lstm_reg_b_w2v_ann_loaded = create_lstm_reg_b_w2v(lstm_reg_b_w2v_weights, lstm_reg_b_w2v_longest_sentence_len, (30,1,))\n",
    "lstm_reg_b_w2v_ann_loaded.load_weights(lstm_reg_b_w2v_checkpoint_filepath)\n",
    "lstm_reg_b_w2v_ann_loaded.compile(optimizer=opt, loss='mean_squared_error', metrics=['mae'])"
   ]
  },
  {
   "cell_type": "code",
   "execution_count": 352,
   "metadata": {},
   "outputs": [
    {
     "name": "stdout",
     "output_type": "stream",
     "text": [
      "682/682 [==============================] - 2s 3ms/sample - loss: 0.1860 - mae: 0.2085\n",
      "Training MSE: 0.4350762875556119\n",
      "Test MSE: 0.43124441116935547\n",
      "Test R^2: -0.009746501478841596\n",
      "Baseline MSE: 0.4295480657197291\n"
     ]
    }
   ],
   "source": [
    "dev_loss, dev_acc = lstm_reg_b_w2v_ann_loaded.evaluate(X_test_lstm_reg_b_w2v_input, y_test_lstm_reg_b, verbose=1)\n",
    "\n",
    "print(f\"Training MSE: {np.sqrt(metrics.mean_squared_error(y_train_lstm_reg_b, lstm_reg_b_w2v_ann_loaded.predict(X_train_lstm_reg_b_w2v_input)))}\")\n",
    "print(f\"Test MSE: {np.sqrt(metrics.mean_squared_error(y_test_lstm_reg_b, lstm_reg_b_w2v_ann_loaded.predict(X_test_lstm_reg_b_w2v_input)))}\")\n",
    "print(f\"Test R^2: {metrics.r2_score(y_test_lstm_reg_b, lstm_reg_b_w2v_ann_loaded.predict(X_test_lstm_reg_b_w2v_input))}\")\n",
    "print(f\"Baseline MSE: {np.sqrt(metrics.mean_squared_error(y_test_lstm_reg_b, 0*y_test_lstm_reg_b))}\")"
   ]
  },
  {
   "cell_type": "code",
   "execution_count": 353,
   "metadata": {},
   "outputs": [
    {
     "data": {
      "image/png": "[encoded data removed]",
      "text/plain": [
       "<Figure size 432x288 with 1 Axes>"
      ]
     },
     "metadata": {
      "needs_background": "light"
     },
     "output_type": "display_data"
    }
   ],
   "source": [
    "# summarize history for loss\n",
    "plt.plot(lstm_reg_b_w2v_history.history['loss'])\n",
    "plt.plot(lstm_reg_b_w2v_history.history['val_loss'])\n",
    "plt.title('model loss')\n",
    "plt.ylabel('loss')\n",
    "plt.xlabel('epoch')\n",
    "plt.legend(['train', 'test'], loc='upper left')\n",
    "plt.show()"
   ]
  },
  {
   "cell_type": "markdown",
   "metadata": {},
   "source": [
    "### Method 2: Using GloVe word embedding"
   ]
  },
  {
   "cell_type": "code",
   "execution_count": 411,
   "metadata": {},
   "outputs": [
    {
     "name": "stdout",
     "output_type": "stream",
     "text": [
      "Found 1193514 word vectors.\n",
      "Found 4174 unique tokens.\n"
     ]
    }
   ],
   "source": [
    "dimension = 100\n",
    "embeddings_index = {}\n",
    "f = open(f'../data/glove/glove.twitter.27B.{dimension}d.txt', encoding='utf8')\n",
    "for line in f:\n",
    "    values = line.split()\n",
    "    word = values[0]\n",
    "    coefs = np.asarray(values[1:], dtype='float32')\n",
    "    embeddings_index[word] = coefs\n",
    "f.close()\n",
    "print('Found %s word vectors.' % len(embeddings_index))\n",
    "\n",
    "tokenizer = keras.preprocessing.text.Tokenizer()\n",
    "tokenizer.fit_on_texts(X_train_lstm_reg_b.iloc[:,0]) # tweets used are same as Model B Word2Vec tweets\n",
    "word_index = tokenizer.word_index\n",
    "vocab_size = len(tokenizer.word_index) + 1\n",
    "\n",
    "#text to integers\n",
    "sequences = tokenizer.texts_to_sequences(X_train_lstm_reg_b.iloc[:,0])\n",
    "lstm_reg_b_glove_longest_sentence_len = 30\n",
    "X_train_lstm_reg_b_glove_padded = keras.preprocessing.sequence.pad_sequences(sequences, maxlen=lstm_reg_b_glove_longest_sentence_len, padding='pre')\n",
    "\n",
    "print('Found %s unique tokens.' % len(word_index))\n",
    "\n",
    "unique_words = set(word_index.keys())\n",
    "def prepare_test_x_glove(x):\n",
    "    global unique_words\n",
    "    global word_index\n",
    "    global lstm_reg_b_glove_longest_sentence_len\n",
    "    \n",
    "    result = []\n",
    "    for tweet in x:\n",
    "        indices = []\n",
    "        for word in tweet.split():\n",
    "            if word in unique_words:\n",
    "                indices.append(word_index[word])\n",
    "            else:\n",
    "                indices.append(0)\n",
    "            \n",
    "        result.append(indices)\n",
    "    return keras.preprocessing.sequence.pad_sequences(result, maxlen=lstm_reg_b_glove_longest_sentence_len, padding='pre')\n",
    "\n",
    "X_test_lstm_reg_b_glove_padded = prepare_test_x_glove(X_test_lstm_reg_b.iloc[:,0])"
   ]
  },
  {
   "cell_type": "code",
   "execution_count": 412,
   "metadata": {},
   "outputs": [],
   "source": [
    "X_train_lstm_reg_b_glove_input = [X_train_lstm_reg_b_glove_padded, np.array(X_train_price_history)]\n",
    "X_test_lstm_reg_b_glove_input = [X_test_lstm_reg_b_glove_padded, X_test_price_history]"
   ]
  },
  {
   "cell_type": "code",
   "execution_count": 413,
   "metadata": {},
   "outputs": [],
   "source": [
    "def create_lstm_reg_b_glove(longest_sentence_len, price_history_shape):\n",
    "    global embedding_layer_glove\n",
    "    # word vectors model\n",
    "    model1_input = layers.Input(shape=longest_sentence_len, dtype='int32', name='sentence_index_input')\n",
    "    model1 = embedding_layer_glove(model1_input)  \n",
    "    model1 = layers.LSTM(4, return_sequences=True, name='model1_LSTM1')(model1)\n",
    "    model1 = layers.Dropout(0.25,name='model1_dropout1')(model1)\n",
    "    model1 = layers.LSTM(4, return_sequences=False, name='model1_LSTM2')(model1)\n",
    "    model1 = layers.Dropout(0.25,name='model1_dropout2')(model1)\n",
    "    \n",
    "    # price history model\n",
    "    model2_input = layers.Input(shape=price_history_shape, dtype='float32', name='price_history_input')\n",
    "    model2 = layers.LSTM(4, return_sequences=True, name='model2_LSTM1')(model2_input)\n",
    "    model2 = layers.Dropout(0.25,name='model2_dropout1')(model2)\n",
    "    model2 = layers.LSTM(4, return_sequences=False, name='model2_LSTM2')(model2)\n",
    "    model2 = layers.Dropout(0.25,name='model2_dropout2')(model2)\n",
    "    \n",
    "    model_concat = layers.concatenate([model1, model2])\n",
    "    model_concat = layers.Dense(4,name='Dense',activation='tanh')(model_concat)\n",
    "    model_concat = layers.Dropout(0.1)(model_concat)\n",
    "    model_concat = layers.Dense(1,activation='linear')(model_concat)\n",
    "    \n",
    "    model = keras.models.Model(inputs=[model1_input, model2_input], outputs = model_concat)\n",
    "    \n",
    "    return model"
   ]
  },
  {
   "cell_type": "code",
   "execution_count": 414,
   "metadata": {},
   "outputs": [
    {
     "name": "stdout",
     "output_type": "stream",
     "text": [
      "Model: \"model_15\"\n",
      "__________________________________________________________________________________________________\n",
      "Layer (type)                    Output Shape         Param #     Connected to                     \n",
      "==================================================================================================\n",
      "sentence_index_input (InputLaye [(None, 30)]         0                                            \n",
      "__________________________________________________________________________________________________\n",
      "embedding_22 (Embedding)        (None, 30, 100)      433700      sentence_index_input[0][0]       \n",
      "__________________________________________________________________________________________________\n",
      "price_history_input (InputLayer [(None, 30, 1)]      0                                            \n",
      "__________________________________________________________________________________________________\n",
      "model1_LSTM1 (LSTM)             (None, 30, 4)        1680        embedding_22[2][0]               \n",
      "__________________________________________________________________________________________________\n",
      "model2_LSTM1 (LSTM)             (None, 30, 4)        96          price_history_input[0][0]        \n",
      "__________________________________________________________________________________________________\n",
      "model1_dropout1 (Dropout)       (None, 30, 4)        0           model1_LSTM1[0][0]               \n",
      "__________________________________________________________________________________________________\n",
      "model2_dropout1 (Dropout)       (None, 30, 4)        0           model2_LSTM1[0][0]               \n",
      "__________________________________________________________________________________________________\n",
      "model1_LSTM2 (LSTM)             (None, 4)            144         model1_dropout1[0][0]            \n",
      "__________________________________________________________________________________________________\n",
      "model2_LSTM2 (LSTM)             (None, 4)            144         model2_dropout1[0][0]            \n",
      "__________________________________________________________________________________________________\n",
      "model1_dropout2 (Dropout)       (None, 4)            0           model1_LSTM2[0][0]               \n",
      "__________________________________________________________________________________________________\n",
      "model2_dropout2 (Dropout)       (None, 4)            0           model2_LSTM2[0][0]               \n",
      "__________________________________________________________________________________________________\n",
      "concatenate_15 (Concatenate)    (None, 8)            0           model1_dropout2[0][0]            \n",
      "                                                                 model2_dropout2[0][0]            \n",
      "__________________________________________________________________________________________________\n",
      "Dense (Dense)                   (None, 4)            36          concatenate_15[0][0]             \n",
      "__________________________________________________________________________________________________\n",
      "dropout_34 (Dropout)            (None, 4)            0           Dense[0][0]                      \n",
      "__________________________________________________________________________________________________\n",
      "dense_34 (Dense)                (None, 1)            5           dropout_34[0][0]                 \n",
      "==================================================================================================\n",
      "Total params: 435,805\n",
      "Trainable params: 2,105\n",
      "Non-trainable params: 433,700\n",
      "__________________________________________________________________________________________________\n"
     ]
    }
   ],
   "source": [
    "lstm_reg_b_glove_ann = create_lstm_reg_b_glove(lstm_reg_b_glove_longest_sentence_len, (30,1,))\n",
    "opt = tf.keras.optimizers.Adam(learning_rate=0.001)\n",
    "lstm_reg_b_glove_ann.compile(optimizer=opt, loss='mean_squared_error', metrics=['mae'])\n",
    "lstm_reg_b_glove_ann.summary()"
   ]
  },
  {
   "cell_type": "code",
   "execution_count": 415,
   "metadata": {},
   "outputs": [
    {
     "data": {
      "image/png": "[encoded data removed]",
      "text/plain": [
       "<IPython.core.display.Image object>"
      ]
     },
     "execution_count": 415,
     "metadata": {},
     "output_type": "execute_result"
    }
   ],
   "source": [
    "plot_model(\n",
    "    lstm_reg_b_glove_ann,\n",
    "    to_file=\"../data/lstm_reg_b_glove_ann.png\",\n",
    "    show_shapes=False,\n",
    "    show_layer_names=True,\n",
    "    rankdir=\"TB\"\n",
    ")"
   ]
  },
  {
   "cell_type": "code",
   "execution_count": 416,
   "metadata": {},
   "outputs": [
    {
     "name": "stdout",
     "output_type": "stream",
     "text": [
      "Train on 925 samples, validate on 457 samples\n",
      "Epoch 1/30\n",
      "864/925 [===========================>..] - ETA: 0s - loss: 0.1823 - mae: 0.2467\n",
      "Epoch 00001: val_loss improved from inf to 0.18550, saving model to ./lstm_reg_b_glove/lstm_reg_b_glove_20112020 1616h.h5\n",
      "925/925 [==============================] - 9s 9ms/sample - loss: 0.2022 - mae: 0.2462 - val_loss: 0.1855 - val_mae: 0.2192\n",
      "Epoch 2/30\n",
      "864/925 [===========================>..] - ETA: 0s - loss: 0.2007 - mae: 0.2330\n",
      "Epoch 00002: val_loss improved from 0.18550 to 0.18531, saving model to ./lstm_reg_b_glove/lstm_reg_b_glove_20112020 1616h.h5\n",
      "925/925 [==============================] - 1s 771us/sample - loss: 0.1934 - mae: 0.2296 - val_loss: 0.1853 - val_mae: 0.2181\n",
      "Epoch 3/30\n",
      "896/925 [============================>.] - ETA: 0s - loss: 0.1981 - mae: 0.2296\n",
      "Epoch 00003: val_loss improved from 0.18531 to 0.18531, saving model to ./lstm_reg_b_glove/lstm_reg_b_glove_20112020 1616h.h5\n",
      "925/925 [==============================] - 1s 775us/sample - loss: 0.1930 - mae: 0.2260 - val_loss: 0.1853 - val_mae: 0.2174\n",
      "Epoch 4/30\n",
      "896/925 [============================>.] - ETA: 0s - loss: 0.1980 - mae: 0.2261\n",
      "Epoch 00004: val_loss improved from 0.18531 to 0.18520, saving model to ./lstm_reg_b_glove/lstm_reg_b_glove_20112020 1616h.h5\n",
      "925/925 [==============================] - 1s 793us/sample - loss: 0.1940 - mae: 0.2243 - val_loss: 0.1852 - val_mae: 0.2203\n",
      "Epoch 5/30\n",
      "896/925 [============================>.] - ETA: 0s - loss: 0.1823 - mae: 0.2176\n",
      "Epoch 00005: val_loss improved from 0.18520 to 0.18510, saving model to ./lstm_reg_b_glove/lstm_reg_b_glove_20112020 1616h.h5\n",
      "925/925 [==============================] - 1s 793us/sample - loss: 0.1922 - mae: 0.2205 - val_loss: 0.1851 - val_mae: 0.2186\n",
      "Epoch 6/30\n",
      "864/925 [===========================>..] - ETA: 0s - loss: 0.1841 - mae: 0.2145\n",
      "Epoch 00006: val_loss did not improve from 0.18510\n",
      "925/925 [==============================] - 1s 843us/sample - loss: 0.1911 - mae: 0.2203 - val_loss: 0.1852 - val_mae: 0.2170\n",
      "Epoch 7/30\n",
      "800/925 [========================>.....] - ETA: 0s - loss: 0.1976 - mae: 0.2192\n",
      "Epoch 00007: val_loss improved from 0.18510 to 0.18508, saving model to ./lstm_reg_b_glove/lstm_reg_b_glove_20112020 1616h.h5\n",
      "925/925 [==============================] - 1s 826us/sample - loss: 0.1917 - mae: 0.2206 - val_loss: 0.1851 - val_mae: 0.2191\n",
      "Epoch 8/30\n",
      "864/925 [===========================>..] - ETA: 0s - loss: 0.1645 - mae: 0.2121\n",
      "Epoch 00008: val_loss did not improve from 0.18508\n",
      "925/925 [==============================] - 1s 789us/sample - loss: 0.1920 - mae: 0.2199 - val_loss: 0.1851 - val_mae: 0.2208\n",
      "Epoch 9/30\n",
      "896/925 [============================>.] - ETA: 0s - loss: 0.1960 - mae: 0.2227\n",
      "Epoch 00009: val_loss improved from 0.18508 to 0.18487, saving model to ./lstm_reg_b_glove/lstm_reg_b_glove_20112020 1616h.h5\n",
      "925/925 [==============================] - 1s 788us/sample - loss: 0.1918 - mae: 0.2209 - val_loss: 0.1849 - val_mae: 0.2178\n",
      "Epoch 10/30\n",
      "896/925 [============================>.] - ETA: 0s - loss: 0.1951 - mae: 0.2217\n",
      "Epoch 00010: val_loss improved from 0.18487 to 0.18483, saving model to ./lstm_reg_b_glove/lstm_reg_b_glove_20112020 1616h.h5\n",
      "925/925 [==============================] - 1s 792us/sample - loss: 0.1907 - mae: 0.2197 - val_loss: 0.1848 - val_mae: 0.2180\n",
      "Epoch 11/30\n",
      "896/925 [============================>.] - ETA: 0s - loss: 0.1957 - mae: 0.2219\n",
      "Epoch 00011: val_loss improved from 0.18483 to 0.18481, saving model to ./lstm_reg_b_glove/lstm_reg_b_glove_20112020 1616h.h5\n",
      "925/925 [==============================] - 1s 799us/sample - loss: 0.1913 - mae: 0.2198 - val_loss: 0.1848 - val_mae: 0.2167\n",
      "Epoch 12/30\n",
      "896/925 [============================>.] - ETA: 0s - loss: 0.1959 - mae: 0.2212\n",
      "Epoch 00012: val_loss did not improve from 0.18481\n",
      "925/925 [==============================] - 1s 788us/sample - loss: 0.1914 - mae: 0.2188 - val_loss: 0.1848 - val_mae: 0.2181\n",
      "Epoch 13/30\n",
      "896/925 [============================>.] - ETA: 0s - loss: 0.1939 - mae: 0.2188\n",
      "Epoch 00013: val_loss improved from 0.18481 to 0.18475, saving model to ./lstm_reg_b_glove/lstm_reg_b_glove_20112020 1616h.h5\n",
      "925/925 [==============================] - 1s 834us/sample - loss: 0.1916 - mae: 0.2194 - val_loss: 0.1848 - val_mae: 0.2193\n",
      "Epoch 14/30\n",
      "896/925 [============================>.] - ETA: 0s - loss: 0.1920 - mae: 0.2199\n",
      "Epoch 00014: val_loss did not improve from 0.18475\n",
      "925/925 [==============================] - 1s 837us/sample - loss: 0.1911 - mae: 0.2205 - val_loss: 0.1848 - val_mae: 0.2159\n",
      "Epoch 15/30\n",
      "832/925 [=========================>....] - ETA: 0s - loss: 0.1875 - mae: 0.2206\n",
      "Epoch 00015: val_loss improved from 0.18475 to 0.18455, saving model to ./lstm_reg_b_glove/lstm_reg_b_glove_20112020 1616h.h5\n",
      "925/925 [==============================] - 1s 777us/sample - loss: 0.1895 - mae: 0.2193 - val_loss: 0.1846 - val_mae: 0.2188\n",
      "Epoch 16/30\n",
      "896/925 [============================>.] - ETA: 0s - loss: 0.1779 - mae: 0.2165\n",
      "Epoch 00016: val_loss did not improve from 0.18455\n",
      "925/925 [==============================] - 1s 762us/sample - loss: 0.1911 - mae: 0.2197 - val_loss: 0.1847 - val_mae: 0.2164\n",
      "Epoch 17/30\n",
      "896/925 [============================>.] - ETA: 0s - loss: 0.1801 - mae: 0.2192\n",
      "Epoch 00017: val_loss improved from 0.18455 to 0.18436, saving model to ./lstm_reg_b_glove/lstm_reg_b_glove_20112020 1616h.h5\n",
      "925/925 [==============================] - 1s 808us/sample - loss: 0.1888 - mae: 0.2204 - val_loss: 0.1844 - val_mae: 0.2186\n",
      "Epoch 18/30\n",
      "864/925 [===========================>..] - ETA: 0s - loss: 0.1767 - mae: 0.2193\n",
      "Epoch 00018: val_loss did not improve from 0.18436\n",
      "925/925 [==============================] - 1s 776us/sample - loss: 0.1894 - mae: 0.2240 - val_loss: 0.1845 - val_mae: 0.2224\n",
      "Epoch 19/30\n",
      "896/925 [============================>.] - ETA: 0s - loss: 0.1960 - mae: 0.2281\n",
      "Epoch 00019: val_loss did not improve from 0.18436\n",
      "925/925 [==============================] - 1s 777us/sample - loss: 0.1912 - mae: 0.2256 - val_loss: 0.1852 - val_mae: 0.2190\n",
      "Epoch 20/30\n",
      "864/925 [===========================>..] - ETA: 0s - loss: 0.1831 - mae: 0.2226\n",
      "Epoch 00020: val_loss did not improve from 0.18436\n",
      "925/925 [==============================] - 1s 808us/sample - loss: 0.1878 - mae: 0.2224 - val_loss: 0.1845 - val_mae: 0.2220\n",
      "Epoch 21/30\n",
      "864/925 [===========================>..] - ETA: 0s - loss: 0.1986 - mae: 0.2304\n",
      "Epoch 00021: val_loss did not improve from 0.18436\n",
      "925/925 [==============================] - 1s 759us/sample - loss: 0.1875 - mae: 0.2230 - val_loss: 0.1844 - val_mae: 0.2226\n",
      "Epoch 22/30\n",
      "896/925 [============================>.] - ETA: 0s - loss: 0.1914 - mae: 0.2257\n",
      "Epoch 00022: val_loss did not improve from 0.18436\n",
      "925/925 [==============================] - 1s 774us/sample - loss: 0.1865 - mae: 0.2223 - val_loss: 0.1850 - val_mae: 0.2240\n",
      "Epoch 23/30\n",
      "832/925 [=========================>....] - ETA: 0s - loss: 0.1748 - mae: 0.2230\n",
      "Epoch 00023: val_loss did not improve from 0.18436\n",
      "925/925 [==============================] - 1s 813us/sample - loss: 0.1824 - mae: 0.2255 - val_loss: 0.1860 - val_mae: 0.2333\n",
      "Epoch 24/30\n",
      "864/925 [===========================>..] - ETA: 0s - loss: 0.1649 - mae: 0.2263\n",
      "Epoch 00024: val_loss did not improve from 0.18436\n",
      "925/925 [==============================] - 1s 789us/sample - loss: 0.1807 - mae: 0.2301 - val_loss: 0.1865 - val_mae: 0.2324\n",
      "Epoch 25/30\n",
      "864/925 [===========================>..] - ETA: 0s - loss: 0.1477 - mae: 0.2146\n",
      "Epoch 00025: val_loss did not improve from 0.18436\n",
      "925/925 [==============================] - 1s 775us/sample - loss: 0.1811 - mae: 0.2297 - val_loss: 0.1872 - val_mae: 0.2363\n",
      "Epoch 26/30\n",
      "832/925 [=========================>....] - ETA: 0s - loss: 0.1760 - mae: 0.2319\n",
      "Epoch 00026: val_loss did not improve from 0.18436\n",
      "925/925 [==============================] - 1s 791us/sample - loss: 0.1735 - mae: 0.2332 - val_loss: 0.1903 - val_mae: 0.2418\n",
      "Epoch 27/30\n",
      "896/925 [============================>.] - ETA: 0s - loss: 0.1779 - mae: 0.2366\n",
      "Epoch 00027: val_loss did not improve from 0.18436\n",
      "925/925 [==============================] - 1s 777us/sample - loss: 0.1751 - mae: 0.2349 - val_loss: 0.1902 - val_mae: 0.2430\n",
      "Epoch 28/30\n",
      "896/925 [============================>.] - ETA: 0s - loss: 0.1660 - mae: 0.2286\n",
      "Epoch 00028: val_loss did not improve from 0.18436\n",
      "925/925 [==============================] - 1s 795us/sample - loss: 0.1686 - mae: 0.2321 - val_loss: 0.1946 - val_mae: 0.2543\n",
      "Epoch 29/30\n",
      "864/925 [===========================>..] - ETA: 0s - loss: 0.1661 - mae: 0.2383\n",
      "Epoch 00029: val_loss did not improve from 0.18436\n",
      "925/925 [==============================] - 1s 770us/sample - loss: 0.1620 - mae: 0.2364 - val_loss: 0.1931 - val_mae: 0.2531\n",
      "Epoch 30/30\n",
      "896/925 [============================>.] - ETA: 0s - loss: 0.1708 - mae: 0.2417\n",
      "Epoch 00030: val_loss did not improve from 0.18436\n",
      "925/925 [==============================] - 1s 814us/sample - loss: 0.1676 - mae: 0.2395 - val_loss: 0.1947 - val_mae: 0.2519\n"
     ]
    }
   ],
   "source": [
    "now = dt.datetime.now()\n",
    "dt_string = now.strftime(\"%d%m%Y %H%Mh\")\n",
    "\n",
    "lstm_reg_b_glove_checkpoint_filepath = f'../models/lstm_reg_b_glove/lstm_reg_b_glove_{dt_string}.h5'\n",
    "model_checkpoint_callback = keras.callbacks.ModelCheckpoint(\n",
    "    filepath=lstm_reg_b_glove_checkpoint_filepath,\n",
    "    save_weights_only=True,\n",
    "    monitor='val_loss',\n",
    "    mode='min',\n",
    "    verbose = 1,\n",
    "    save_best_only=True) \n",
    "\n",
    "lstm_reg_b_glove_history = lstm_reg_b_glove_ann.fit(X_train_lstm_reg_b_glove_input, y_train_lstm_reg_b, validation_split=0.33, epochs=30, callbacks=[model_checkpoint_callback])"
   ]
  },
  {
   "cell_type": "code",
   "execution_count": 417,
   "metadata": {},
   "outputs": [],
   "source": [
    "lstm_reg_b_glove_ann_loaded = create_lstm_reg_b_glove(lstm_reg_b_glove_longest_sentence_len, (30,1,))\n",
    "lstm_reg_b_glove_ann_loaded.load_weights(lstm_reg_b_glove_checkpoint_filepath)\n",
    "lstm_reg_b_glove_ann_loaded.compile(optimizer=opt, loss='mean_squared_error', metrics=['mae'])"
   ]
  },
  {
   "cell_type": "code",
   "execution_count": 418,
   "metadata": {},
   "outputs": [
    {
     "name": "stdout",
     "output_type": "stream",
     "text": [
      "682/682 [==============================] - 2s 3ms/sample - loss: 0.1866 - mae: 0.2117\n",
      "Training MSE: 0.4320179122916018\n",
      "Test MSE: 0.4319888794556886\n",
      "Test R^2: -0.013235813286825548\n",
      "Baseline MSE: 0.4295480657197291\n"
     ]
    }
   ],
   "source": [
    "dev_loss, dev_acc = lstm_reg_b_glove_ann_loaded.evaluate(X_test_lstm_reg_b_glove_input, y_test_lstm_reg_b, verbose=1)\n",
    "\n",
    "print(f\"Training MSE: {np.sqrt(metrics.mean_squared_error(y_train_lstm_reg_b, lstm_reg_b_glove_ann_loaded.predict(X_train_lstm_reg_b_glove_input)))}\")\n",
    "print(f\"Test MSE: {np.sqrt(metrics.mean_squared_error(y_test_lstm_reg_b, lstm_reg_b_glove_ann_loaded.predict(X_test_lstm_reg_b_glove_input)))}\")\n",
    "print(f\"Test R^2: {metrics.r2_score(y_test_lstm_reg_b, lstm_reg_b_glove_ann_loaded.predict(X_test_lstm_reg_b_glove_input))}\")\n",
    "print(f\"Baseline MSE: {np.sqrt(metrics.mean_squared_error(y_test_lstm_reg_b, 0*y_test_lstm_reg_b))}\")"
   ]
  },
  {
   "cell_type": "code",
   "execution_count": 419,
   "metadata": {},
   "outputs": [
    {
     "data": {
      "image/png": "[encoded data removed]",
      "text/plain": [
       "<Figure size 432x288 with 1 Axes>"
      ]
     },
     "metadata": {
      "needs_background": "light"
     },
     "output_type": "display_data"
    }
   ],
   "source": [
    "# summarize history for loss\n",
    "plt.plot(lstm_reg_b_glove_history.history['loss'])\n",
    "plt.plot(lstm_reg_b_glove_history.history['val_loss'])\n",
    "plt.title('model loss')\n",
    "plt.ylabel('loss')\n",
    "plt.xlabel('epoch')\n",
    "plt.legend(['train', 'test'], loc='upper left')\n",
    "plt.show()"
   ]
  },
  {
   "cell_type": "markdown",
   "metadata": {},
   "source": [
    "# 2. Classification"
   ]
  },
  {
   "cell_type": "markdown",
   "metadata": {},
   "source": [
    "## Method 1: Word-Based"
   ]
  },
  {
   "cell_type": "code",
   "execution_count": 420,
   "metadata": {},
   "outputs": [],
   "source": [
    "### get the range of the absolute diff in price change after tweet"
   ]
  },
  {
   "cell_type": "code",
   "execution_count": 75,
   "metadata": {},
   "outputs": [
    {
     "data": {
      "text/plain": [
       "-3.989999999999952"
      ]
     },
     "execution_count": 75,
     "metadata": {},
     "output_type": "execute_result"
    }
   ],
   "source": [
    "min(master_df.loc[:,\"60mins_price_diff_abs\"])"
   ]
  },
  {
   "cell_type": "code",
   "execution_count": 76,
   "metadata": {},
   "outputs": [
    {
     "data": {
      "text/plain": [
       "2.9699999999999704"
      ]
     },
     "execution_count": 76,
     "metadata": {},
     "output_type": "execute_result"
    }
   ],
   "source": [
    "max(master_df.loc[:,\"60mins_price_diff_abs\"])"
   ]
  },
  {
   "cell_type": "code",
   "execution_count": 77,
   "metadata": {},
   "outputs": [],
   "source": [
    "# Add a target column for the y label {-1,0,1}"
   ]
  },
  {
   "cell_type": "code",
   "execution_count": 78,
   "metadata": {},
   "outputs": [],
   "source": [
    "target_value = []\n",
    "\n",
    "for i in range(0, len(master_df)):\n",
    "    \n",
    "    if master_df.loc[i,'60mins_price_diff_abs'] >= 0.020000:\n",
    "        target_value.append(1)\n",
    "\n",
    "    elif master_df.loc[i,'60mins_price_diff_abs'] <= -0.003393:\n",
    "        target_value.append(-1)\n",
    "\n",
    "    else:\n",
    "        target_value.append(0)"
   ]
  },
  {
   "cell_type": "code",
   "execution_count": 79,
   "metadata": {},
   "outputs": [],
   "source": [
    "classification_df = master_df.copy()\n",
    "classification_df.loc[:, 'target'] = target_value"
   ]
  },
  {
   "cell_type": "code",
   "execution_count": 80,
   "metadata": {},
   "outputs": [],
   "source": [
    "# Drop missing values before fitting the models\n",
    "classification_df.dropna(inplace=True)"
   ]
  },
  {
   "cell_type": "code",
   "execution_count": 81,
   "metadata": {},
   "outputs": [],
   "source": [
    "# Define the x and y variables\n",
    "X_classification = classification_df.text_LSTM\n",
    "y_classification = classification_df.target"
   ]
  },
  {
   "cell_type": "code",
   "execution_count": 82,
   "metadata": {},
   "outputs": [],
   "source": [
    "# Train-test split for classification tasks\n",
    "X_train_classification , X_test_classification, y_train_classification, y_test_classification = train_test_split(X_classification, y_classification, test_size=0.33, random_state=2020)"
   ]
  },
  {
   "cell_type": "code",
   "execution_count": 83,
   "metadata": {},
   "outputs": [],
   "source": [
    "# Get an understanding of the class distribution in training and test"
   ]
  },
  {
   "cell_type": "code",
   "execution_count": 84,
   "metadata": {},
   "outputs": [
    {
     "data": {
      "text/plain": [
       " 1    737\n",
       "-1    737\n",
       " 0    737\n",
       "Name: target, dtype: int64"
      ]
     },
     "execution_count": 84,
     "metadata": {},
     "output_type": "execute_result"
    }
   ],
   "source": [
    "y_train.value_counts()"
   ]
  },
  {
   "cell_type": "code",
   "execution_count": 85,
   "metadata": {},
   "outputs": [
    {
     "data": {
      "text/plain": [
       " 1    196\n",
       "-1    165\n",
       " 0     89\n",
       "Name: target, dtype: int64"
      ]
     },
     "execution_count": 85,
     "metadata": {},
     "output_type": "execute_result"
    }
   ],
   "source": [
    "y_test.value_counts()"
   ]
  },
  {
   "cell_type": "markdown",
   "metadata": {},
   "source": [
    "### Naive Bayes"
   ]
  },
  {
   "cell_type": "code",
   "execution_count": 90,
   "metadata": {},
   "outputs": [
    {
     "name": "stdout",
     "output_type": "stream",
     "text": [
      "Accuracy of Naive Bayes Classifier: 41.05%\n",
      "\n",
      "Confusion Matrix of Naive Bayes Classifier:\n",
      "\n",
      "[[163   3 116]\n",
      " [ 71   2  69]\n",
      " [166   3 133]]\n",
      "\n",
      "Classification Report of Naive Bayes Classifier:\n",
      "\n",
      "              precision    recall  f1-score   support\n",
      "\n",
      "          -1       0.41      0.58      0.48       282\n",
      "           0       0.25      0.01      0.03       142\n",
      "           1       0.42      0.44      0.43       302\n",
      "\n",
      "    accuracy                           0.41       726\n",
      "   macro avg       0.36      0.34      0.31       726\n",
      "weighted avg       0.38      0.41      0.37       726\n",
      "\n"
     ]
    }
   ],
   "source": [
    "#Naive-Bayes classification\n",
    "#more no. of features doesnt seem to improve accuracy after 5000\n",
    "#better results using cv + tfidftrransformer\n",
    "pipe1_ = Pipeline([('vect', CountVectorizer(stop_words=\"english\",max_features=1000)), ('tfidf', TfidfTransformer()), ('model1', MultinomialNB())])\n",
    "#pipe3 = Pipeline([('vect', CountVectorizer(stop_words=\"english\")),  ('model', MultinomialNB())])\n",
    "model_nb1 = pipe1_.fit(X_train_classification, y_train_classification)\n",
    "nb_pred1 = model_nb1.predict(X_test_classification)\n",
    "\n",
    "print(\"Accuracy of Naive Bayes Classifier: {}%\".format(round(accuracy_score(y_test_classification, nb_pred1)*100,2)))\n",
    "print(\"\\nConfusion Matrix of Naive Bayes Classifier:\\n\")\n",
    "print(confusion_matrix(y_test_classification, nb_pred1))\n",
    "print(\"\\nClassification Report of Naive Bayes Classifier:\\n\")\n",
    "print(classification_report(y_test_classification, nb_pred1))"
   ]
  },
  {
   "cell_type": "code",
   "execution_count": 91,
   "metadata": {},
   "outputs": [
    {
     "name": "stdout",
     "output_type": "stream",
     "text": [
      "Fitting 3 folds for each of 8 candidates, totalling 24 fits\n"
     ]
    },
    {
     "name": "stderr",
     "output_type": "stream",
     "text": [
      "[Parallel(n_jobs=-1)]: Using backend LokyBackend with 8 concurrent workers.\n"
     ]
    },
    {
     "name": "stdout",
     "output_type": "stream",
     "text": [
      "{'model1__alpha': 0.01}\n",
      "\n",
      "Accuracy: 40.77134986225895\n",
      "\n",
      "Confusion Matrix:\n",
      " [[152  22 108]\n",
      " [ 67  16  59]\n",
      " [157  17 128]]\n",
      "\n",
      "Classification Report:\n",
      "               precision    recall  f1-score   support\n",
      "\n",
      "          -1       0.40      0.54      0.46       282\n",
      "           0       0.29      0.11      0.16       142\n",
      "           1       0.43      0.42      0.43       302\n",
      "\n",
      "    accuracy                           0.41       726\n",
      "   macro avg       0.38      0.36      0.35       726\n",
      "weighted avg       0.39      0.41      0.39       726\n",
      "\n"
     ]
    },
    {
     "name": "stderr",
     "output_type": "stream",
     "text": [
      "[Parallel(n_jobs=-1)]: Done  22 out of  24 | elapsed:    0.1s remaining:    0.0s\n",
      "[Parallel(n_jobs=-1)]: Done  24 out of  24 | elapsed:    0.2s finished\n"
     ]
    }
   ],
   "source": [
    "param_grid = {\n",
    "    'model1__alpha' : [0.00001, 0.0001, 0.001, 0.01, 0.1, 1, 10, 100]\n",
    "}\n",
    "\n",
    "\n",
    "# Instantiate the grid search model\n",
    "grid_search = GridSearchCV(pipe1_, \n",
    "                           n_jobs = -1,cv = 3,param_grid=param_grid, verbose = 2, scoring = 'f1_weighted')\n",
    "\n",
    "# Fit the grid search to the data\n",
    "grid_search.fit(X_train_classification, y_train_classification)\n",
    "\n",
    "print(grid_search.best_params_)\n",
    "print()\n",
    "\n",
    "best_grid = grid_search.best_estimator_\n",
    "\n",
    "def evaluate(model, test_features, test_labels):\n",
    "    y_pred = model.predict(test_features)\n",
    "    accuracy = accuracy_score(y_test_classification, y_pred)\n",
    "    print('Accuracy:', accuracy * 100)\n",
    "    print()\n",
    "    print('Confusion Matrix:\\n', confusion_matrix(y_test_classification, y_pred))\n",
    "    print()\n",
    "    print('Classification Report:\\n', classification_report(y_test_classification, y_pred))\n",
    "\n",
    "evaluate(best_grid, X_test_classification, y_test_classification)"
   ]
  },
  {
   "cell_type": "markdown",
   "metadata": {},
   "source": [
    "### Logistic Regression"
   ]
  },
  {
   "cell_type": "markdown",
   "metadata": {},
   "source": [
    "Method 1: Text-Based"
   ]
  },
  {
   "cell_type": "code",
   "execution_count": 439,
   "metadata": {},
   "outputs": [
    {
     "name": "stdout",
     "output_type": "stream",
     "text": [
      "Accuracy of Logistic Regression Classifier: 39.81%\n",
      "\n",
      "Confusion Matrix of Logistic Regression Classifier:\n",
      "\n",
      "[[148  15 119]\n",
      " [ 69   8  65]\n",
      " [151  18 133]]\n",
      "\n",
      "CLassification Report of Logistic Regression Classifier:\n",
      "\n",
      "              precision    recall  f1-score   support\n",
      "\n",
      "          -1       0.40      0.52      0.46       282\n",
      "           0       0.20      0.06      0.09       142\n",
      "           1       0.42      0.44      0.43       302\n",
      "\n",
      "    accuracy                           0.40       726\n",
      "   macro avg       0.34      0.34      0.32       726\n",
      "weighted avg       0.37      0.40      0.37       726\n",
      "\n"
     ]
    }
   ],
   "source": [
    "#Logistic regression classification\n",
    "pipe2_ = Pipeline([('vect', CountVectorizer(stop_words=\"english\", min_df=3, ngram_range=(1,1), max_features=200)), ('tfidf', TfidfTransformer()), ('model2', LogisticRegression())])\n",
    "#models must be in the correct order, where previous models must have fit and transform functionality while \n",
    "#last model must only have fit\n",
    "model_lr1 = pipe2_.fit(X_train_classification, y_train_classification)\n",
    "lr_pred1 = model_lr1.predict(X_test_classification)\n",
    "\n",
    "print(\"Accuracy of Logistic Regression Classifier: {}%\".format(round(accuracy_score(y_test_classification, lr_pred1)*100,2)))\n",
    "print(\"\\nConfusion Matrix of Logistic Regression Classifier:\\n\")\n",
    "print(confusion_matrix(y_test_classification, lr_pred1))\n",
    "print(\"\\nCLassification Report of Logistic Regression Classifier:\\n\")\n",
    "print(classification_report(y_test_classification, lr_pred1))"
   ]
  },
  {
   "cell_type": "code",
   "execution_count": 440,
   "metadata": {},
   "outputs": [
    {
     "name": "stdout",
     "output_type": "stream",
     "text": [
      "Fitting 3 folds for each of 112 candidates, totalling 336 fits\n"
     ]
    },
    {
     "name": "stderr",
     "output_type": "stream",
     "text": [
      "[Parallel(n_jobs=-1)]: Using backend LokyBackend with 4 concurrent workers.\n",
      "[Parallel(n_jobs=-1)]: Done  92 tasks      | elapsed:    1.6s\n",
      "[Parallel(n_jobs=-1)]: Done 329 out of 336 | elapsed:    6.6s remaining:    0.0s\n"
     ]
    },
    {
     "name": "stdout",
     "output_type": "stream",
     "text": [
      "{'model2__C': 10, 'model2__max_iter': 500, 'model2__multi_class': 'auto', 'model2__penalty': 'l2', 'model2__solver': 'newton-cg'}\n",
      "\n",
      "Accuracy: 38.84297520661157\n",
      "\n",
      "Confusion Matrix:\n",
      " [[135  34 113]\n",
      " [ 60  24  58]\n",
      " [140  39 123]]\n",
      "\n",
      "Classification Report:\n",
      "               precision    recall  f1-score   support\n",
      "\n",
      "          -1       0.40      0.48      0.44       282\n",
      "           0       0.25      0.17      0.20       142\n",
      "           1       0.42      0.41      0.41       302\n",
      "\n",
      "    accuracy                           0.39       726\n",
      "   macro avg       0.36      0.35      0.35       726\n",
      "weighted avg       0.38      0.39      0.38       726\n",
      "\n"
     ]
    },
    {
     "name": "stderr",
     "output_type": "stream",
     "text": [
      "[Parallel(n_jobs=-1)]: Done 336 out of 336 | elapsed:    6.9s finished\n"
     ]
    }
   ],
   "source": [
    "param_grid = {\n",
    "    'model2__penalty': ['l1', 'l2'],\n",
    "    'model2__C': [0.0001, 0.001, 0.01, 0.1, 1, 10, 100],\n",
    "    'model2__solver': ['newton-cg', 'lbfgs'],\n",
    "    'model2__max_iter': [500, 1000],\n",
    "    'model2__multi_class': ['auto', 'multinomial']\n",
    "}\n",
    "\n",
    "\n",
    "# Instantiate the grid search model\n",
    "grid_search = GridSearchCV(pipe2_, \n",
    "                           n_jobs = -1,cv=3,param_grid=param_grid, verbose = 2, scoring = 'f1_weighted')\n",
    "\n",
    "# Fit the grid search to the data\n",
    "grid_search.fit(X_train_classification, y_train_classification)\n",
    "\n",
    "print(grid_search.best_params_)\n",
    "print()\n",
    "\n",
    "best_grid = grid_search.best_estimator_\n",
    "\n",
    "def evaluate(model, test_features, test_labels):\n",
    "    y_pred = model.predict(test_features)\n",
    "    accuracy = accuracy_score(y_test_classification, y_pred)\n",
    "    print('Accuracy:', accuracy * 100)\n",
    "    print()\n",
    "    print('Confusion Matrix:\\n', confusion_matrix(y_test_classification, y_pred))\n",
    "    print()\n",
    "    print('Classification Report:\\n', classification_report(y_test_classification, y_pred))\n",
    "\n",
    "evaluate(best_grid, X_test_classification, y_test_classification)"
   ]
  },
  {
   "cell_type": "markdown",
   "metadata": {},
   "source": [
    "## Random Forest"
   ]
  },
  {
   "cell_type": "markdown",
   "metadata": {},
   "source": [
    "Method 1: Text-Based"
   ]
  },
  {
   "cell_type": "code",
   "execution_count": 442,
   "metadata": {},
   "outputs": [
    {
     "name": "stdout",
     "output_type": "stream",
     "text": [
      "Accuracy of Logistic Regression Classifier: 38.15%\n",
      "\n",
      "Confusion Matrix of Logistic Regression Classifier:\n",
      "\n",
      "[[141  32 109]\n",
      " [ 66  10  66]\n",
      " [149  27 126]]\n",
      "\n",
      "CLassification Report of Logistic Regression Classifier:\n",
      "\n",
      "              precision    recall  f1-score   support\n",
      "\n",
      "          -1       0.40      0.50      0.44       282\n",
      "           0       0.14      0.07      0.09       142\n",
      "           1       0.42      0.42      0.42       302\n",
      "\n",
      "    accuracy                           0.38       726\n",
      "   macro avg       0.32      0.33      0.32       726\n",
      "weighted avg       0.36      0.38      0.36       726\n",
      "\n"
     ]
    }
   ],
   "source": [
    "#Random Forest classification\n",
    "pipe3_ = Pipeline([('vect', CountVectorizer(stop_words=\"english\", min_df=3, ngram_range=(1,1), max_features=200)), ('tfidf', TfidfTransformer()), ('model3', RandomForestClassifier())])\n",
    "#models must be in the correct order, where previous models must have fit and transform functionality while \n",
    "#last model must only have fit\n",
    "model_lr1 = pipe3_.fit(X_train_classification, y_train_classification)\n",
    "lr_pred1 = model_lr1.predict(X_test_classification)\n",
    "\n",
    "print(\"Accuracy of Logistic Regression Classifier: {}%\".format(round(accuracy_score(y_test_classification, lr_pred1)*100,2)))\n",
    "print(\"\\nConfusion Matrix of Logistic Regression Classifier:\\n\")\n",
    "print(confusion_matrix(y_test_classification, lr_pred1))\n",
    "print(\"\\nCLassification Report of Logistic Regression Classifier:\\n\")\n",
    "print(classification_report(y_test_classification, lr_pred1))"
   ]
  },
  {
   "cell_type": "code",
   "execution_count": 443,
   "metadata": {},
   "outputs": [
    {
     "data": {
      "text/plain": [
       "dict_keys(['memory', 'steps', 'verbose', 'vect', 'tfidf', 'model3', 'vect__analyzer', 'vect__binary', 'vect__decode_error', 'vect__dtype', 'vect__encoding', 'vect__input', 'vect__lowercase', 'vect__max_df', 'vect__max_features', 'vect__min_df', 'vect__ngram_range', 'vect__preprocessor', 'vect__stop_words', 'vect__strip_accents', 'vect__token_pattern', 'vect__tokenizer', 'vect__vocabulary', 'tfidf__norm', 'tfidf__smooth_idf', 'tfidf__sublinear_tf', 'tfidf__use_idf', 'model3__bootstrap', 'model3__ccp_alpha', 'model3__class_weight', 'model3__criterion', 'model3__max_depth', 'model3__max_features', 'model3__max_leaf_nodes', 'model3__max_samples', 'model3__min_impurity_decrease', 'model3__min_impurity_split', 'model3__min_samples_leaf', 'model3__min_samples_split', 'model3__min_weight_fraction_leaf', 'model3__n_estimators', 'model3__n_jobs', 'model3__oob_score', 'model3__random_state', 'model3__verbose', 'model3__warm_start'])"
      ]
     },
     "execution_count": 443,
     "metadata": {},
     "output_type": "execute_result"
    }
   ],
   "source": [
    "pipe3_.get_params().keys()"
   ]
  },
  {
   "cell_type": "code",
   "execution_count": 445,
   "metadata": {},
   "outputs": [
    {
     "name": "stdout",
     "output_type": "stream",
     "text": [
      "Fitting 3 folds for each of 96 candidates, totalling 288 fits\n"
     ]
    },
    {
     "name": "stderr",
     "output_type": "stream",
     "text": [
      "[Parallel(n_jobs=-1)]: Using backend LokyBackend with 4 concurrent workers.\n",
      "[Parallel(n_jobs=-1)]: Done  33 tasks      | elapsed:   19.5s\n",
      "[Parallel(n_jobs=-1)]: Done 154 tasks      | elapsed:  1.6min\n",
      "[Parallel(n_jobs=-1)]: Done 288 out of 288 | elapsed:  2.9min finished\n"
     ]
    },
    {
     "name": "stdout",
     "output_type": "stream",
     "text": [
      "{'model3__bootstrap': True, 'model3__max_depth': 15, 'model3__max_features': 3, 'model3__max_leaf_nodes': 6, 'model3__min_samples_leaf': 6, 'model3__n_estimators': 1300}\n",
      "\n",
      "Accuracy: 39.11845730027548\n",
      "\n",
      "Confusion Matrix:\n",
      " [[223   0  59]\n",
      " [104   0  38]\n",
      " [241   0  61]]\n",
      "\n",
      "Classification Report:\n",
      "               precision    recall  f1-score   support\n",
      "\n",
      "          -1       0.39      0.79      0.52       282\n",
      "           0       0.00      0.00      0.00       142\n",
      "           1       0.39      0.20      0.27       302\n",
      "\n",
      "    accuracy                           0.39       726\n",
      "   macro avg       0.26      0.33      0.26       726\n",
      "weighted avg       0.31      0.39      0.31       726\n",
      "\n"
     ]
    },
    {
     "name": "stderr",
     "output_type": "stream",
     "text": [
      "C:\\Users\\User\\anaconda3\\envs\\tensorflow\\lib\\site-packages\\sklearn\\metrics\\_classification.py:1221: UndefinedMetricWarning: Precision and F-score are ill-defined and being set to 0.0 in labels with no predicted samples. Use `zero_division` parameter to control this behavior.\n",
      "  _warn_prf(average, modifier, msg_start, len(result))\n"
     ]
    }
   ],
   "source": [
    "param_grid = {\n",
    "    'model3__bootstrap': [True],\n",
    "    'model3__max_leaf_nodes':[4,5,6],\n",
    "    'model3__max_depth': [10,15],\n",
    "    'model3__max_features': [2, 3],\n",
    "    'model3__min_samples_leaf': [3, 4, 5, 6],\n",
    "    #'model3__min_samples_split': [3, 4, 5, 6],\n",
    "    'model3__n_estimators': [1000, 1300]\n",
    "}\n",
    "\n",
    "# Instantiate the grid search model\n",
    "grid_search = GridSearchCV(pipe3_, \n",
    "                           n_jobs = -1,cv=3,param_grid=param_grid, verbose = 2, scoring = 'f1_weighted')\n",
    "\n",
    "# Fit the grid search to the data\n",
    "grid_search.fit(X_train_classification, y_train_classification)\n",
    "\n",
    "print(grid_search.best_params_)\n",
    "print()\n",
    "\n",
    "best_grid = grid_search.best_estimator_\n",
    "\n",
    "def evaluate(model, test_features, test_labels):\n",
    "    y_pred = model.predict(test_features)\n",
    "    accuracy = accuracy_score(y_test_classification, y_pred)\n",
    "    print('Accuracy:', accuracy * 100)\n",
    "    print()\n",
    "    print('Confusion Matrix:\\n', confusion_matrix(y_test_classification, y_pred))\n",
    "    print()\n",
    "    print('Classification Report:\\n', classification_report(y_test_classification, y_pred))\n",
    "\n",
    "evaluate(best_grid, X_test_classification, y_test_classification)"
   ]
  },
  {
   "cell_type": "markdown",
   "metadata": {},
   "source": [
    "## Support Vector Machine (SVM)"
   ]
  },
  {
   "cell_type": "markdown",
   "metadata": {},
   "source": [
    "Method 1: Text-Based"
   ]
  },
  {
   "cell_type": "code",
   "execution_count": 446,
   "metadata": {},
   "outputs": [
    {
     "name": "stdout",
     "output_type": "stream",
     "text": [
      "Accuracy of SVM Classifier: 40.22%\n",
      "\n",
      "Confusion Matrix of SVM Classifier:\n",
      "\n",
      "[[186   4  92]\n",
      " [ 85   1  56]\n",
      " [196   1 105]]\n",
      "\n",
      "Classification Report of SVM Classifier:\n",
      "\n",
      "              precision    recall  f1-score   support\n",
      "\n",
      "          -1       0.40      0.66      0.50       282\n",
      "           0       0.17      0.01      0.01       142\n",
      "           1       0.42      0.35      0.38       302\n",
      "\n",
      "    accuracy                           0.40       726\n",
      "   macro avg       0.33      0.34      0.30       726\n",
      "weighted avg       0.36      0.40      0.35       726\n",
      "\n"
     ]
    }
   ],
   "source": [
    "#Support Vector classification\n",
    "#accuracy score is better without applying the TFIDFTRANSFORMER()\n",
    "pipe4_ = Pipeline([('vect', CountVectorizer(stop_words=\"english\")), ('tfidf', TfidfTransformer()), ('model4', SVC())])\n",
    "#pipe2 = Pipeline([('vect', CountVectorizer(stop_words=\"english\")),  ('model', LinearSVC())])\n",
    "model_svc1 = pipe4_.fit(X_train_classification, y_train_classification)\n",
    "svc_pred1 = model_svc1.predict(X_test_classification)\n",
    "\n",
    "print(\"Accuracy of SVM Classifier: {}%\".format(round(accuracy_score(y_test_classification, svc_pred1)*100,2)))\n",
    "print(\"\\nConfusion Matrix of SVM Classifier:\\n\")\n",
    "print(confusion_matrix(y_test_classification, svc_pred1))\n",
    "print(\"\\nClassification Report of SVM Classifier:\\n\")\n",
    "print(classification_report(y_test_classification, svc_pred1))"
   ]
  },
  {
   "cell_type": "code",
   "execution_count": 447,
   "metadata": {},
   "outputs": [
    {
     "data": {
      "text/plain": [
       "dict_keys(['memory', 'steps', 'verbose', 'vect', 'tfidf', 'model4', 'vect__analyzer', 'vect__binary', 'vect__decode_error', 'vect__dtype', 'vect__encoding', 'vect__input', 'vect__lowercase', 'vect__max_df', 'vect__max_features', 'vect__min_df', 'vect__ngram_range', 'vect__preprocessor', 'vect__stop_words', 'vect__strip_accents', 'vect__token_pattern', 'vect__tokenizer', 'vect__vocabulary', 'tfidf__norm', 'tfidf__smooth_idf', 'tfidf__sublinear_tf', 'tfidf__use_idf', 'model4__C', 'model4__break_ties', 'model4__cache_size', 'model4__class_weight', 'model4__coef0', 'model4__decision_function_shape', 'model4__degree', 'model4__gamma', 'model4__kernel', 'model4__max_iter', 'model4__probability', 'model4__random_state', 'model4__shrinking', 'model4__tol', 'model4__verbose'])"
      ]
     },
     "execution_count": 447,
     "metadata": {},
     "output_type": "execute_result"
    }
   ],
   "source": [
    "pipe4_.get_params().keys()"
   ]
  },
  {
   "cell_type": "code",
   "execution_count": 92,
   "metadata": {},
   "outputs": [
    {
     "name": "stdout",
     "output_type": "stream",
     "text": [
      "Fitting 3 folds for each of 56 candidates, totalling 168 fits\n"
     ]
    },
    {
     "name": "stderr",
     "output_type": "stream",
     "text": [
      "[Parallel(n_jobs=-1)]: Using backend LokyBackend with 8 concurrent workers.\n",
      "[Parallel(n_jobs=-1)]: Done  25 tasks      | elapsed:    1.2s\n",
      "[Parallel(n_jobs=-1)]: Done 146 tasks      | elapsed:    6.8s\n",
      "[Parallel(n_jobs=-1)]: Done 168 out of 168 | elapsed:    7.9s finished\n"
     ]
    },
    {
     "name": "stdout",
     "output_type": "stream",
     "text": [
      "{'model4__C': 10, 'model4__gamma': 'scale', 'model4__kernel': 'sigmoid'}\n",
      "\n",
      "Accuracy: 35.26170798898072\n",
      "\n",
      "Confusion Matrix:\n",
      " [[129  47 106]\n",
      " [ 57  31  54]\n",
      " [140  66  96]]\n",
      "\n",
      "Classification Report:\n",
      "               precision    recall  f1-score   support\n",
      "\n",
      "          -1       0.40      0.46      0.42       282\n",
      "           0       0.22      0.22      0.22       142\n",
      "           1       0.38      0.32      0.34       302\n",
      "\n",
      "    accuracy                           0.35       726\n",
      "   macro avg       0.33      0.33      0.33       726\n",
      "weighted avg       0.35      0.35      0.35       726\n",
      "\n"
     ]
    }
   ],
   "source": [
    "param_grid = {\n",
    "    'model4__kernel': ['linear', 'poly', 'rbf', 'sigmoid'],\n",
    "    'model4__C': [0.0001, 0.001, 0.01, 0.1, 1, 10, 100],\n",
    "    'model4__gamma': ['scale', 'auto']\n",
    "}\n",
    "grid_search = GridSearchCV(pipe4_, \n",
    "                           n_jobs = -1,cv=3,param_grid=param_grid, verbose = 2, scoring = 'f1_weighted')\n",
    "\n",
    "# Fit the grid search to the data\n",
    "grid_search.fit(X_train_classification, y_train_classification)\n",
    "\n",
    "print(grid_search.best_params_)\n",
    "print()\n",
    "\n",
    "best_grid = grid_search.best_estimator_\n",
    "\n",
    "def evaluate(model, test_features, test_labels):\n",
    "    y_pred = model.predict(test_features)\n",
    "    accuracy = accuracy_score(y_test_classification, y_pred)\n",
    "    print('Accuracy:', accuracy * 100)\n",
    "    print()\n",
    "    print('Confusion Matrix:\\n', confusion_matrix(y_test_classification, y_pred))\n",
    "    print()\n",
    "    print('Classification Report:\\n', classification_report(y_test_classification, y_pred))\n",
    "\n",
    "evaluate(best_grid, X_test_classification, y_test_classification)"
   ]
  },
  {
   "cell_type": "markdown",
   "metadata": {},
   "source": [
    "## Light Gradient Boosting Machine"
   ]
  },
  {
   "cell_type": "code",
   "execution_count": 93,
   "metadata": {},
   "outputs": [
    {
     "name": "stdout",
     "output_type": "stream",
     "text": [
      "Accuracy of LGBM Classifier: 40.22%\n",
      "\n",
      "Confusion Matrix of LGBM Classifier:\n",
      "\n",
      "[[145  38  99]\n",
      " [ 62  22  58]\n",
      " [148  31 123]]\n",
      "\n",
      "Classification Report of LGBM Classifier:\n",
      "\n",
      "              precision    recall  f1-score   support\n",
      "\n",
      "          -1       0.41      0.51      0.46       282\n",
      "           0       0.24      0.15      0.19       142\n",
      "           1       0.44      0.41      0.42       302\n",
      "\n",
      "    accuracy                           0.40       726\n",
      "   macro avg       0.36      0.36      0.36       726\n",
      "weighted avg       0.39      0.40      0.39       726\n",
      "\n"
     ]
    }
   ],
   "source": [
    "#LightGBM classification\n",
    "\n",
    "pipe5_ = Pipeline([('vect', CountVectorizer(stop_words=\"english\")), ('tfidf', TfidfTransformer()), ('model5', LGBMClassifier(boosting_type='gbdt',  objective='multiclass', random_state=0, n_jobs=-1))])\n",
    "#pipe2 = Pipeline([('vect', CountVectorizer(stop_words=\"english\")),  ('model', LinearSVC())])\n",
    "model_lgb1 = pipe5_.fit(X_train_classification, y_train_classification)\n",
    "lgb_pred1 = model_lgb1.predict(X_test_classification)\n",
    "\n",
    "print(\"Accuracy of LGBM Classifier: {}%\".format(round(accuracy_score(y_test_classification, svc_pred1)*100,2)))\n",
    "print(\"\\nConfusion Matrix of LGBM Classifier:\\n\")\n",
    "print(confusion_matrix(y_test_classification, lgb_pred1))\n",
    "print(\"\\nClassification Report of LGBM Classifier:\\n\")\n",
    "print(classification_report(y_test_classification, lgb_pred1))"
   ]
  },
  {
   "cell_type": "code",
   "execution_count": 94,
   "metadata": {},
   "outputs": [
    {
     "name": "stdout",
     "output_type": "stream",
     "text": [
      "Fitting 3 folds for each of 168 candidates, totalling 504 fits\n"
     ]
    },
    {
     "name": "stderr",
     "output_type": "stream",
     "text": [
      "[Parallel(n_jobs=-1)]: Using backend LokyBackend with 8 concurrent workers.\n",
      "[Parallel(n_jobs=-1)]: Done  25 tasks      | elapsed:    2.8s\n",
      "[Parallel(n_jobs=-1)]: Done 146 tasks      | elapsed:    8.0s\n",
      "[Parallel(n_jobs=-1)]: Done 349 tasks      | elapsed:   17.4s\n",
      "[Parallel(n_jobs=-1)]: Done 504 out of 504 | elapsed:   24.4s finished\n"
     ]
    },
    {
     "name": "stdout",
     "output_type": "stream",
     "text": [
      "[LightGBM] [Warning] min_data_in_leaf is set=20, min_child_samples=20 will be ignored. Current value: min_data_in_leaf=20\n",
      "[LightGBM] [Warning] lambda_l1 is set=0.1, reg_alpha=0.1 will be ignored. Current value: lambda_l1=0.1\n",
      "[LightGBM] [Warning] lambda_l2 is set=0.0, reg_lambda=0.0 will be ignored. Current value: lambda_l2=0.0\n",
      "{'model5__lambda_l1': 0.1, 'model5__lambda_l2': 0.0, 'model5__min_data_in_leaf': 20, 'model5__num_leaves': 127, 'model5__reg_alpha': 0.1}\n",
      "Accuracy: 39.94490358126722\n",
      "\n",
      "Confusion Matrix:\n",
      " [[144  36 102]\n",
      " [ 63  22  57]\n",
      " [140  38 124]]\n",
      "\n",
      "Classification Report:\n",
      "               precision    recall  f1-score   support\n",
      "\n",
      "          -1       0.41      0.51      0.46       282\n",
      "           0       0.23      0.15      0.18       142\n",
      "           1       0.44      0.41      0.42       302\n",
      "\n",
      "    accuracy                           0.40       726\n",
      "   macro avg       0.36      0.36      0.36       726\n",
      "weighted avg       0.39      0.40      0.39       726\n",
      "\n"
     ]
    }
   ],
   "source": [
    "# Create the parameter grid based on the results of random search \n",
    "param_grid = {\n",
    "    'model5__num_leaves': [31, 127],\n",
    "    'model5__reg_alpha': [0.1, 0.5],\n",
    "    'model5__min_data_in_leaf': [10, 20, 30, 50, 100, 300, 400],\n",
    "    'model5__lambda_l1': [0.1, 1, 1.5],\n",
    "    'model5__lambda_l2': [0.0, 1]\n",
    "}\n",
    "\n",
    "# Instantiate the grid search model\n",
    "grid_search = GridSearchCV(pipe5_, param_grid = param_grid, \n",
    "                          cv = 3, n_jobs = -1, verbose = 2, scoring = 'f1_weighted')\n",
    "\n",
    "# Fit the grid search to the data\n",
    "grid_search.fit(X_train_classification, y_train_classification)\n",
    "\n",
    "print(grid_search.best_params_)\n",
    "\n",
    "best_grid = grid_search.best_estimator_\n",
    "\n",
    "evaluate(best_grid, X_test_classification, y_test_classification)"
   ]
  },
  {
   "cell_type": "code",
   "execution_count": 36,
   "metadata": {},
   "outputs": [],
   "source": [
    "df2 = master_df.copy()"
   ]
  },
  {
   "cell_type": "code",
   "execution_count": 37,
   "metadata": {},
   "outputs": [
    {
     "name": "stdout",
     "output_type": "stream",
     "text": [
      "15\n",
      "8\n",
      "23\n"
     ]
    }
   ],
   "source": [
    "print(df2.columns.get_loc(\"60mins_price_diff_abs\"))\n",
    "print(df2.columns.get_loc(\"hour\"))\n",
    "print(df2.columns.get_loc(\"compound\"))"
   ]
  },
  {
   "cell_type": "code",
   "execution_count": 38,
   "metadata": {},
   "outputs": [],
   "source": [
    "#creates a list of values for the y label for each row\n",
    "target_value = []\n",
    "\n",
    "for i in range(0, len(df2)):\n",
    "    \n",
    "    if df2.iloc[i, 15] >= 0.020000:\n",
    "        target_value.append(1)\n",
    "\n",
    "    elif df2.iloc[i, 15] <= -0.003393:\n",
    "        target_value.append(-1)\n",
    "\n",
    "    else:\n",
    "        target_value.append(0)\n",
    "    "
   ]
  },
  {
   "cell_type": "code",
   "execution_count": 39,
   "metadata": {},
   "outputs": [],
   "source": [
    "compound_group = []\n",
    "\n",
    "for i in range(0, len(df2)):\n",
    "    \n",
    "    if df2.iloc[i, 23] >= 0.6:\n",
    "        compound_group.append(15)\n",
    "        \n",
    "    elif df2.iloc[i, 23] >= 0.1:\n",
    "        compound_group.append(14)\n",
    "      \n",
    "    elif df2.iloc[i, 23] > -0.1 and df2.iloc[i, 23] < 0.1:\n",
    "        compound_group.append(13)\n",
    "        \n",
    "    elif df2.iloc[i, 23] <= -0.6:\n",
    "        compound_group.append(11)\n",
    "    \n",
    "    elif df2.iloc[i, 23] <= -0.1:\n",
    "        compound_group.append(12)"
   ]
  },
  {
   "cell_type": "code",
   "execution_count": 40,
   "metadata": {},
   "outputs": [],
   "source": [
    "hours_grouped = []\n",
    "\n",
    "for i in range(0, len(df2)):\n",
    "    \n",
    "    if df2.iloc[i, 8] >= 16:\n",
    "        hours_grouped.append(20)\n",
    "        \n",
    "    elif df2.iloc[i, 8] >= 12:\n",
    "        hours_grouped.append(19)\n",
    "        \n",
    "    else:\n",
    "        hours_grouped.append(18)"
   ]
  },
  {
   "cell_type": "code",
   "execution_count": 41,
   "metadata": {},
   "outputs": [],
   "source": [
    "#create a column for the y_label \n",
    "df2.loc[:, 'hours_grouped'] = hours_grouped\n",
    "df2.loc[:, 'target'] = target_value\n",
    "df2.loc[:, 'compound_group'] = compound_group"
   ]
  },
  {
   "cell_type": "code",
   "execution_count": 42,
   "metadata": {},
   "outputs": [
    {
     "data": {
      "text/plain": [
       "id                          0\n",
       "text                        0\n",
       "favorites                   0\n",
       "retweets                    0\n",
       "date                        0\n",
       "tweet_datetime              0\n",
       "date_part                   0\n",
       "time_part                   0\n",
       "hour                        0\n",
       "year                        0\n",
       "month                       0\n",
       "text_topic_modelling       49\n",
       "text_EDA                    0\n",
       "text_sentiment_analysis    34\n",
       "text_LSTM                  46\n",
       "60mins_price_diff_abs       0\n",
       "60mins_price_diff_perc      0\n",
       "45mins_price_diff_abs       0\n",
       "45mins_price_diff_perc      0\n",
       "30mins_price_diff_abs       0\n",
       "30mins_price_diff_perc      0\n",
       "15mins_price_diff_abs       0\n",
       "15mins_price_diff_perc      0\n",
       "compound                    0\n",
       "topic                       0\n",
       "hours_grouped               0\n",
       "target                      0\n",
       "compound_group              0\n",
       "dtype: int64"
      ]
     },
     "execution_count": 42,
     "metadata": {},
     "output_type": "execute_result"
    }
   ],
   "source": [
    "#to verify that there are no NA values\n",
    "df2.isna().sum()"
   ]
  },
  {
   "cell_type": "code",
   "execution_count": 43,
   "metadata": {},
   "outputs": [
    {
     "data": {
      "text/html": [
       "<div>\n",
       "<style scoped>\n",
       "    .dataframe tbody tr th:only-of-type {\n",
       "        vertical-align: middle;\n",
       "    }\n",
       "\n",
       "    .dataframe tbody tr th {\n",
       "        vertical-align: top;\n",
       "    }\n",
       "\n",
       "    .dataframe thead th {\n",
       "        text-align: right;\n",
       "    }\n",
       "</style>\n",
       "<table border=\"1\" class=\"dataframe\">\n",
       "  <thead>\n",
       "    <tr style=\"text-align: right;\">\n",
       "      <th></th>\n",
       "      <th>target</th>\n",
       "      <th>11</th>\n",
       "      <th>12</th>\n",
       "      <th>13</th>\n",
       "      <th>14</th>\n",
       "      <th>15</th>\n",
       "      <th>0</th>\n",
       "      <th>1</th>\n",
       "      <th>2</th>\n",
       "      <th>3</th>\n",
       "      <th>4</th>\n",
       "      <th>5</th>\n",
       "      <th>6</th>\n",
       "      <th>7</th>\n",
       "      <th>8</th>\n",
       "      <th>9</th>\n",
       "      <th>18</th>\n",
       "      <th>19</th>\n",
       "      <th>20</th>\n",
       "    </tr>\n",
       "  </thead>\n",
       "  <tbody>\n",
       "    <tr>\n",
       "      <th>0</th>\n",
       "      <td>1</td>\n",
       "      <td>0</td>\n",
       "      <td>0</td>\n",
       "      <td>0</td>\n",
       "      <td>1</td>\n",
       "      <td>0</td>\n",
       "      <td>0</td>\n",
       "      <td>1</td>\n",
       "      <td>0</td>\n",
       "      <td>0</td>\n",
       "      <td>0</td>\n",
       "      <td>0</td>\n",
       "      <td>0</td>\n",
       "      <td>0</td>\n",
       "      <td>0</td>\n",
       "      <td>0</td>\n",
       "      <td>1</td>\n",
       "      <td>0</td>\n",
       "      <td>0</td>\n",
       "    </tr>\n",
       "    <tr>\n",
       "      <th>1</th>\n",
       "      <td>1</td>\n",
       "      <td>0</td>\n",
       "      <td>0</td>\n",
       "      <td>0</td>\n",
       "      <td>1</td>\n",
       "      <td>0</td>\n",
       "      <td>0</td>\n",
       "      <td>1</td>\n",
       "      <td>0</td>\n",
       "      <td>0</td>\n",
       "      <td>0</td>\n",
       "      <td>0</td>\n",
       "      <td>0</td>\n",
       "      <td>0</td>\n",
       "      <td>0</td>\n",
       "      <td>0</td>\n",
       "      <td>1</td>\n",
       "      <td>0</td>\n",
       "      <td>0</td>\n",
       "    </tr>\n",
       "    <tr>\n",
       "      <th>2</th>\n",
       "      <td>1</td>\n",
       "      <td>0</td>\n",
       "      <td>0</td>\n",
       "      <td>0</td>\n",
       "      <td>1</td>\n",
       "      <td>0</td>\n",
       "      <td>0</td>\n",
       "      <td>1</td>\n",
       "      <td>0</td>\n",
       "      <td>0</td>\n",
       "      <td>0</td>\n",
       "      <td>0</td>\n",
       "      <td>0</td>\n",
       "      <td>0</td>\n",
       "      <td>0</td>\n",
       "      <td>0</td>\n",
       "      <td>1</td>\n",
       "      <td>0</td>\n",
       "      <td>0</td>\n",
       "    </tr>\n",
       "    <tr>\n",
       "      <th>3</th>\n",
       "      <td>1</td>\n",
       "      <td>0</td>\n",
       "      <td>0</td>\n",
       "      <td>0</td>\n",
       "      <td>0</td>\n",
       "      <td>1</td>\n",
       "      <td>0</td>\n",
       "      <td>0</td>\n",
       "      <td>1</td>\n",
       "      <td>0</td>\n",
       "      <td>0</td>\n",
       "      <td>0</td>\n",
       "      <td>0</td>\n",
       "      <td>0</td>\n",
       "      <td>0</td>\n",
       "      <td>0</td>\n",
       "      <td>1</td>\n",
       "      <td>0</td>\n",
       "      <td>0</td>\n",
       "    </tr>\n",
       "    <tr>\n",
       "      <th>4</th>\n",
       "      <td>0</td>\n",
       "      <td>0</td>\n",
       "      <td>0</td>\n",
       "      <td>0</td>\n",
       "      <td>0</td>\n",
       "      <td>1</td>\n",
       "      <td>0</td>\n",
       "      <td>0</td>\n",
       "      <td>0</td>\n",
       "      <td>0</td>\n",
       "      <td>0</td>\n",
       "      <td>0</td>\n",
       "      <td>1</td>\n",
       "      <td>0</td>\n",
       "      <td>0</td>\n",
       "      <td>0</td>\n",
       "      <td>1</td>\n",
       "      <td>0</td>\n",
       "      <td>0</td>\n",
       "    </tr>\n",
       "    <tr>\n",
       "      <th>...</th>\n",
       "      <td>...</td>\n",
       "      <td>...</td>\n",
       "      <td>...</td>\n",
       "      <td>...</td>\n",
       "      <td>...</td>\n",
       "      <td>...</td>\n",
       "      <td>...</td>\n",
       "      <td>...</td>\n",
       "      <td>...</td>\n",
       "      <td>...</td>\n",
       "      <td>...</td>\n",
       "      <td>...</td>\n",
       "      <td>...</td>\n",
       "      <td>...</td>\n",
       "      <td>...</td>\n",
       "      <td>...</td>\n",
       "      <td>...</td>\n",
       "      <td>...</td>\n",
       "      <td>...</td>\n",
       "    </tr>\n",
       "    <tr>\n",
       "      <th>2241</th>\n",
       "      <td>1</td>\n",
       "      <td>0</td>\n",
       "      <td>0</td>\n",
       "      <td>0</td>\n",
       "      <td>0</td>\n",
       "      <td>1</td>\n",
       "      <td>0</td>\n",
       "      <td>0</td>\n",
       "      <td>0</td>\n",
       "      <td>0</td>\n",
       "      <td>0</td>\n",
       "      <td>0</td>\n",
       "      <td>0</td>\n",
       "      <td>1</td>\n",
       "      <td>0</td>\n",
       "      <td>0</td>\n",
       "      <td>1</td>\n",
       "      <td>0</td>\n",
       "      <td>0</td>\n",
       "    </tr>\n",
       "    <tr>\n",
       "      <th>2242</th>\n",
       "      <td>1</td>\n",
       "      <td>1</td>\n",
       "      <td>0</td>\n",
       "      <td>0</td>\n",
       "      <td>0</td>\n",
       "      <td>0</td>\n",
       "      <td>0</td>\n",
       "      <td>0</td>\n",
       "      <td>1</td>\n",
       "      <td>0</td>\n",
       "      <td>0</td>\n",
       "      <td>0</td>\n",
       "      <td>0</td>\n",
       "      <td>0</td>\n",
       "      <td>0</td>\n",
       "      <td>0</td>\n",
       "      <td>0</td>\n",
       "      <td>0</td>\n",
       "      <td>1</td>\n",
       "    </tr>\n",
       "    <tr>\n",
       "      <th>2243</th>\n",
       "      <td>1</td>\n",
       "      <td>0</td>\n",
       "      <td>0</td>\n",
       "      <td>0</td>\n",
       "      <td>0</td>\n",
       "      <td>1</td>\n",
       "      <td>0</td>\n",
       "      <td>0</td>\n",
       "      <td>0</td>\n",
       "      <td>0</td>\n",
       "      <td>0</td>\n",
       "      <td>0</td>\n",
       "      <td>0</td>\n",
       "      <td>0</td>\n",
       "      <td>1</td>\n",
       "      <td>0</td>\n",
       "      <td>1</td>\n",
       "      <td>0</td>\n",
       "      <td>0</td>\n",
       "    </tr>\n",
       "    <tr>\n",
       "      <th>2244</th>\n",
       "      <td>1</td>\n",
       "      <td>1</td>\n",
       "      <td>0</td>\n",
       "      <td>0</td>\n",
       "      <td>0</td>\n",
       "      <td>0</td>\n",
       "      <td>0</td>\n",
       "      <td>0</td>\n",
       "      <td>0</td>\n",
       "      <td>0</td>\n",
       "      <td>0</td>\n",
       "      <td>0</td>\n",
       "      <td>0</td>\n",
       "      <td>0</td>\n",
       "      <td>1</td>\n",
       "      <td>0</td>\n",
       "      <td>1</td>\n",
       "      <td>0</td>\n",
       "      <td>0</td>\n",
       "    </tr>\n",
       "    <tr>\n",
       "      <th>2245</th>\n",
       "      <td>1</td>\n",
       "      <td>0</td>\n",
       "      <td>0</td>\n",
       "      <td>0</td>\n",
       "      <td>0</td>\n",
       "      <td>1</td>\n",
       "      <td>0</td>\n",
       "      <td>0</td>\n",
       "      <td>0</td>\n",
       "      <td>0</td>\n",
       "      <td>0</td>\n",
       "      <td>0</td>\n",
       "      <td>0</td>\n",
       "      <td>0</td>\n",
       "      <td>0</td>\n",
       "      <td>1</td>\n",
       "      <td>1</td>\n",
       "      <td>0</td>\n",
       "      <td>0</td>\n",
       "    </tr>\n",
       "  </tbody>\n",
       "</table>\n",
       "<p>2246 rows × 19 columns</p>\n",
       "</div>"
      ],
      "text/plain": [
       "      target  11  12  13  14  15  0  1  2  3  4  5  6  7  8  9  18  19  20\n",
       "0          1   0   0   0   1   0  0  1  0  0  0  0  0  0  0  0   1   0   0\n",
       "1          1   0   0   0   1   0  0  1  0  0  0  0  0  0  0  0   1   0   0\n",
       "2          1   0   0   0   1   0  0  1  0  0  0  0  0  0  0  0   1   0   0\n",
       "3          1   0   0   0   0   1  0  0  1  0  0  0  0  0  0  0   1   0   0\n",
       "4          0   0   0   0   0   1  0  0  0  0  0  0  1  0  0  0   1   0   0\n",
       "...      ...  ..  ..  ..  ..  .. .. .. .. .. .. .. .. .. .. ..  ..  ..  ..\n",
       "2241       1   0   0   0   0   1  0  0  0  0  0  0  0  1  0  0   1   0   0\n",
       "2242       1   1   0   0   0   0  0  0  1  0  0  0  0  0  0  0   0   0   1\n",
       "2243       1   0   0   0   0   1  0  0  0  0  0  0  0  0  1  0   1   0   0\n",
       "2244       1   1   0   0   0   0  0  0  0  0  0  0  0  0  1  0   1   0   0\n",
       "2245       1   0   0   0   0   1  0  0  0  0  0  0  0  0  0  1   1   0   0\n",
       "\n",
       "[2246 rows x 19 columns]"
      ]
     },
     "execution_count": 43,
     "metadata": {},
     "output_type": "execute_result"
    }
   ],
   "source": [
    "df2 = df2[['topic', 'compound_group', 'hours_grouped', 'target']]\n",
    "\n",
    "comp = pd.get_dummies(df2['compound_group'])\n",
    "topic = pd.get_dummies(df2['topic'])\n",
    "hrs = pd.get_dummies(df2['hours_grouped'])\n",
    "# Drop column as it is now encoded\n",
    "df2 = df2.drop(['compound_group'], axis = 1)\n",
    "df2 = df2.drop(['topic'], axis = 1)\n",
    "df2 = df2.drop(['hours_grouped'], axis = 1)\n",
    "# Join the encoded df\n",
    "df2 = df2.join(comp)\n",
    "df2 = df2.join(topic)\n",
    "df2 = df2.join(hrs)\n",
    "df2"
   ]
  },
  {
   "cell_type": "code",
   "execution_count": 44,
   "metadata": {},
   "outputs": [],
   "source": [
    "X = df2.iloc[:, 1:]\n",
    "y = df2.target"
   ]
  },
  {
   "cell_type": "code",
   "execution_count": 45,
   "metadata": {},
   "outputs": [],
   "source": [
    "#Train-test split\n",
    "#test size is 20% of the dataset\n",
    "x_train,x_test,y_train,y_test = train_test_split(X, y, test_size=0.2, random_state=1)"
   ]
  },
  {
   "cell_type": "code",
   "execution_count": 46,
   "metadata": {},
   "outputs": [],
   "source": [
    "smote = SMOTE(random_state=0, sampling_strategy='not majority')\n",
    "x_train, y_train = smote.fit_sample(x_train, y_train)"
   ]
  },
  {
   "cell_type": "code",
   "execution_count": 47,
   "metadata": {},
   "outputs": [],
   "source": [
    "x_train[x_train > 1] = 1"
   ]
  },
  {
   "cell_type": "markdown",
   "metadata": {},
   "source": [
    "## Naive Bayes"
   ]
  },
  {
   "cell_type": "code",
   "execution_count": 16,
   "metadata": {},
   "outputs": [
    {
     "name": "stdout",
     "output_type": "stream",
     "text": [
      "Accuracy of Naive Bayes Classifier: 32.44%\n",
      "\n",
      "Confusion Matrix of Naive Bayes Classifier:\n",
      "\n",
      "[[75 69 21]\n",
      " [42 37 10]\n",
      " [84 78 34]]\n",
      "\n",
      "Classification Report of Naive Bayes Classifier:\n",
      "\n",
      "              precision    recall  f1-score   support\n",
      "\n",
      "          -1       0.37      0.45      0.41       165\n",
      "           0       0.20      0.42      0.27        89\n",
      "           1       0.52      0.17      0.26       196\n",
      "\n",
      "    accuracy                           0.32       450\n",
      "   macro avg       0.37      0.35      0.31       450\n",
      "weighted avg       0.40      0.32      0.32       450\n",
      "\n"
     ]
    }
   ],
   "source": [
    "clf = MultinomialNB()\n",
    "model = clf.fit(x_train, y_train)\n",
    "\n",
    "y_pred = model.predict(x_test)\n",
    "\n",
    "print(\"Accuracy of Naive Bayes Classifier: {}%\".format(round(accuracy_score(y_test, y_pred)*100,2)))\n",
    "print(\"\\nConfusion Matrix of Naive Bayes Classifier:\\n\")\n",
    "print(confusion_matrix(y_test, y_pred))\n",
    "print(\"\\nClassification Report of Naive Bayes Classifier:\\n\")\n",
    "print(classification_report(y_test, y_pred))"
   ]
  },
  {
   "cell_type": "code",
   "execution_count": 21,
   "metadata": {},
   "outputs": [
    {
     "name": "stdout",
     "output_type": "stream",
     "text": [
      "Fitting 3 folds for each of 8 candidates, totalling 24 fits\n"
     ]
    },
    {
     "name": "stderr",
     "output_type": "stream",
     "text": [
      "[Parallel(n_jobs=-1)]: Using backend LokyBackend with 8 concurrent workers.\n"
     ]
    },
    {
     "name": "stdout",
     "output_type": "stream",
     "text": [
      "{'alpha': 10}\n",
      "\n",
      "Accuracy: 33.111111111111114\n",
      "\n",
      "Confusion Matrix:\n",
      " [[75 69 21]\n",
      " [42 35 12]\n",
      " [82 75 39]]\n",
      "\n",
      "Classification Report:\n",
      "               precision    recall  f1-score   support\n",
      "\n",
      "          -1       0.38      0.45      0.41       165\n",
      "           0       0.20      0.39      0.26        89\n",
      "           1       0.54      0.20      0.29       196\n",
      "\n",
      "    accuracy                           0.33       450\n",
      "   macro avg       0.37      0.35      0.32       450\n",
      "weighted avg       0.41      0.33      0.33       450\n",
      "\n"
     ]
    },
    {
     "name": "stderr",
     "output_type": "stream",
     "text": [
      "[Parallel(n_jobs=-1)]: Done  22 out of  24 | elapsed:    2.4s remaining:    0.1s\n",
      "[Parallel(n_jobs=-1)]: Done  24 out of  24 | elapsed:    2.4s finished\n"
     ]
    }
   ],
   "source": [
    "# Create the parameter grid \n",
    "param_grid = {\n",
    "    'alpha' : [0.00001, 0.0001, 0.001, 0.01, 0.1, 1, 10, 100]\n",
    "}\n",
    "# Create a based model\n",
    "nb = MultinomialNB()\n",
    "# Instantiate the grid search model\n",
    "grid_search = GridSearchCV(estimator = nb, param_grid = param_grid, \n",
    "                          cv = 3, n_jobs = -1, verbose = 2, scoring = 'f1_weighted')\n",
    "\n",
    "# Fit the grid search to the data\n",
    "grid_search.fit(x_train, y_train)\n",
    "\n",
    "print(grid_search.best_params_)\n",
    "print()\n",
    "\n",
    "best_grid = grid_search.best_estimator_\n",
    "\n",
    "def evaluate(model, test_features, test_labels):\n",
    "    y_pred = model.predict(test_features)\n",
    "    accuracy = accuracy_score(y_test, y_pred)\n",
    "    print('Accuracy:', accuracy * 100)\n",
    "    print()\n",
    "    print('Confusion Matrix:\\n', confusion_matrix(y_test,y_pred))\n",
    "    print()\n",
    "    print('Classification Report:\\n', classification_report(y_test, y_pred))\n",
    "\n",
    "evaluate(best_grid,x_test,y_test)"
   ]
  },
  {
   "cell_type": "markdown",
   "metadata": {},
   "source": [
    "## Logistic Regression"
   ]
  },
  {
   "cell_type": "code",
   "execution_count": 17,
   "metadata": {},
   "outputs": [
    {
     "name": "stdout",
     "output_type": "stream",
     "text": [
      "Accuracy of Logistic Regression Classifier: 32.67%\n",
      "\n",
      "Confusion Matrix of Logistic Regression Classifier:\n",
      "\n",
      "[[73 63 29]\n",
      " [42 32 15]\n",
      " [83 71 42]]\n",
      "\n",
      "Classification Report of Logistic Regression Classifier:\n",
      "\n",
      "              precision    recall  f1-score   support\n",
      "\n",
      "          -1       0.37      0.44      0.40       165\n",
      "           0       0.19      0.36      0.25        89\n",
      "           1       0.49      0.21      0.30       196\n",
      "\n",
      "    accuracy                           0.33       450\n",
      "   macro avg       0.35      0.34      0.32       450\n",
      "weighted avg       0.39      0.33      0.33       450\n",
      "\n"
     ]
    }
   ],
   "source": [
    "logr = LogisticRegression()\n",
    "model = logr.fit(x_train, y_train)\n",
    "\n",
    "y_pred = model.predict(x_test)\n",
    "\n",
    "print(\"Accuracy of Logistic Regression Classifier: {}%\".format(round(accuracy_score(y_test, y_pred)*100,2)))\n",
    "print(\"\\nConfusion Matrix of Logistic Regression Classifier:\\n\")\n",
    "print(confusion_matrix(y_test, y_pred))\n",
    "print(\"\\nClassification Report of Logistic Regression Classifier:\\n\")\n",
    "print(classification_report(y_test, y_pred))"
   ]
  },
  {
   "cell_type": "code",
   "execution_count": 22,
   "metadata": {},
   "outputs": [
    {
     "name": "stdout",
     "output_type": "stream",
     "text": [
      "Fitting 3 folds for each of 112 candidates, totalling 336 fits\n"
     ]
    },
    {
     "name": "stderr",
     "output_type": "stream",
     "text": [
      "[Parallel(n_jobs=-1)]: Using backend LokyBackend with 8 concurrent workers.\n",
      "[Parallel(n_jobs=-1)]: Done  34 tasks      | elapsed:    0.1s\n"
     ]
    },
    {
     "name": "stdout",
     "output_type": "stream",
     "text": [
      "{'C': 0.1, 'max_iter': 500, 'multi_class': 'auto', 'penalty': 'l2', 'solver': 'newton-cg'}\n",
      "\n",
      "Accuracy: 33.111111111111114\n",
      "\n",
      "Confusion Matrix:\n",
      " [[68 61 36]\n",
      " [41 32 16]\n",
      " [76 71 49]]\n",
      "\n",
      "Classification Report:\n",
      "               precision    recall  f1-score   support\n",
      "\n",
      "          -1       0.37      0.41      0.39       165\n",
      "           0       0.20      0.36      0.25        89\n",
      "           1       0.49      0.25      0.33       196\n",
      "\n",
      "    accuracy                           0.33       450\n",
      "   macro avg       0.35      0.34      0.32       450\n",
      "weighted avg       0.38      0.33      0.34       450\n",
      "\n"
     ]
    },
    {
     "name": "stderr",
     "output_type": "stream",
     "text": [
      "[Parallel(n_jobs=-1)]: Done 321 out of 336 | elapsed:    1.1s remaining:    0.0s\n",
      "[Parallel(n_jobs=-1)]: Done 336 out of 336 | elapsed:    1.2s finished\n"
     ]
    }
   ],
   "source": [
    "# Create the parameter grid  \n",
    "param_grid = {\n",
    "    'penalty': ['l1', 'l2'],\n",
    "    'C': [0.0001, 0.001, 0.01, 0.1, 1, 10, 100],\n",
    "    'solver': ['newton-cg', 'lbfgs'],\n",
    "    'max_iter': [500, 1000],\n",
    "    'multi_class': ['auto', 'multinomial']\n",
    "}\n",
    "# Create a based model\n",
    "lr = LogisticRegression()\n",
    "# Instantiate the grid search model\n",
    "grid_search = GridSearchCV(estimator = lr, param_grid = param_grid, \n",
    "                          cv = 3, n_jobs = -1, verbose = 2, scoring = 'f1_weighted')\n",
    "\n",
    "# Fit the grid search to the data\n",
    "grid_search.fit(x_train,y_train)\n",
    "\n",
    "print(grid_search.best_params_)\n",
    "print()\n",
    "\n",
    "best_grid = grid_search.best_estimator_\n",
    "\n",
    "evaluate(best_grid,x_test,y_test)"
   ]
  },
  {
   "cell_type": "markdown",
   "metadata": {},
   "source": [
    "## Support Vector Machine"
   ]
  },
  {
   "cell_type": "code",
   "execution_count": 18,
   "metadata": {},
   "outputs": [
    {
     "name": "stdout",
     "output_type": "stream",
     "text": [
      "Accuracy of SVC Classifier: 33.33%\n",
      "\n",
      "Confusion Matrix of SVC Classifier:\n",
      "\n",
      "[[68 59 38]\n",
      " [38 26 25]\n",
      " [82 58 56]]\n",
      "\n",
      "Classification Report of SVC Classifier:\n",
      "\n",
      "              precision    recall  f1-score   support\n",
      "\n",
      "          -1       0.36      0.41      0.39       165\n",
      "           0       0.18      0.29      0.22        89\n",
      "           1       0.47      0.29      0.36       196\n",
      "\n",
      "    accuracy                           0.33       450\n",
      "   macro avg       0.34      0.33      0.32       450\n",
      "weighted avg       0.37      0.33      0.34       450\n",
      "\n"
     ]
    }
   ],
   "source": [
    "clf = SVC()\n",
    "model = clf.fit(x_train, y_train)\n",
    "\n",
    "y_pred = model.predict(x_test)\n",
    "\n",
    "print(\"Accuracy of SVC Classifier: {}%\".format(round(accuracy_score(y_test, y_pred)*100,2)))\n",
    "print(\"\\nConfusion Matrix of SVC Classifier:\\n\")\n",
    "print(confusion_matrix(y_test, y_pred))\n",
    "print(\"\\nClassification Report of SVC Classifier:\\n\")\n",
    "print(classification_report(y_test, y_pred))"
   ]
  },
  {
   "cell_type": "code",
   "execution_count": 24,
   "metadata": {},
   "outputs": [
    {
     "name": "stdout",
     "output_type": "stream",
     "text": [
      "Fitting 3 folds for each of 56 candidates, totalling 168 fits\n"
     ]
    },
    {
     "name": "stderr",
     "output_type": "stream",
     "text": [
      "[Parallel(n_jobs=-1)]: Using backend LokyBackend with 8 concurrent workers.\n",
      "[Parallel(n_jobs=-1)]: Done  34 tasks      | elapsed:    0.8s\n",
      "[Parallel(n_jobs=-1)]: Done 153 out of 168 | elapsed:    3.6s remaining:    0.3s\n"
     ]
    },
    {
     "name": "stdout",
     "output_type": "stream",
     "text": [
      "{'C': 10, 'gamma': 'scale', 'kernel': 'poly'}\n",
      "Accuracy: 33.55555555555556\n",
      "\n",
      "Confusion Matrix:\n",
      " [[68 56 41]\n",
      " [37 25 27]\n",
      " [84 54 58]]\n",
      "\n",
      "Classification Report:\n",
      "               precision    recall  f1-score   support\n",
      "\n",
      "          -1       0.36      0.41      0.38       165\n",
      "           0       0.19      0.28      0.22        89\n",
      "           1       0.46      0.30      0.36       196\n",
      "\n",
      "    accuracy                           0.34       450\n",
      "   macro avg       0.34      0.33      0.32       450\n",
      "weighted avg       0.37      0.34      0.34       450\n",
      "\n"
     ]
    },
    {
     "name": "stderr",
     "output_type": "stream",
     "text": [
      "[Parallel(n_jobs=-1)]: Done 168 out of 168 | elapsed:    4.0s finished\n"
     ]
    }
   ],
   "source": [
    "# Create the parameter grid\n",
    "param_grid = {\n",
    "    'kernel': ['linear', 'poly', 'rbf', 'sigmoid'],\n",
    "    'C': [0.0001, 0.001, 0.01, 0.1, 1, 10, 100],\n",
    "    'gamma': ['scale', 'auto']\n",
    "}\n",
    "# Create a based model\n",
    "svc = SVC()\n",
    "# Instantiate the grid search model\n",
    "grid_search = GridSearchCV(estimator = svc, param_grid = param_grid, \n",
    "                          cv = 3, n_jobs = -1, verbose = 2, scoring = 'f1_weighted')\n",
    "\n",
    "# Fit the grid search to the data\n",
    "grid_search.fit(x_train,y_train)\n",
    "\n",
    "print(grid_search.best_params_)\n",
    "\n",
    "best_grid = grid_search.best_estimator_\n",
    "\n",
    "evaluate(best_grid,x_test,y_test)"
   ]
  },
  {
   "cell_type": "markdown",
   "metadata": {},
   "source": [
    "## Random Forest Classifier"
   ]
  },
  {
   "cell_type": "code",
   "execution_count": 19,
   "metadata": {},
   "outputs": [
    {
     "name": "stdout",
     "output_type": "stream",
     "text": [
      "Accuracy of Random Forest Classifier: 33.56%\n",
      "\n",
      "Confusion Matrix of Random Forest Classifier:\n",
      "\n",
      "[[66 52 47]\n",
      " [35 29 25]\n",
      " [85 55 56]]\n",
      "\n",
      "Classification Report of Random Forest Classifier:\n",
      "\n",
      "              precision    recall  f1-score   support\n",
      "\n",
      "          -1       0.35      0.40      0.38       165\n",
      "           0       0.21      0.33      0.26        89\n",
      "           1       0.44      0.29      0.35       196\n",
      "\n",
      "    accuracy                           0.34       450\n",
      "   macro avg       0.34      0.34      0.33       450\n",
      "weighted avg       0.36      0.34      0.34       450\n",
      "\n"
     ]
    }
   ],
   "source": [
    "clf = RandomForestClassifier()\n",
    "model = clf.fit(x_train, y_train)\n",
    "\n",
    "y_pred = model.predict(x_test)\n",
    "\n",
    "print(\"Accuracy of Random Forest Classifier: {}%\".format(round(accuracy_score(y_test, y_pred)*100,2)))\n",
    "print(\"\\nConfusion Matrix of Random Forest Classifier:\\n\")\n",
    "print(confusion_matrix(y_test, y_pred))\n",
    "print(\"\\nClassification Report of Random Forest Classifier:\\n\")\n",
    "print(classification_report(y_test, y_pred))"
   ]
  },
  {
   "cell_type": "code",
   "execution_count": 23,
   "metadata": {},
   "outputs": [
    {
     "name": "stdout",
     "output_type": "stream",
     "text": [
      "Fitting 3 folds for each of 128 candidates, totalling 384 fits\n"
     ]
    },
    {
     "name": "stderr",
     "output_type": "stream",
     "text": [
      "[Parallel(n_jobs=-1)]: Using backend LokyBackend with 8 concurrent workers.\n",
      "[Parallel(n_jobs=-1)]: Done  25 tasks      | elapsed:   15.2s\n",
      "[Parallel(n_jobs=-1)]: Done 146 tasks      | elapsed:  1.7min\n",
      "[Parallel(n_jobs=-1)]: Done 349 tasks      | elapsed:  4.2min\n",
      "[Parallel(n_jobs=-1)]: Done 384 out of 384 | elapsed:  4.7min finished\n"
     ]
    },
    {
     "name": "stdout",
     "output_type": "stream",
     "text": [
      "{'bootstrap': True, 'max_depth': 10, 'max_features': 2, 'min_samples_leaf': 3, 'min_samples_split': 5, 'n_estimators': 1000}\n",
      "Accuracy: 32.88888888888889\n",
      "\n",
      "Confusion Matrix:\n",
      " [[66 57 42]\n",
      " [37 26 26]\n",
      " [80 60 56]]\n",
      "\n",
      "Classification Report:\n",
      "               precision    recall  f1-score   support\n",
      "\n",
      "          -1       0.36      0.40      0.38       165\n",
      "           0       0.18      0.29      0.22        89\n",
      "           1       0.45      0.29      0.35       196\n",
      "\n",
      "    accuracy                           0.33       450\n",
      "   macro avg       0.33      0.33      0.32       450\n",
      "weighted avg       0.36      0.33      0.34       450\n",
      "\n"
     ]
    }
   ],
   "source": [
    "# Create the parameter grid  \n",
    "param_grid = {\n",
    "    'bootstrap': [True],\n",
    "    'max_depth': [10,15],\n",
    "    'max_features': [2, 3],\n",
    "    'min_samples_leaf': [3, 4, 5, 6],\n",
    "    'min_samples_split': [3, 4, 5, 6],\n",
    "    'n_estimators': [1000, 1300]\n",
    "}\n",
    "# Create a based model\n",
    "rf = RandomForestClassifier()\n",
    "# Instantiate the grid search model\n",
    "grid_search = GridSearchCV(estimator = rf, param_grid = param_grid, \n",
    "                          cv = 3, n_jobs = -1, verbose = 2, scoring = 'f1_weighted')\n",
    "\n",
    "# Fit the grid search to the data\n",
    "grid_search.fit(x_train,y_train)\n",
    "\n",
    "print(grid_search.best_params_)\n",
    "\n",
    "best_grid = grid_search.best_estimator_\n",
    "\n",
    "evaluate(best_grid,x_test,y_test)"
   ]
  },
  {
   "cell_type": "markdown",
   "metadata": {},
   "source": [
    "## Light Gradient Boosting Machine"
   ]
  },
  {
   "cell_type": "code",
   "execution_count": 20,
   "metadata": {},
   "outputs": [
    {
     "name": "stdout",
     "output_type": "stream",
     "text": [
      "Accuracy of Light Gradient Boosting Method Classifier: 33.33%\n",
      "\n",
      "Confusion Matrix of Light Gradient Boosting Method Classifier:\n",
      "\n",
      "[[65 57 43]\n",
      " [34 31 24]\n",
      " [83 59 54]]\n",
      "\n",
      "Classification Report of Light Gradient Boosting Method Classifier:\n",
      "\n",
      "              precision    recall  f1-score   support\n",
      "\n",
      "          -1       0.36      0.39      0.37       165\n",
      "           0       0.21      0.35      0.26        89\n",
      "           1       0.45      0.28      0.34       196\n",
      "\n",
      "    accuracy                           0.33       450\n",
      "   macro avg       0.34      0.34      0.33       450\n",
      "weighted avg       0.37      0.33      0.34       450\n",
      "\n"
     ]
    }
   ],
   "source": [
    "classifier = LGBMClassifier(objective='multiclass', random_state=0, n_jobs=-1)\n",
    "classifier.fit(x_train, y_train)\n",
    "\n",
    "y_pred = classifier.predict(x_test)\n",
    "\n",
    "print(\"Accuracy of Light Gradient Boosting Method Classifier: {}%\".format(round(accuracy_score(y_test, y_pred)*100,2)))\n",
    "print(\"\\nConfusion Matrix of Light Gradient Boosting Method Classifier:\\n\")\n",
    "print(confusion_matrix(y_test, y_pred))\n",
    "print(\"\\nClassification Report of Light Gradient Boosting Method Classifier:\\n\")\n",
    "print(classification_report(y_test, y_pred))"
   ]
  },
  {
   "cell_type": "code",
   "execution_count": 25,
   "metadata": {},
   "outputs": [
    {
     "name": "stdout",
     "output_type": "stream",
     "text": [
      "Fitting 3 folds for each of 168 candidates, totalling 504 fits\n"
     ]
    },
    {
     "name": "stderr",
     "output_type": "stream",
     "text": [
      "[Parallel(n_jobs=-1)]: Using backend LokyBackend with 8 concurrent workers.\n",
      "[Parallel(n_jobs=-1)]: Done  25 tasks      | elapsed:    0.8s\n",
      "[Parallel(n_jobs=-1)]: Done 204 tasks      | elapsed:    3.8s\n"
     ]
    },
    {
     "name": "stdout",
     "output_type": "stream",
     "text": [
      "[LightGBM] [Warning] min_data_in_leaf is set=10, min_child_samples=20 will be ignored. Current value: min_data_in_leaf=10\n",
      "[LightGBM] [Warning] lambda_l1 is set=0.1, reg_alpha=0.1 will be ignored. Current value: lambda_l1=0.1\n",
      "[LightGBM] [Warning] lambda_l2 is set=0.0, reg_lambda=0.0 will be ignored. Current value: lambda_l2=0.0\n",
      "{'lambda_l1': 0.1, 'lambda_l2': 0.0, 'min_data_in_leaf': 10, 'num_leaves': 31, 'reg_alpha': 0.1}\n",
      "Accuracy: 34.88888888888889\n",
      "\n",
      "Confusion Matrix:\n",
      " [[66 56 43]\n",
      " [34 28 27]\n",
      " [78 55 63]]\n",
      "\n",
      "Classification Report:\n",
      "               precision    recall  f1-score   support\n",
      "\n",
      "          -1       0.37      0.40      0.38       165\n",
      "           0       0.20      0.31      0.25        89\n",
      "           1       0.47      0.32      0.38       196\n",
      "\n",
      "    accuracy                           0.35       450\n",
      "   macro avg       0.35      0.35      0.34       450\n",
      "weighted avg       0.38      0.35      0.36       450\n",
      "\n"
     ]
    },
    {
     "name": "stderr",
     "output_type": "stream",
     "text": [
      "[Parallel(n_jobs=-1)]: Done 504 out of 504 | elapsed:    7.2s finished\n"
     ]
    }
   ],
   "source": [
    "# Create the parameter grid  \n",
    "param_grid = {\n",
    "    'num_leaves': [31, 127],\n",
    "    'reg_alpha': [0.1, 0.5],\n",
    "    'min_data_in_leaf': [10, 20, 30, 50, 100, 300, 400],\n",
    "    'lambda_l1': [0.1, 1, 1.5],\n",
    "    'lambda_l2': [0.0, 1]\n",
    "}\n",
    "# Create a based model\n",
    "lgbm = LGBMClassifier(boosting_type='gbdt',  objective='multiclass', random_state=0, n_jobs=-1)\n",
    "# Instantiate the grid search model\n",
    "grid_search = GridSearchCV(estimator = lgbm, param_grid = param_grid, \n",
    "                          cv = 3, n_jobs = -1, verbose = 2, scoring = 'f1_weighted')\n",
    "\n",
    "# Fit the grid search to the data\n",
    "grid_search.fit(x_train,y_train)\n",
    "\n",
    "print(grid_search.best_params_)\n",
    "\n",
    "best_grid = grid_search.best_estimator_\n",
    "\n",
    "evaluate(best_grid,x_test,y_test)"
   ]
  },
  {
   "cell_type": "markdown",
   "metadata": {},
   "source": [
    "## Artificial Neural Network (ANN)"
   ]
  },
  {
   "cell_type": "code",
   "execution_count": 48,
   "metadata": {},
   "outputs": [],
   "source": [
    "X_train_ann, y_train_ann, X_test_ann, y_test_ann = x_train, y_train, x_test, y_test \n",
    "\n",
    "class_labels = [-1, 0, 1]\n",
    "y_train_ann = y_train_ann.apply(lambda x: class_labels.index(x))\n",
    "y_test_ann = y_test_ann.apply(lambda x: class_labels.index(x))"
   ]
  },
  {
   "cell_type": "code",
   "execution_count": 49,
   "metadata": {},
   "outputs": [
    {
     "name": "stdout",
     "output_type": "stream",
     "text": [
      "Fitting 3 folds for each of 216 candidates, totalling 648 fits\n"
     ]
    },
    {
     "name": "stderr",
     "output_type": "stream",
     "text": [
      "[Parallel(n_jobs=-1)]: Using backend LokyBackend with 4 concurrent workers.\n",
      "[Parallel(n_jobs=-1)]: Done  33 tasks      | elapsed:   34.7s\n",
      "[Parallel(n_jobs=-1)]: Done 154 tasks      | elapsed:  2.5min\n",
      "[Parallel(n_jobs=-1)]: Done 357 tasks      | elapsed:  5.5min\n",
      "[Parallel(n_jobs=-1)]: Done 640 tasks      | elapsed:  9.8min\n",
      "[Parallel(n_jobs=-1)]: Done 648 out of 648 | elapsed:  9.9min finished\n"
     ]
    },
    {
     "name": "stdout",
     "output_type": "stream",
     "text": [
      "Train on 2211 samples\n",
      "Epoch 1/30\n",
      "2211/2211 [==============================] - 1s 227us/sample - loss: 1.1098 - accuracy: 0.3171\n",
      "Epoch 2/30\n",
      "2211/2211 [==============================] - 0s 40us/sample - loss: 1.0986 - accuracy: 0.3559\n",
      "Epoch 3/30\n",
      "2211/2211 [==============================] - 0s 40us/sample - loss: 1.0924 - accuracy: 0.3863\n",
      "Epoch 4/30\n",
      "2211/2211 [==============================] - 0s 37us/sample - loss: 1.0884 - accuracy: 0.3971\n",
      "Epoch 5/30\n",
      "2211/2211 [==============================] - 0s 38us/sample - loss: 1.0853 - accuracy: 0.4075\n",
      "Epoch 6/30\n",
      "2211/2211 [==============================] - 0s 38us/sample - loss: 1.0810 - accuracy: 0.4251\n",
      "Epoch 7/30\n",
      "2211/2211 [==============================] - 0s 38us/sample - loss: 1.0776 - accuracy: 0.4170\n",
      "Epoch 8/30\n",
      "2211/2211 [==============================] - 0s 36us/sample - loss: 1.0747 - accuracy: 0.4224\n",
      "Epoch 9/30\n",
      "2211/2211 [==============================] - 0s 38us/sample - loss: 1.0718 - accuracy: 0.4184\n",
      "Epoch 10/30\n",
      "2211/2211 [==============================] - 0s 40us/sample - loss: 1.0681 - accuracy: 0.4401\n",
      "Epoch 11/30\n",
      "2211/2211 [==============================] - 0s 38us/sample - loss: 1.0655 - accuracy: 0.4396\n",
      "Epoch 12/30\n",
      "2211/2211 [==============================] - 0s 41us/sample - loss: 1.0634 - accuracy: 0.4360\n",
      "Epoch 13/30\n",
      "2211/2211 [==============================] - 0s 42us/sample - loss: 1.0617 - accuracy: 0.4369\n",
      "Epoch 14/30\n",
      "2211/2211 [==============================] - 0s 41us/sample - loss: 1.0592 - accuracy: 0.4414\n",
      "Epoch 15/30\n",
      "2211/2211 [==============================] - 0s 46us/sample - loss: 1.0573 - accuracy: 0.4423\n",
      "Epoch 16/30\n",
      "2211/2211 [==============================] - 0s 46us/sample - loss: 1.0569 - accuracy: 0.4460\n",
      "Epoch 17/30\n",
      "2211/2211 [==============================] - 0s 38us/sample - loss: 1.0537 - accuracy: 0.4487\n",
      "Epoch 18/30\n",
      "2211/2211 [==============================] - 0s 39us/sample - loss: 1.0524 - accuracy: 0.4473\n",
      "Epoch 19/30\n",
      "2211/2211 [==============================] - 0s 38us/sample - loss: 1.0511 - accuracy: 0.4432\n",
      "Epoch 20/30\n",
      "2211/2211 [==============================] - 0s 45us/sample - loss: 1.0509 - accuracy: 0.4487\n",
      "Epoch 21/30\n",
      "2211/2211 [==============================] - 0s 43us/sample - loss: 1.0490 - accuracy: 0.4437\n",
      "Epoch 22/30\n",
      "2211/2211 [==============================] - 0s 45us/sample - loss: 1.0475 - accuracy: 0.4532\n",
      "Epoch 23/30\n",
      "2211/2211 [==============================] - 0s 41us/sample - loss: 1.0466 - accuracy: 0.4568\n",
      "Epoch 24/30\n",
      "2211/2211 [==============================] - 0s 42us/sample - loss: 1.0461 - accuracy: 0.4450\n",
      "Epoch 25/30\n",
      "2211/2211 [==============================] - 0s 41us/sample - loss: 1.0442 - accuracy: 0.4536\n",
      "Epoch 26/30\n",
      "2211/2211 [==============================] - 0s 42us/sample - loss: 1.0432 - accuracy: 0.4518\n",
      "Epoch 27/30\n",
      "2211/2211 [==============================] - 0s 42us/sample - loss: 1.0414 - accuracy: 0.4555\n",
      "Epoch 28/30\n",
      "2211/2211 [==============================] - 0s 42us/sample - loss: 1.0409 - accuracy: 0.4523\n",
      "Epoch 29/30\n",
      "2211/2211 [==============================] - 0s 44us/sample - loss: 1.0400 - accuracy: 0.4600\n",
      "Epoch 30/30\n",
      "2211/2211 [==============================] - 0s 41us/sample - loss: 1.0399 - accuracy: 0.4609\n",
      "Best: 0.294171 using {'activation': 'relu', 'dropout_rate': 0.0, 'neurons1': 32, 'neurons2': 32, 'optimizer': 'Adam'}\n",
      "0.066710 (0.005582) with: {'activation': 'softmax', 'dropout_rate': 0.0, 'neurons1': 8, 'neurons2': 8, 'optimizer': 'SGD'}\n",
      "0.087176 (0.023575) with: {'activation': 'softmax', 'dropout_rate': 0.0, 'neurons1': 8, 'neurons2': 8, 'optimizer': 'Adam'}\n",
      "0.066710 (0.005582) with: {'activation': 'softmax', 'dropout_rate': 0.0, 'neurons1': 8, 'neurons2': 16, 'optimizer': 'SGD'}\n",
      "0.066710 (0.005582) with: {'activation': 'softmax', 'dropout_rate': 0.0, 'neurons1': 8, 'neurons2': 16, 'optimizer': 'Adam'}\n",
      "0.066710 (0.005582) with: {'activation': 'softmax', 'dropout_rate': 0.0, 'neurons1': 8, 'neurons2': 32, 'optimizer': 'SGD'}\n",
      "0.066710 (0.005582) with: {'activation': 'softmax', 'dropout_rate': 0.0, 'neurons1': 8, 'neurons2': 32, 'optimizer': 'Adam'}\n",
      "0.066710 (0.005582) with: {'activation': 'softmax', 'dropout_rate': 0.0, 'neurons1': 16, 'neurons2': 8, 'optimizer': 'SGD'}\n",
      "0.066710 (0.005582) with: {'activation': 'softmax', 'dropout_rate': 0.0, 'neurons1': 16, 'neurons2': 8, 'optimizer': 'Adam'}\n",
      "0.066710 (0.005582) with: {'activation': 'softmax', 'dropout_rate': 0.0, 'neurons1': 16, 'neurons2': 16, 'optimizer': 'SGD'}\n",
      "0.066710 (0.005582) with: {'activation': 'softmax', 'dropout_rate': 0.0, 'neurons1': 16, 'neurons2': 16, 'optimizer': 'Adam'}\n",
      "0.066710 (0.005582) with: {'activation': 'softmax', 'dropout_rate': 0.0, 'neurons1': 16, 'neurons2': 32, 'optimizer': 'SGD'}\n",
      "0.066710 (0.005582) with: {'activation': 'softmax', 'dropout_rate': 0.0, 'neurons1': 16, 'neurons2': 32, 'optimizer': 'Adam'}\n",
      "0.066710 (0.005582) with: {'activation': 'softmax', 'dropout_rate': 0.0, 'neurons1': 32, 'neurons2': 8, 'optimizer': 'SGD'}\n",
      "0.072804 (0.003496) with: {'activation': 'softmax', 'dropout_rate': 0.0, 'neurons1': 32, 'neurons2': 8, 'optimizer': 'Adam'}\n",
      "0.066710 (0.005582) with: {'activation': 'softmax', 'dropout_rate': 0.0, 'neurons1': 32, 'neurons2': 16, 'optimizer': 'SGD'}\n",
      "0.066710 (0.005582) with: {'activation': 'softmax', 'dropout_rate': 0.0, 'neurons1': 32, 'neurons2': 16, 'optimizer': 'Adam'}\n",
      "0.066710 (0.005582) with: {'activation': 'softmax', 'dropout_rate': 0.0, 'neurons1': 32, 'neurons2': 32, 'optimizer': 'SGD'}\n",
      "0.066710 (0.005582) with: {'activation': 'softmax', 'dropout_rate': 0.0, 'neurons1': 32, 'neurons2': 32, 'optimizer': 'Adam'}\n",
      "0.066710 (0.005582) with: {'activation': 'softmax', 'dropout_rate': 0.1, 'neurons1': 8, 'neurons2': 8, 'optimizer': 'SGD'}\n",
      "0.066710 (0.005582) with: {'activation': 'softmax', 'dropout_rate': 0.1, 'neurons1': 8, 'neurons2': 8, 'optimizer': 'Adam'}\n",
      "0.066710 (0.005582) with: {'activation': 'softmax', 'dropout_rate': 0.1, 'neurons1': 8, 'neurons2': 16, 'optimizer': 'SGD'}\n",
      "0.066710 (0.005582) with: {'activation': 'softmax', 'dropout_rate': 0.1, 'neurons1': 8, 'neurons2': 16, 'optimizer': 'Adam'}\n",
      "0.066710 (0.005582) with: {'activation': 'softmax', 'dropout_rate': 0.1, 'neurons1': 8, 'neurons2': 32, 'optimizer': 'SGD'}\n",
      "0.066710 (0.005582) with: {'activation': 'softmax', 'dropout_rate': 0.1, 'neurons1': 8, 'neurons2': 32, 'optimizer': 'Adam'}\n",
      "0.066710 (0.005582) with: {'activation': 'softmax', 'dropout_rate': 0.1, 'neurons1': 16, 'neurons2': 8, 'optimizer': 'SGD'}\n",
      "0.066710 (0.005582) with: {'activation': 'softmax', 'dropout_rate': 0.1, 'neurons1': 16, 'neurons2': 8, 'optimizer': 'Adam'}\n",
      "0.066710 (0.005582) with: {'activation': 'softmax', 'dropout_rate': 0.1, 'neurons1': 16, 'neurons2': 16, 'optimizer': 'SGD'}\n",
      "0.066710 (0.005582) with: {'activation': 'softmax', 'dropout_rate': 0.1, 'neurons1': 16, 'neurons2': 16, 'optimizer': 'Adam'}\n",
      "0.066710 (0.005582) with: {'activation': 'softmax', 'dropout_rate': 0.1, 'neurons1': 16, 'neurons2': 32, 'optimizer': 'SGD'}\n",
      "0.066710 (0.005582) with: {'activation': 'softmax', 'dropout_rate': 0.1, 'neurons1': 16, 'neurons2': 32, 'optimizer': 'Adam'}\n",
      "0.066710 (0.005582) with: {'activation': 'softmax', 'dropout_rate': 0.1, 'neurons1': 32, 'neurons2': 8, 'optimizer': 'SGD'}\n",
      "0.066710 (0.005582) with: {'activation': 'softmax', 'dropout_rate': 0.1, 'neurons1': 32, 'neurons2': 8, 'optimizer': 'Adam'}\n",
      "0.066710 (0.005582) with: {'activation': 'softmax', 'dropout_rate': 0.1, 'neurons1': 32, 'neurons2': 16, 'optimizer': 'SGD'}\n",
      "0.066710 (0.005582) with: {'activation': 'softmax', 'dropout_rate': 0.1, 'neurons1': 32, 'neurons2': 16, 'optimizer': 'Adam'}\n",
      "0.066710 (0.005582) with: {'activation': 'softmax', 'dropout_rate': 0.1, 'neurons1': 32, 'neurons2': 32, 'optimizer': 'SGD'}\n",
      "0.066710 (0.005582) with: {'activation': 'softmax', 'dropout_rate': 0.1, 'neurons1': 32, 'neurons2': 32, 'optimizer': 'Adam'}\n",
      "0.066710 (0.005582) with: {'activation': 'softmax', 'dropout_rate': 0.2, 'neurons1': 8, 'neurons2': 8, 'optimizer': 'SGD'}\n",
      "0.066710 (0.005582) with: {'activation': 'softmax', 'dropout_rate': 0.2, 'neurons1': 8, 'neurons2': 8, 'optimizer': 'Adam'}\n",
      "0.066710 (0.005582) with: {'activation': 'softmax', 'dropout_rate': 0.2, 'neurons1': 8, 'neurons2': 16, 'optimizer': 'SGD'}\n",
      "0.066710 (0.005582) with: {'activation': 'softmax', 'dropout_rate': 0.2, 'neurons1': 8, 'neurons2': 16, 'optimizer': 'Adam'}\n",
      "0.066710 (0.005582) with: {'activation': 'softmax', 'dropout_rate': 0.2, 'neurons1': 8, 'neurons2': 32, 'optimizer': 'SGD'}\n",
      "0.066710 (0.005582) with: {'activation': 'softmax', 'dropout_rate': 0.2, 'neurons1': 8, 'neurons2': 32, 'optimizer': 'Adam'}\n",
      "0.066710 (0.005582) with: {'activation': 'softmax', 'dropout_rate': 0.2, 'neurons1': 16, 'neurons2': 8, 'optimizer': 'SGD'}\n",
      "0.066710 (0.005582) with: {'activation': 'softmax', 'dropout_rate': 0.2, 'neurons1': 16, 'neurons2': 8, 'optimizer': 'Adam'}\n",
      "0.066710 (0.005582) with: {'activation': 'softmax', 'dropout_rate': 0.2, 'neurons1': 16, 'neurons2': 16, 'optimizer': 'SGD'}\n",
      "0.067702 (0.004239) with: {'activation': 'softmax', 'dropout_rate': 0.2, 'neurons1': 16, 'neurons2': 16, 'optimizer': 'Adam'}\n",
      "0.066710 (0.005582) with: {'activation': 'softmax', 'dropout_rate': 0.2, 'neurons1': 16, 'neurons2': 32, 'optimizer': 'SGD'}\n",
      "0.066710 (0.005582) with: {'activation': 'softmax', 'dropout_rate': 0.2, 'neurons1': 16, 'neurons2': 32, 'optimizer': 'Adam'}\n",
      "0.066710 (0.005582) with: {'activation': 'softmax', 'dropout_rate': 0.2, 'neurons1': 32, 'neurons2': 8, 'optimizer': 'SGD'}\n",
      "0.066710 (0.005582) with: {'activation': 'softmax', 'dropout_rate': 0.2, 'neurons1': 32, 'neurons2': 8, 'optimizer': 'Adam'}\n",
      "0.066710 (0.005582) with: {'activation': 'softmax', 'dropout_rate': 0.2, 'neurons1': 32, 'neurons2': 16, 'optimizer': 'SGD'}\n",
      "0.066710 (0.005582) with: {'activation': 'softmax', 'dropout_rate': 0.2, 'neurons1': 32, 'neurons2': 16, 'optimizer': 'Adam'}\n",
      "0.066710 (0.005582) with: {'activation': 'softmax', 'dropout_rate': 0.2, 'neurons1': 32, 'neurons2': 32, 'optimizer': 'SGD'}\n",
      "0.066710 (0.005582) with: {'activation': 'softmax', 'dropout_rate': 0.2, 'neurons1': 32, 'neurons2': 32, 'optimizer': 'Adam'}\n",
      "0.126168 (0.033933) with: {'activation': 'relu', 'dropout_rate': 0.0, 'neurons1': 8, 'neurons2': 8, 'optimizer': 'SGD'}\n",
      "0.179704 (0.051690) with: {'activation': 'relu', 'dropout_rate': 0.0, 'neurons1': 8, 'neurons2': 8, 'optimizer': 'Adam'}\n",
      "0.113633 (0.016474) with: {'activation': 'relu', 'dropout_rate': 0.0, 'neurons1': 8, 'neurons2': 16, 'optimizer': 'SGD'}\n",
      "0.218145 (0.059291) with: {'activation': 'relu', 'dropout_rate': 0.0, 'neurons1': 8, 'neurons2': 16, 'optimizer': 'Adam'}\n",
      "0.125628 (0.020868) with: {'activation': 'relu', 'dropout_rate': 0.0, 'neurons1': 8, 'neurons2': 32, 'optimizer': 'SGD'}\n",
      "0.248629 (0.086507) with: {'activation': 'relu', 'dropout_rate': 0.0, 'neurons1': 8, 'neurons2': 32, 'optimizer': 'Adam'}\n",
      "0.128351 (0.022659) with: {'activation': 'relu', 'dropout_rate': 0.0, 'neurons1': 16, 'neurons2': 8, 'optimizer': 'SGD'}\n",
      "0.251599 (0.072184) with: {'activation': 'relu', 'dropout_rate': 0.0, 'neurons1': 16, 'neurons2': 8, 'optimizer': 'Adam'}\n",
      "0.141533 (0.024459) with: {'activation': 'relu', 'dropout_rate': 0.0, 'neurons1': 16, 'neurons2': 16, 'optimizer': 'SGD'}\n",
      "0.274204 (0.055463) with: {'activation': 'relu', 'dropout_rate': 0.0, 'neurons1': 16, 'neurons2': 16, 'optimizer': 'Adam'}\n",
      "0.128681 (0.017963) with: {'activation': 'relu', 'dropout_rate': 0.0, 'neurons1': 16, 'neurons2': 32, 'optimizer': 'SGD'}\n",
      "0.263565 (0.078499) with: {'activation': 'relu', 'dropout_rate': 0.0, 'neurons1': 16, 'neurons2': 32, 'optimizer': 'Adam'}\n",
      "0.105592 (0.023974) with: {'activation': 'relu', 'dropout_rate': 0.0, 'neurons1': 32, 'neurons2': 8, 'optimizer': 'SGD'}\n",
      "0.256437 (0.075968) with: {'activation': 'relu', 'dropout_rate': 0.0, 'neurons1': 32, 'neurons2': 8, 'optimizer': 'Adam'}\n",
      "0.145777 (0.029584) with: {'activation': 'relu', 'dropout_rate': 0.0, 'neurons1': 32, 'neurons2': 16, 'optimizer': 'SGD'}\n",
      "0.274962 (0.062705) with: {'activation': 'relu', 'dropout_rate': 0.0, 'neurons1': 32, 'neurons2': 16, 'optimizer': 'Adam'}\n",
      "0.122056 (0.015250) with: {'activation': 'relu', 'dropout_rate': 0.0, 'neurons1': 32, 'neurons2': 32, 'optimizer': 'SGD'}\n",
      "0.294171 (0.067364) with: {'activation': 'relu', 'dropout_rate': 0.0, 'neurons1': 32, 'neurons2': 32, 'optimizer': 'Adam'}\n",
      "0.104119 (0.020895) with: {'activation': 'relu', 'dropout_rate': 0.1, 'neurons1': 8, 'neurons2': 8, 'optimizer': 'SGD'}\n",
      "0.157703 (0.037972) with: {'activation': 'relu', 'dropout_rate': 0.1, 'neurons1': 8, 'neurons2': 8, 'optimizer': 'Adam'}\n",
      "0.078707 (0.011641) with: {'activation': 'relu', 'dropout_rate': 0.1, 'neurons1': 8, 'neurons2': 16, 'optimizer': 'SGD'}\n",
      "0.192818 (0.039541) with: {'activation': 'relu', 'dropout_rate': 0.1, 'neurons1': 8, 'neurons2': 16, 'optimizer': 'Adam'}\n",
      "0.098430 (0.020162) with: {'activation': 'relu', 'dropout_rate': 0.1, 'neurons1': 8, 'neurons2': 32, 'optimizer': 'SGD'}\n",
      "0.227315 (0.032857) with: {'activation': 'relu', 'dropout_rate': 0.1, 'neurons1': 8, 'neurons2': 32, 'optimizer': 'Adam'}\n",
      "0.090765 (0.012300) with: {'activation': 'relu', 'dropout_rate': 0.1, 'neurons1': 16, 'neurons2': 8, 'optimizer': 'SGD'}\n",
      "0.226098 (0.068832) with: {'activation': 'relu', 'dropout_rate': 0.1, 'neurons1': 16, 'neurons2': 8, 'optimizer': 'Adam'}\n",
      "0.122107 (0.037709) with: {'activation': 'relu', 'dropout_rate': 0.1, 'neurons1': 16, 'neurons2': 16, 'optimizer': 'SGD'}\n",
      "0.231370 (0.073728) with: {'activation': 'relu', 'dropout_rate': 0.1, 'neurons1': 16, 'neurons2': 16, 'optimizer': 'Adam'}\n",
      "0.126138 (0.006571) with: {'activation': 'relu', 'dropout_rate': 0.1, 'neurons1': 16, 'neurons2': 32, 'optimizer': 'SGD'}\n",
      "0.263077 (0.065824) with: {'activation': 'relu', 'dropout_rate': 0.1, 'neurons1': 16, 'neurons2': 32, 'optimizer': 'Adam'}\n",
      "0.098144 (0.024471) with: {'activation': 'relu', 'dropout_rate': 0.1, 'neurons1': 32, 'neurons2': 8, 'optimizer': 'SGD'}\n",
      "0.229614 (0.067375) with: {'activation': 'relu', 'dropout_rate': 0.1, 'neurons1': 32, 'neurons2': 8, 'optimizer': 'Adam'}\n",
      "0.125811 (0.032594) with: {'activation': 'relu', 'dropout_rate': 0.1, 'neurons1': 32, 'neurons2': 16, 'optimizer': 'SGD'}\n",
      "0.256540 (0.072946) with: {'activation': 'relu', 'dropout_rate': 0.1, 'neurons1': 32, 'neurons2': 16, 'optimizer': 'Adam'}\n",
      "0.122174 (0.019213) with: {'activation': 'relu', 'dropout_rate': 0.1, 'neurons1': 32, 'neurons2': 32, 'optimizer': 'SGD'}\n",
      "0.287412 (0.059699) with: {'activation': 'relu', 'dropout_rate': 0.1, 'neurons1': 32, 'neurons2': 32, 'optimizer': 'Adam'}\n",
      "0.092136 (0.018818) with: {'activation': 'relu', 'dropout_rate': 0.2, 'neurons1': 8, 'neurons2': 8, 'optimizer': 'SGD'}\n",
      "0.156863 (0.025230) with: {'activation': 'relu', 'dropout_rate': 0.2, 'neurons1': 8, 'neurons2': 8, 'optimizer': 'Adam'}\n",
      "0.114753 (0.020840) with: {'activation': 'relu', 'dropout_rate': 0.2, 'neurons1': 8, 'neurons2': 16, 'optimizer': 'SGD'}\n",
      "0.174145 (0.037793) with: {'activation': 'relu', 'dropout_rate': 0.2, 'neurons1': 8, 'neurons2': 16, 'optimizer': 'Adam'}\n",
      "0.092435 (0.019735) with: {'activation': 'relu', 'dropout_rate': 0.2, 'neurons1': 8, 'neurons2': 32, 'optimizer': 'SGD'}\n",
      "0.178743 (0.033951) with: {'activation': 'relu', 'dropout_rate': 0.2, 'neurons1': 8, 'neurons2': 32, 'optimizer': 'Adam'}\n",
      "0.089252 (0.021223) with: {'activation': 'relu', 'dropout_rate': 0.2, 'neurons1': 16, 'neurons2': 8, 'optimizer': 'SGD'}\n",
      "0.190867 (0.038933) with: {'activation': 'relu', 'dropout_rate': 0.2, 'neurons1': 16, 'neurons2': 8, 'optimizer': 'Adam'}\n",
      "0.107166 (0.015963) with: {'activation': 'relu', 'dropout_rate': 0.2, 'neurons1': 16, 'neurons2': 16, 'optimizer': 'SGD'}\n",
      "0.232987 (0.058426) with: {'activation': 'relu', 'dropout_rate': 0.2, 'neurons1': 16, 'neurons2': 16, 'optimizer': 'Adam'}\n",
      "0.089883 (0.019982) with: {'activation': 'relu', 'dropout_rate': 0.2, 'neurons1': 16, 'neurons2': 32, 'optimizer': 'SGD'}\n",
      "0.224366 (0.068762) with: {'activation': 'relu', 'dropout_rate': 0.2, 'neurons1': 16, 'neurons2': 32, 'optimizer': 'Adam'}\n",
      "0.104760 (0.018921) with: {'activation': 'relu', 'dropout_rate': 0.2, 'neurons1': 32, 'neurons2': 8, 'optimizer': 'SGD'}\n",
      "0.214613 (0.071520) with: {'activation': 'relu', 'dropout_rate': 0.2, 'neurons1': 32, 'neurons2': 8, 'optimizer': 'Adam'}\n",
      "0.138280 (0.035507) with: {'activation': 'relu', 'dropout_rate': 0.2, 'neurons1': 32, 'neurons2': 16, 'optimizer': 'SGD'}\n",
      "0.237009 (0.065184) with: {'activation': 'relu', 'dropout_rate': 0.2, 'neurons1': 32, 'neurons2': 16, 'optimizer': 'Adam'}\n",
      "0.104519 (0.006797) with: {'activation': 'relu', 'dropout_rate': 0.2, 'neurons1': 32, 'neurons2': 32, 'optimizer': 'SGD'}\n",
      "0.245786 (0.086864) with: {'activation': 'relu', 'dropout_rate': 0.2, 'neurons1': 32, 'neurons2': 32, 'optimizer': 'Adam'}\n",
      "0.143611 (0.026528) with: {'activation': 'tanh', 'dropout_rate': 0.0, 'neurons1': 8, 'neurons2': 8, 'optimizer': 'SGD'}\n",
      "0.169371 (0.039105) with: {'activation': 'tanh', 'dropout_rate': 0.0, 'neurons1': 8, 'neurons2': 8, 'optimizer': 'Adam'}\n",
      "0.128127 (0.018288) with: {'activation': 'tanh', 'dropout_rate': 0.0, 'neurons1': 8, 'neurons2': 16, 'optimizer': 'SGD'}\n",
      "0.157898 (0.036068) with: {'activation': 'tanh', 'dropout_rate': 0.0, 'neurons1': 8, 'neurons2': 16, 'optimizer': 'Adam'}\n",
      "0.117410 (0.023193) with: {'activation': 'tanh', 'dropout_rate': 0.0, 'neurons1': 8, 'neurons2': 32, 'optimizer': 'SGD'}\n",
      "0.179362 (0.050506) with: {'activation': 'tanh', 'dropout_rate': 0.0, 'neurons1': 8, 'neurons2': 32, 'optimizer': 'Adam'}\n",
      "0.162686 (0.036541) with: {'activation': 'tanh', 'dropout_rate': 0.0, 'neurons1': 16, 'neurons2': 8, 'optimizer': 'SGD'}\n",
      "0.194974 (0.045453) with: {'activation': 'tanh', 'dropout_rate': 0.0, 'neurons1': 16, 'neurons2': 8, 'optimizer': 'Adam'}\n",
      "0.160215 (0.024465) with: {'activation': 'tanh', 'dropout_rate': 0.0, 'neurons1': 16, 'neurons2': 16, 'optimizer': 'SGD'}\n",
      "0.191084 (0.055534) with: {'activation': 'tanh', 'dropout_rate': 0.0, 'neurons1': 16, 'neurons2': 16, 'optimizer': 'Adam'}\n",
      "0.133839 (0.015375) with: {'activation': 'tanh', 'dropout_rate': 0.0, 'neurons1': 16, 'neurons2': 32, 'optimizer': 'SGD'}\n",
      "0.172463 (0.044684) with: {'activation': 'tanh', 'dropout_rate': 0.0, 'neurons1': 16, 'neurons2': 32, 'optimizer': 'Adam'}\n",
      "0.155342 (0.024437) with: {'activation': 'tanh', 'dropout_rate': 0.0, 'neurons1': 32, 'neurons2': 8, 'optimizer': 'SGD'}\n",
      "0.178402 (0.024640) with: {'activation': 'tanh', 'dropout_rate': 0.0, 'neurons1': 32, 'neurons2': 8, 'optimizer': 'Adam'}\n",
      "0.141724 (0.024115) with: {'activation': 'tanh', 'dropout_rate': 0.0, 'neurons1': 32, 'neurons2': 16, 'optimizer': 'SGD'}\n",
      "0.190753 (0.049788) with: {'activation': 'tanh', 'dropout_rate': 0.0, 'neurons1': 32, 'neurons2': 16, 'optimizer': 'Adam'}\n",
      "0.180012 (0.036958) with: {'activation': 'tanh', 'dropout_rate': 0.0, 'neurons1': 32, 'neurons2': 32, 'optimizer': 'SGD'}\n",
      "0.198386 (0.042182) with: {'activation': 'tanh', 'dropout_rate': 0.0, 'neurons1': 32, 'neurons2': 32, 'optimizer': 'Adam'}\n",
      "0.125059 (0.010118) with: {'activation': 'tanh', 'dropout_rate': 0.1, 'neurons1': 8, 'neurons2': 8, 'optimizer': 'SGD'}\n",
      "0.171381 (0.035213) with: {'activation': 'tanh', 'dropout_rate': 0.1, 'neurons1': 8, 'neurons2': 8, 'optimizer': 'Adam'}\n",
      "0.140130 (0.054584) with: {'activation': 'tanh', 'dropout_rate': 0.1, 'neurons1': 8, 'neurons2': 16, 'optimizer': 'SGD'}\n",
      "0.161437 (0.029410) with: {'activation': 'tanh', 'dropout_rate': 0.1, 'neurons1': 8, 'neurons2': 16, 'optimizer': 'Adam'}\n",
      "0.127125 (0.003292) with: {'activation': 'tanh', 'dropout_rate': 0.1, 'neurons1': 8, 'neurons2': 32, 'optimizer': 'SGD'}\n",
      "0.195589 (0.063232) with: {'activation': 'tanh', 'dropout_rate': 0.1, 'neurons1': 8, 'neurons2': 32, 'optimizer': 'Adam'}\n",
      "0.153527 (0.018685) with: {'activation': 'tanh', 'dropout_rate': 0.1, 'neurons1': 16, 'neurons2': 8, 'optimizer': 'SGD'}\n",
      "0.168337 (0.037734) with: {'activation': 'tanh', 'dropout_rate': 0.1, 'neurons1': 16, 'neurons2': 8, 'optimizer': 'Adam'}\n",
      "0.133711 (0.020179) with: {'activation': 'tanh', 'dropout_rate': 0.1, 'neurons1': 16, 'neurons2': 16, 'optimizer': 'SGD'}\n",
      "0.176018 (0.042036) with: {'activation': 'tanh', 'dropout_rate': 0.1, 'neurons1': 16, 'neurons2': 16, 'optimizer': 'Adam'}\n",
      "0.118393 (0.018225) with: {'activation': 'tanh', 'dropout_rate': 0.1, 'neurons1': 16, 'neurons2': 32, 'optimizer': 'SGD'}\n",
      "0.165969 (0.034577) with: {'activation': 'tanh', 'dropout_rate': 0.1, 'neurons1': 16, 'neurons2': 32, 'optimizer': 'Adam'}\n",
      "0.144463 (0.030422) with: {'activation': 'tanh', 'dropout_rate': 0.1, 'neurons1': 32, 'neurons2': 8, 'optimizer': 'SGD'}\n",
      "0.179539 (0.030061) with: {'activation': 'tanh', 'dropout_rate': 0.1, 'neurons1': 32, 'neurons2': 8, 'optimizer': 'Adam'}\n",
      "0.142828 (0.018602) with: {'activation': 'tanh', 'dropout_rate': 0.1, 'neurons1': 32, 'neurons2': 16, 'optimizer': 'SGD'}\n",
      "0.207196 (0.037354) with: {'activation': 'tanh', 'dropout_rate': 0.1, 'neurons1': 32, 'neurons2': 16, 'optimizer': 'Adam'}\n",
      "0.162308 (0.030374) with: {'activation': 'tanh', 'dropout_rate': 0.1, 'neurons1': 32, 'neurons2': 32, 'optimizer': 'SGD'}\n",
      "0.161895 (0.024096) with: {'activation': 'tanh', 'dropout_rate': 0.1, 'neurons1': 32, 'neurons2': 32, 'optimizer': 'Adam'}\n",
      "0.129132 (0.015124) with: {'activation': 'tanh', 'dropout_rate': 0.2, 'neurons1': 8, 'neurons2': 8, 'optimizer': 'SGD'}\n",
      "0.159564 (0.024938) with: {'activation': 'tanh', 'dropout_rate': 0.2, 'neurons1': 8, 'neurons2': 8, 'optimizer': 'Adam'}\n",
      "0.125968 (0.028589) with: {'activation': 'tanh', 'dropout_rate': 0.2, 'neurons1': 8, 'neurons2': 16, 'optimizer': 'SGD'}\n",
      "0.166515 (0.027089) with: {'activation': 'tanh', 'dropout_rate': 0.2, 'neurons1': 8, 'neurons2': 16, 'optimizer': 'Adam'}\n",
      "0.103977 (0.011307) with: {'activation': 'tanh', 'dropout_rate': 0.2, 'neurons1': 8, 'neurons2': 32, 'optimizer': 'SGD'}\n",
      "0.158710 (0.028867) with: {'activation': 'tanh', 'dropout_rate': 0.2, 'neurons1': 8, 'neurons2': 32, 'optimizer': 'Adam'}\n",
      "0.132859 (0.009321) with: {'activation': 'tanh', 'dropout_rate': 0.2, 'neurons1': 16, 'neurons2': 8, 'optimizer': 'SGD'}\n",
      "0.163411 (0.030047) with: {'activation': 'tanh', 'dropout_rate': 0.2, 'neurons1': 16, 'neurons2': 8, 'optimizer': 'Adam'}\n",
      "0.154830 (0.023707) with: {'activation': 'tanh', 'dropout_rate': 0.2, 'neurons1': 16, 'neurons2': 16, 'optimizer': 'SGD'}\n",
      "0.161518 (0.028707) with: {'activation': 'tanh', 'dropout_rate': 0.2, 'neurons1': 16, 'neurons2': 16, 'optimizer': 'Adam'}\n",
      "0.133545 (0.016144) with: {'activation': 'tanh', 'dropout_rate': 0.2, 'neurons1': 16, 'neurons2': 32, 'optimizer': 'SGD'}\n",
      "0.188190 (0.047245) with: {'activation': 'tanh', 'dropout_rate': 0.2, 'neurons1': 16, 'neurons2': 32, 'optimizer': 'Adam'}\n",
      "0.151110 (0.019625) with: {'activation': 'tanh', 'dropout_rate': 0.2, 'neurons1': 32, 'neurons2': 8, 'optimizer': 'SGD'}\n",
      "0.172150 (0.030799) with: {'activation': 'tanh', 'dropout_rate': 0.2, 'neurons1': 32, 'neurons2': 8, 'optimizer': 'Adam'}\n",
      "0.148349 (0.031648) with: {'activation': 'tanh', 'dropout_rate': 0.2, 'neurons1': 32, 'neurons2': 16, 'optimizer': 'SGD'}\n",
      "0.164085 (0.027216) with: {'activation': 'tanh', 'dropout_rate': 0.2, 'neurons1': 32, 'neurons2': 16, 'optimizer': 'Adam'}\n",
      "0.172027 (0.049332) with: {'activation': 'tanh', 'dropout_rate': 0.2, 'neurons1': 32, 'neurons2': 32, 'optimizer': 'SGD'}\n",
      "0.195647 (0.048715) with: {'activation': 'tanh', 'dropout_rate': 0.2, 'neurons1': 32, 'neurons2': 32, 'optimizer': 'Adam'}\n",
      "0.070332 (0.001415) with: {'activation': 'sigmoid', 'dropout_rate': 0.0, 'neurons1': 8, 'neurons2': 8, 'optimizer': 'SGD'}\n",
      "0.093861 (0.016195) with: {'activation': 'sigmoid', 'dropout_rate': 0.0, 'neurons1': 8, 'neurons2': 8, 'optimizer': 'Adam'}\n",
      "0.069073 (0.002489) with: {'activation': 'sigmoid', 'dropout_rate': 0.0, 'neurons1': 8, 'neurons2': 16, 'optimizer': 'SGD'}\n",
      "0.081977 (0.016241) with: {'activation': 'sigmoid', 'dropout_rate': 0.0, 'neurons1': 8, 'neurons2': 16, 'optimizer': 'Adam'}\n",
      "0.066710 (0.005582) with: {'activation': 'sigmoid', 'dropout_rate': 0.0, 'neurons1': 8, 'neurons2': 32, 'optimizer': 'SGD'}\n",
      "0.092325 (0.019141) with: {'activation': 'sigmoid', 'dropout_rate': 0.0, 'neurons1': 8, 'neurons2': 32, 'optimizer': 'Adam'}\n",
      "0.079243 (0.012394) with: {'activation': 'sigmoid', 'dropout_rate': 0.0, 'neurons1': 16, 'neurons2': 8, 'optimizer': 'SGD'}\n",
      "0.093673 (0.021421) with: {'activation': 'sigmoid', 'dropout_rate': 0.0, 'neurons1': 16, 'neurons2': 8, 'optimizer': 'Adam'}\n",
      "0.081539 (0.015625) with: {'activation': 'sigmoid', 'dropout_rate': 0.0, 'neurons1': 16, 'neurons2': 16, 'optimizer': 'SGD'}\n",
      "0.097049 (0.020324) with: {'activation': 'sigmoid', 'dropout_rate': 0.0, 'neurons1': 16, 'neurons2': 16, 'optimizer': 'Adam'}\n",
      "0.066710 (0.005582) with: {'activation': 'sigmoid', 'dropout_rate': 0.0, 'neurons1': 16, 'neurons2': 32, 'optimizer': 'SGD'}\n",
      "0.110635 (0.007162) with: {'activation': 'sigmoid', 'dropout_rate': 0.0, 'neurons1': 16, 'neurons2': 32, 'optimizer': 'Adam'}\n",
      "0.066710 (0.005582) with: {'activation': 'sigmoid', 'dropout_rate': 0.0, 'neurons1': 32, 'neurons2': 8, 'optimizer': 'SGD'}\n",
      "0.110791 (0.018187) with: {'activation': 'sigmoid', 'dropout_rate': 0.0, 'neurons1': 32, 'neurons2': 8, 'optimizer': 'Adam'}\n",
      "0.086420 (0.022509) with: {'activation': 'sigmoid', 'dropout_rate': 0.0, 'neurons1': 32, 'neurons2': 16, 'optimizer': 'SGD'}\n",
      "0.136713 (0.017260) with: {'activation': 'sigmoid', 'dropout_rate': 0.0, 'neurons1': 32, 'neurons2': 16, 'optimizer': 'Adam'}\n",
      "0.072284 (0.002836) with: {'activation': 'sigmoid', 'dropout_rate': 0.0, 'neurons1': 32, 'neurons2': 32, 'optimizer': 'SGD'}\n",
      "0.144901 (0.024348) with: {'activation': 'sigmoid', 'dropout_rate': 0.0, 'neurons1': 32, 'neurons2': 32, 'optimizer': 'Adam'}\n",
      "0.067506 (0.004501) with: {'activation': 'sigmoid', 'dropout_rate': 0.1, 'neurons1': 8, 'neurons2': 8, 'optimizer': 'SGD'}\n",
      "0.084675 (0.014391) with: {'activation': 'sigmoid', 'dropout_rate': 0.1, 'neurons1': 8, 'neurons2': 8, 'optimizer': 'Adam'}\n",
      "0.068826 (0.002786) with: {'activation': 'sigmoid', 'dropout_rate': 0.1, 'neurons1': 8, 'neurons2': 16, 'optimizer': 'SGD'}\n",
      "0.077789 (0.008625) with: {'activation': 'sigmoid', 'dropout_rate': 0.1, 'neurons1': 8, 'neurons2': 16, 'optimizer': 'Adam'}\n",
      "0.084876 (0.020330) with: {'activation': 'sigmoid', 'dropout_rate': 0.1, 'neurons1': 8, 'neurons2': 32, 'optimizer': 'SGD'}\n",
      "0.077323 (0.013604) with: {'activation': 'sigmoid', 'dropout_rate': 0.1, 'neurons1': 8, 'neurons2': 32, 'optimizer': 'Adam'}\n",
      "0.084959 (0.020446) with: {'activation': 'sigmoid', 'dropout_rate': 0.1, 'neurons1': 16, 'neurons2': 8, 'optimizer': 'SGD'}\n",
      "0.085032 (0.020550) with: {'activation': 'sigmoid', 'dropout_rate': 0.1, 'neurons1': 16, 'neurons2': 8, 'optimizer': 'Adam'}\n",
      "0.079081 (0.012166) with: {'activation': 'sigmoid', 'dropout_rate': 0.1, 'neurons1': 16, 'neurons2': 16, 'optimizer': 'SGD'}\n",
      "0.085041 (0.020562) with: {'activation': 'sigmoid', 'dropout_rate': 0.1, 'neurons1': 16, 'neurons2': 16, 'optimizer': 'Adam'}\n",
      "0.082898 (0.017540) with: {'activation': 'sigmoid', 'dropout_rate': 0.1, 'neurons1': 16, 'neurons2': 32, 'optimizer': 'SGD'}\n",
      "0.085457 (0.012034) with: {'activation': 'sigmoid', 'dropout_rate': 0.1, 'neurons1': 16, 'neurons2': 32, 'optimizer': 'Adam'}\n",
      "0.073861 (0.004905) with: {'activation': 'sigmoid', 'dropout_rate': 0.1, 'neurons1': 32, 'neurons2': 8, 'optimizer': 'SGD'}\n",
      "0.106029 (0.014641) with: {'activation': 'sigmoid', 'dropout_rate': 0.1, 'neurons1': 32, 'neurons2': 8, 'optimizer': 'Adam'}\n",
      "0.079489 (0.012740) with: {'activation': 'sigmoid', 'dropout_rate': 0.1, 'neurons1': 32, 'neurons2': 16, 'optimizer': 'SGD'}\n",
      "0.098984 (0.017227) with: {'activation': 'sigmoid', 'dropout_rate': 0.1, 'neurons1': 32, 'neurons2': 16, 'optimizer': 'Adam'}\n",
      "0.066710 (0.005582) with: {'activation': 'sigmoid', 'dropout_rate': 0.1, 'neurons1': 32, 'neurons2': 32, 'optimizer': 'SGD'}\n",
      "0.119856 (0.003800) with: {'activation': 'sigmoid', 'dropout_rate': 0.1, 'neurons1': 32, 'neurons2': 32, 'optimizer': 'Adam'}\n",
      "0.069350 (0.002174) with: {'activation': 'sigmoid', 'dropout_rate': 0.2, 'neurons1': 8, 'neurons2': 8, 'optimizer': 'SGD'}\n",
      "0.066710 (0.005582) with: {'activation': 'sigmoid', 'dropout_rate': 0.2, 'neurons1': 8, 'neurons2': 8, 'optimizer': 'Adam'}\n",
      "0.085812 (0.021650) with: {'activation': 'sigmoid', 'dropout_rate': 0.2, 'neurons1': 8, 'neurons2': 16, 'optimizer': 'SGD'}\n",
      "0.070928 (0.001493) with: {'activation': 'sigmoid', 'dropout_rate': 0.2, 'neurons1': 8, 'neurons2': 16, 'optimizer': 'Adam'}\n",
      "0.074627 (0.005951) with: {'activation': 'sigmoid', 'dropout_rate': 0.2, 'neurons1': 8, 'neurons2': 32, 'optimizer': 'SGD'}\n",
      "0.088530 (0.025488) with: {'activation': 'sigmoid', 'dropout_rate': 0.2, 'neurons1': 8, 'neurons2': 32, 'optimizer': 'Adam'}\n",
      "0.066710 (0.005582) with: {'activation': 'sigmoid', 'dropout_rate': 0.2, 'neurons1': 16, 'neurons2': 8, 'optimizer': 'SGD'}\n",
      "0.082090 (0.016400) with: {'activation': 'sigmoid', 'dropout_rate': 0.2, 'neurons1': 16, 'neurons2': 8, 'optimizer': 'Adam'}\n",
      "0.085206 (0.020796) with: {'activation': 'sigmoid', 'dropout_rate': 0.2, 'neurons1': 16, 'neurons2': 16, 'optimizer': 'SGD'}\n",
      "0.084640 (0.012719) with: {'activation': 'sigmoid', 'dropout_rate': 0.2, 'neurons1': 16, 'neurons2': 16, 'optimizer': 'Adam'}\n",
      "0.066710 (0.005582) with: {'activation': 'sigmoid', 'dropout_rate': 0.2, 'neurons1': 16, 'neurons2': 32, 'optimizer': 'SGD'}\n",
      "0.097503 (0.022942) with: {'activation': 'sigmoid', 'dropout_rate': 0.2, 'neurons1': 16, 'neurons2': 32, 'optimizer': 'Adam'}\n",
      "0.072776 (0.003460) with: {'activation': 'sigmoid', 'dropout_rate': 0.2, 'neurons1': 32, 'neurons2': 8, 'optimizer': 'SGD'}\n",
      "0.089532 (0.016221) with: {'activation': 'sigmoid', 'dropout_rate': 0.2, 'neurons1': 32, 'neurons2': 8, 'optimizer': 'Adam'}\n",
      "0.083243 (0.018027) with: {'activation': 'sigmoid', 'dropout_rate': 0.2, 'neurons1': 32, 'neurons2': 16, 'optimizer': 'SGD'}\n",
      "0.089920 (0.014619) with: {'activation': 'sigmoid', 'dropout_rate': 0.2, 'neurons1': 32, 'neurons2': 16, 'optimizer': 'Adam'}\n",
      "0.066710 (0.005582) with: {'activation': 'sigmoid', 'dropout_rate': 0.2, 'neurons1': 32, 'neurons2': 32, 'optimizer': 'SGD'}\n",
      "0.144467 (0.026791) with: {'activation': 'sigmoid', 'dropout_rate': 0.2, 'neurons1': 32, 'neurons2': 32, 'optimizer': 'Adam'}\n"
     ]
    }
   ],
   "source": [
    "def create_ann_model(optimizer, activation, dropout_rate, neurons1, neurons2):\n",
    "    # create model\n",
    "    model = tf.keras.Sequential()\n",
    "    model.add(layers.Dense(neurons1, input_dim=len(X_train_ann.columns), activation=activation))\n",
    "    model.add(layers.Dropout(dropout_rate))\n",
    "    model.add(layers.Dense(neurons2, activation=activation))\n",
    "    model.add(layers.Dense(3))\n",
    "    # Compile model\n",
    "    \n",
    "    model.compile(optimizer=optimizer,\n",
    "              loss=keras.losses.SparseCategoricalCrossentropy(from_logits=True),\n",
    "              metrics=['accuracy'])\n",
    "    return model\n",
    "\n",
    "# create model\n",
    "model = KerasClassifier(build_fn=create_ann_model, epochs=30)\n",
    "\n",
    "# define the grid search parameters\n",
    "optimizer = ['SGD', 'Adam']\n",
    "activation = ['softmax', 'relu', 'tanh', 'sigmoid']\n",
    "dropout_rate = [0.0, 0.1, 0.2]\n",
    "neurons1 = [8, 16, 32]\n",
    "neurons2 = [8, 16, 32]\n",
    "param_grid = dict(optimizer=optimizer, activation=activation, dropout_rate=dropout_rate, neurons1=neurons1, neurons2=neurons2)\n",
    "grid = GridSearchCV(estimator=model, param_grid=param_grid, n_jobs=-1, cv=3, scoring='f1_weighted', verbose=2)\n",
    "grid_result = grid.fit(X_train_ann, y_train_ann)\n",
    "\n",
    "# summarize results\n",
    "print(\"Best: %f using %s\" % (grid_result.best_score_, grid_result.best_params_))\n",
    "means = grid_result.cv_results_['mean_test_score']\n",
    "stds = grid_result.cv_results_['std_test_score']\n",
    "params = grid_result.cv_results_['params']\n",
    "for mean, stdev, param in zip(means, stds, params):\n",
    "    print(\"%f (%f) with: %r\" % (mean, stdev, param))"
   ]
  },
  {
   "cell_type": "code",
   "execution_count": 50,
   "metadata": {},
   "outputs": [],
   "source": [
    "def create_ann_model_tuned():\n",
    "    # create model\n",
    "    model = tf.keras.Sequential()\n",
    "    model.add(layers.Dense(32, input_dim=len(X_train_ann.columns), activation='relu'))\n",
    "    model.add(layers.Dense(32, activation='relu'))\n",
    "    model.add(layers.Dense(3))\n",
    "    # Compile model\n",
    "    model.compile(optimizer='Adam',\n",
    "              loss=keras.losses.SparseCategoricalCrossentropy(from_logits=True),\n",
    "              metrics=['accuracy'])\n",
    "    return model"
   ]
  },
  {
   "cell_type": "code",
   "execution_count": 51,
   "metadata": {},
   "outputs": [
    {
     "name": "stdout",
     "output_type": "stream",
     "text": [
      "Model: \"sequential_1\"\n",
      "_________________________________________________________________\n",
      "Layer (type)                 Output Shape              Param #   \n",
      "=================================================================\n",
      "dense_3 (Dense)              (None, 32)                608       \n",
      "_________________________________________________________________\n",
      "dense_4 (Dense)              (None, 32)                1056      \n",
      "_________________________________________________________________\n",
      "dense_5 (Dense)              (None, 3)                 99        \n",
      "=================================================================\n",
      "Total params: 1,763\n",
      "Trainable params: 1,763\n",
      "Non-trainable params: 0\n",
      "_________________________________________________________________\n"
     ]
    }
   ],
   "source": [
    "ann_model = create_ann_model_tuned()\n",
    "ann_model.summary()"
   ]
  },
  {
   "cell_type": "code",
   "execution_count": 52,
   "metadata": {},
   "outputs": [
    {
     "name": "stdout",
     "output_type": "stream",
     "text": [
      "Train on 1481 samples, validate on 730 samples\n",
      "Epoch 1/30\n",
      "1280/1481 [========================>.....] - ETA: 0s - loss: 1.0746 - accuracy: 0.4008 \n",
      "Epoch 00001: val_loss improved from inf to 1.28462, saving model to ./ann_classification/ann_classification_21112020 2039h.h5\n",
      "1481/1481 [==============================] - 1s 626us/sample - loss: 1.0751 - accuracy: 0.3997 - val_loss: 1.2846 - val_accuracy: 0.2096\n",
      "Epoch 2/30\n",
      "1344/1481 [==========================>...] - ETA: 0s - loss: 1.0661 - accuracy: 0.4107\n",
      "Epoch 00002: val_loss improved from 1.28462 to 1.27578, saving model to ./ann_classification/ann_classification_21112020 2039h.h5\n",
      "1481/1481 [==============================] - 0s 74us/sample - loss: 1.0633 - accuracy: 0.4132 - val_loss: 1.2758 - val_accuracy: 0.2151\n",
      "Epoch 3/30\n",
      "1344/1481 [==========================>...] - ETA: 0s - loss: 1.0519 - accuracy: 0.4234\n",
      "Epoch 00003: val_loss did not improve from 1.27578\n",
      "1481/1481 [==============================] - 0s 60us/sample - loss: 1.0574 - accuracy: 0.4166 - val_loss: 1.2865 - val_accuracy: 0.2205\n",
      "Epoch 4/30\n",
      "1440/1481 [============================>.] - ETA: 0s - loss: 1.0524 - accuracy: 0.4375\n",
      "Epoch 00004: val_loss did not improve from 1.27578\n",
      "1481/1481 [==============================] - 0s 56us/sample - loss: 1.0524 - accuracy: 0.4382 - val_loss: 1.2961 - val_accuracy: 0.2260\n",
      "Epoch 5/30\n",
      "1408/1481 [===========================>..] - ETA: 0s - loss: 1.0499 - accuracy: 0.4354\n",
      "Epoch 00005: val_loss did not improve from 1.27578\n",
      "1481/1481 [==============================] - 0s 58us/sample - loss: 1.0494 - accuracy: 0.4342 - val_loss: 1.2920 - val_accuracy: 0.2301\n",
      "Epoch 6/30\n",
      "1472/1481 [============================>.] - ETA: 0s - loss: 1.0463 - accuracy: 0.4402\n",
      "Epoch 00006: val_loss did not improve from 1.27578\n",
      "1481/1481 [==============================] - 0s 57us/sample - loss: 1.0455 - accuracy: 0.4409 - val_loss: 1.2825 - val_accuracy: 0.2219\n",
      "Epoch 7/30\n",
      "1312/1481 [=========================>....] - ETA: 0s - loss: 1.0426 - accuracy: 0.4451\n",
      "Epoch 00007: val_loss did not improve from 1.27578\n",
      "1481/1481 [==============================] - 0s 63us/sample - loss: 1.0429 - accuracy: 0.4456 - val_loss: 1.2866 - val_accuracy: 0.2233\n",
      "Epoch 8/30\n",
      "1408/1481 [===========================>..] - ETA: 0s - loss: 1.0417 - accuracy: 0.4489\n",
      "Epoch 00008: val_loss did not improve from 1.27578\n",
      "1481/1481 [==============================] - 0s 57us/sample - loss: 1.0403 - accuracy: 0.4443 - val_loss: 1.2843 - val_accuracy: 0.2274\n",
      "Epoch 9/30\n",
      "1376/1481 [==========================>...] - ETA: 0s - loss: 1.0362 - accuracy: 0.4571\n",
      "Epoch 00009: val_loss did not improve from 1.27578\n",
      "1481/1481 [==============================] - 0s 58us/sample - loss: 1.0378 - accuracy: 0.4524 - val_loss: 1.2836 - val_accuracy: 0.2260\n",
      "Epoch 10/30\n",
      "1312/1481 [=========================>....] - ETA: 0s - loss: 1.0408 - accuracy: 0.4466\n",
      "Epoch 00010: val_loss did not improve from 1.27578\n",
      "1481/1481 [==============================] - 0s 62us/sample - loss: 1.0371 - accuracy: 0.4490 - val_loss: 1.2977 - val_accuracy: 0.2274\n",
      "Epoch 11/30\n",
      "1408/1481 [===========================>..] - ETA: 0s - loss: 1.0351 - accuracy: 0.4361\n",
      "Epoch 00011: val_loss improved from 1.27578 to 1.27121, saving model to ./ann_classification/ann_classification_21112020 2039h.h5\n",
      "1481/1481 [==============================] - 0s 70us/sample - loss: 1.0344 - accuracy: 0.4396 - val_loss: 1.2712 - val_accuracy: 0.2301\n",
      "Epoch 12/30\n",
      "1344/1481 [==========================>...] - ETA: 0s - loss: 1.0302 - accuracy: 0.4501\n",
      "Epoch 00012: val_loss did not improve from 1.27121\n",
      "1481/1481 [==============================] - 0s 60us/sample - loss: 1.0312 - accuracy: 0.4477 - val_loss: 1.2745 - val_accuracy: 0.2315\n",
      "Epoch 13/30\n",
      "1344/1481 [==========================>...] - ETA: 0s - loss: 1.0267 - accuracy: 0.4524\n",
      "Epoch 00013: val_loss improved from 1.27121 to 1.25993, saving model to ./ann_classification/ann_classification_21112020 2039h.h5\n",
      "1481/1481 [==============================] - 0s 69us/sample - loss: 1.0292 - accuracy: 0.4497 - val_loss: 1.2599 - val_accuracy: 0.2301\n",
      "Epoch 14/30\n",
      "1440/1481 [============================>.] - ETA: 0s - loss: 1.0257 - accuracy: 0.4528\n",
      "Epoch 00014: val_loss improved from 1.25993 to 1.25056, saving model to ./ann_classification/ann_classification_21112020 2039h.h5\n",
      "1481/1481 [==============================] - 0s 67us/sample - loss: 1.0277 - accuracy: 0.4510 - val_loss: 1.2506 - val_accuracy: 0.2384\n",
      "Epoch 15/30\n",
      "1408/1481 [===========================>..] - ETA: 0s - loss: 1.0263 - accuracy: 0.4609\n",
      "Epoch 00015: val_loss did not improve from 1.25056\n",
      "1481/1481 [==============================] - 0s 59us/sample - loss: 1.0259 - accuracy: 0.4619 - val_loss: 1.2644 - val_accuracy: 0.2452\n",
      "Epoch 16/30\n",
      "1312/1481 [=========================>....] - ETA: 0s - loss: 1.0278 - accuracy: 0.4520\n",
      "Epoch 00016: val_loss did not improve from 1.25056\n",
      "1481/1481 [==============================] - 0s 60us/sample - loss: 1.0258 - accuracy: 0.4531 - val_loss: 1.2654 - val_accuracy: 0.2397\n",
      "Epoch 17/30\n",
      "1408/1481 [===========================>..] - ETA: 0s - loss: 1.0231 - accuracy: 0.4609\n",
      "Epoch 00017: val_loss did not improve from 1.25056\n",
      "1481/1481 [==============================] - 0s 58us/sample - loss: 1.0239 - accuracy: 0.4612 - val_loss: 1.2665 - val_accuracy: 0.2493\n",
      "Epoch 18/30\n",
      "1440/1481 [============================>.] - ETA: 0s - loss: 1.0218 - accuracy: 0.4590\n",
      "Epoch 00018: val_loss did not improve from 1.25056\n",
      "1481/1481 [==============================] - 0s 57us/sample - loss: 1.0216 - accuracy: 0.4564 - val_loss: 1.2696 - val_accuracy: 0.2562\n",
      "Epoch 19/30\n",
      "1408/1481 [===========================>..] - ETA: 0s - loss: 1.0181 - accuracy: 0.4688\n",
      "Epoch 00019: val_loss did not improve from 1.25056\n",
      "1481/1481 [==============================] - 0s 58us/sample - loss: 1.0215 - accuracy: 0.4605 - val_loss: 1.2602 - val_accuracy: 0.2548\n",
      "Epoch 20/30\n",
      "1376/1481 [==========================>...] - ETA: 0s - loss: 1.0185 - accuracy: 0.4651\n",
      "Epoch 00020: val_loss did not improve from 1.25056\n",
      "1481/1481 [==============================] - 0s 59us/sample - loss: 1.0188 - accuracy: 0.4673 - val_loss: 1.2623 - val_accuracy: 0.2603\n",
      "Epoch 21/30\n",
      "1440/1481 [============================>.] - ETA: 0s - loss: 1.0179 - accuracy: 0.4653\n",
      "Epoch 00021: val_loss did not improve from 1.25056\n",
      "1481/1481 [==============================] - 0s 59us/sample - loss: 1.0180 - accuracy: 0.4646 - val_loss: 1.2522 - val_accuracy: 0.2603\n",
      "Epoch 22/30\n",
      "1408/1481 [===========================>..] - ETA: 0s - loss: 1.0181 - accuracy: 0.4609\n",
      "Epoch 00022: val_loss did not improve from 1.25056\n",
      "1481/1481 [==============================] - 0s 57us/sample - loss: 1.0182 - accuracy: 0.4598 - val_loss: 1.2791 - val_accuracy: 0.2575\n",
      "Epoch 23/30\n",
      "1248/1481 [========================>.....] - ETA: 0s - loss: 1.0115 - accuracy: 0.4712\n",
      "Epoch 00023: val_loss improved from 1.25056 to 1.25004, saving model to ./ann_classification/ann_classification_21112020 2039h.h5\n",
      "1481/1481 [==============================] - 0s 72us/sample - loss: 1.0154 - accuracy: 0.4693 - val_loss: 1.2500 - val_accuracy: 0.2671\n",
      "Epoch 24/30\n",
      "1440/1481 [============================>.] - ETA: 0s - loss: 1.0178 - accuracy: 0.4674\n",
      "Epoch 00024: val_loss improved from 1.25004 to 1.24744, saving model to ./ann_classification/ann_classification_21112020 2039h.h5\n",
      "1481/1481 [==============================] - 0s 68us/sample - loss: 1.0166 - accuracy: 0.4706 - val_loss: 1.2474 - val_accuracy: 0.2575\n",
      "Epoch 25/30\n",
      "1408/1481 [===========================>..] - ETA: 0s - loss: 1.0117 - accuracy: 0.4751\n",
      "Epoch 00025: val_loss did not improve from 1.24744\n",
      "1481/1481 [==============================] - 0s 57us/sample - loss: 1.0148 - accuracy: 0.4713 - val_loss: 1.2528 - val_accuracy: 0.2589\n",
      "Epoch 26/30\n",
      "1408/1481 [===========================>..] - ETA: 0s - loss: 1.0111 - accuracy: 0.4723\n",
      "Epoch 00026: val_loss did not improve from 1.24744\n",
      "1481/1481 [==============================] - 0s 59us/sample - loss: 1.0136 - accuracy: 0.4666 - val_loss: 1.2758 - val_accuracy: 0.2575\n",
      "Epoch 27/30\n",
      "1248/1481 [========================>.....] - ETA: 0s - loss: 1.0158 - accuracy: 0.4679\n",
      "Epoch 00027: val_loss did not improve from 1.24744\n",
      "1481/1481 [==============================] - 0s 62us/sample - loss: 1.0134 - accuracy: 0.4720 - val_loss: 1.2599 - val_accuracy: 0.2575\n"
     ]
    },
    {
     "name": "stdout",
     "output_type": "stream",
     "text": [
      "Epoch 28/30\n",
      "1280/1481 [========================>.....] - ETA: 0s - loss: 1.0151 - accuracy: 0.4727\n",
      "Epoch 00028: val_loss did not improve from 1.24744\n",
      "1481/1481 [==============================] - 0s 65us/sample - loss: 1.0128 - accuracy: 0.4740 - val_loss: 1.2642 - val_accuracy: 0.2548\n",
      "Epoch 29/30\n",
      "1248/1481 [========================>.....] - ETA: 0s - loss: 1.0116 - accuracy: 0.4712\n",
      "Epoch 00029: val_loss did not improve from 1.24744\n",
      "1481/1481 [==============================] - 0s 60us/sample - loss: 1.0123 - accuracy: 0.4693 - val_loss: 1.2554 - val_accuracy: 0.2671\n",
      "Epoch 30/30\n",
      "1472/1481 [============================>.] - ETA: 0s - loss: 1.0112 - accuracy: 0.4694\n",
      "Epoch 00030: val_loss did not improve from 1.24744\n",
      "1481/1481 [==============================] - 0s 56us/sample - loss: 1.0110 - accuracy: 0.4686 - val_loss: 1.2564 - val_accuracy: 0.2753\n"
     ]
    }
   ],
   "source": [
    "now = dt.datetime.now()\n",
    "dt_string = now.strftime(\"%d%m%Y %H%Mh\")\n",
    "\n",
    "ann_checkpoint_filepath = f'../models/ann_classification/ann_classification_{dt_string}.h5'\n",
    "model_checkpoint_callback = keras.callbacks.ModelCheckpoint(\n",
    "    filepath=ann_checkpoint_filepath,\n",
    "    save_weights_only=True,\n",
    "    monitor='val_loss',\n",
    "    mode='min',\n",
    "    verbose = 1,\n",
    "    save_best_only=True) \n",
    "\n",
    "ann_model_history = ann_model.fit(X_train_ann, y_train_ann, validation_split=0.33, epochs=30, callbacks=[model_checkpoint_callback])"
   ]
  },
  {
   "cell_type": "code",
   "execution_count": 53,
   "metadata": {},
   "outputs": [],
   "source": [
    "ann_model_loaded = create_ann_model_tuned()\n",
    "ann_model_loaded.load_weights(ann_checkpoint_filepath)"
   ]
  },
  {
   "cell_type": "code",
   "execution_count": 54,
   "metadata": {},
   "outputs": [
    {
     "data": {
      "image/png": "[encoded data removed]",
      "text/plain": [
       "<Figure size 432x288 with 1 Axes>"
      ]
     },
     "metadata": {
      "needs_background": "light"
     },
     "output_type": "display_data"
    }
   ],
   "source": [
    "# summarize history for loss\n",
    "plt.plot(ann_model_history.history['loss'])\n",
    "plt.plot(ann_model_history.history['val_loss'])\n",
    "plt.title('model loss')\n",
    "plt.ylabel('loss')\n",
    "plt.xlabel('epoch')\n",
    "plt.legend(['train', 'test'], loc='upper left')\n",
    "plt.show()"
   ]
  },
  {
   "cell_type": "code",
   "execution_count": 55,
   "metadata": {},
   "outputs": [
    {
     "name": "stdout",
     "output_type": "stream",
     "text": [
      "              precision    recall  f1-score   support\n",
      "\n",
      "          -1       0.35      0.60      0.44       165\n",
      "           0       0.14      0.01      0.02        89\n",
      "           1       0.44      0.37      0.40       196\n",
      "\n",
      "    accuracy                           0.38       450\n",
      "   macro avg       0.31      0.33      0.29       450\n",
      "weighted avg       0.35      0.38      0.34       450\n",
      "\n"
     ]
    }
   ],
   "source": [
    "print(classification_report(y_test_ann, ann_model_loaded.predict_classes(X_test_ann), target_names=['-1', '0', '1']))"
   ]
  },
  {
   "cell_type": "markdown",
   "metadata": {},
   "source": [
    "## Baseline Classification Model (Random Guesser)"
   ]
  },
  {
   "cell_type": "code",
   "execution_count": 56,
   "metadata": {},
   "outputs": [
    {
     "name": "stdout",
     "output_type": "stream",
     "text": [
      "              precision    recall  f1-score   support\n",
      "\n",
      "          -1       0.42      0.38      0.40       165\n",
      "           0       0.20      0.35      0.25        89\n",
      "           1       0.43      0.33      0.37       196\n",
      "\n",
      "    accuracy                           0.35       450\n",
      "   macro avg       0.35      0.35      0.34       450\n",
      "weighted avg       0.38      0.35      0.36       450\n",
      "\n"
     ]
    }
   ],
   "source": [
    "print(classification_report(y_test, [random.choice([-1,0,1]) for i in range(len(y_test))], target_names=['-1', '0', '1']))"
   ]
  }
 ],
 "metadata": {
  "kernelspec": {
   "display_name": "Python 3",
   "language": "python",
   "name": "python3"
  },
  "language_info": {
   "codemirror_mode": {
    "name": "ipython",
    "version": 3
   },
   "file_extension": ".py",
   "mimetype": "text/x-python",
   "name": "python",
   "nbconvert_exporter": "python",
   "pygments_lexer": "ipython3",
   "version": "3.6.8"
  }
 },
 "nbformat": 4,
 "nbformat_minor": 4
}
